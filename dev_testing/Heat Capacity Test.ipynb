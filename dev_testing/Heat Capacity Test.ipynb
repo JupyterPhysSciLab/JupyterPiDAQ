{
 "cells": [
  {
   "cell_type": "code",
   "execution_count": 1,
   "id": "03f5264e",
   "metadata": {},
   "outputs": [
    {
     "data": {
      "text/html": [
       "<style type=\"text/css\">/*\n",
       "Not working well with other formatting\n",
       ".input_table {\n",
       "    padding: 0.1em 0.1em!important;\n",
       "}*/\n",
       "</style>"
      ],
      "text/plain": [
       "<IPython.core.display.HTML object>"
      ]
     },
     "metadata": {},
     "output_type": "display_data"
    },
    {
     "data": {
      "text/html": [
       "<script type=\"text/javascript\">//Javascript for input_table to use in Jupyter notebook\n",
       "//Jonathan Gutow <gutow@uwosh.edu> March 24, 2019\n",
       "// updates: October 31, 2020\n",
       "//license GPL V3 or greater.\n",
       "\n",
       "//Get input table dimensions and build\n",
       "function get_table_dim(){\n",
       "    Jupyter.notebook.insert_cell_below();\n",
       "    Jupyter.notebook.select_next(true);\n",
       "    Jupyter.notebook.focus_cell();\n",
       "    var currentcell = Jupyter.notebook.get_selected_cell();\n",
       "//    var htmlstr =`\n",
       "//    <div id=\"input_table_dim_dlg\" style=\"border:thick;border-color:red;border-style:solid;\">\n",
       "//      <div>Set table size remembering to include enough rows and columns for labels.</div>\n",
       "//      <table id=\"init_input_table_dim\"><tr>\n",
       "//        <td> Rows:</td><td><input id=\"init_row_dim\" type=\"text\" size=\"7\" value=\"2\"\n",
       "//          onblur=\"record_input(this)\"></input></td>\n",
       "//        <td>Columns:</td><td><input id=\"init_col_dim\" type=\"text\" size=\"7\" value=\"2\"\n",
       "//          onblur=\"record_input(this)\"></input></td>\n",
       "//        <td><button onclick=\"create_table()\">Create Table</button></td>\n",
       "//      </tr></table>\n",
       "//    </div>`\n",
       "\n",
       "    var instructions = \"Set table size remembering to include enough rows and columns for labels.\";\n",
       "    var fields = [\"Table Title (caption)\",\"Number of Rows\",\n",
       "    \"Number of Columns\"];\n",
       "    input_dialog(\"input_table_dim_dlg\", create_table,\"not used\", instructions,fields);\n",
       "    //currentcell.set_text('display(HTML(\"\"\"'+htmlstr+'\"\"\"))');\n",
       "    //currentcell.execute();\n",
       "}\n",
       "\n",
       "//Update html on change of cell content.\n",
       "function record_input(element){\n",
       "    var tempval = ''+element.value;//force to string\n",
       "    var tempsize = ''+element.size;\n",
       "    if (tempsize==null){tempsize='7'};\n",
       "    var tempclass = element.className;\n",
       "    if (tempclass==null){tempclass=''};\n",
       "    var tempid = element.id;\n",
       "    if (tempid==null){tempid=''};\n",
       "    var tempelem = document.createElement('input');\n",
       "    tempelem.className =tempclass;\n",
       "    tempelem.id=tempid;\n",
       "    tempelem.setAttribute('size',tempsize);\n",
       "    tempelem.setAttribute('value',tempval);\n",
       "    tempelem.setAttribute('onblur','record_input(this)');\n",
       "    element.replaceWith(tempelem);\n",
       "}\n",
       "\n",
       "// Convert table input element to fixed value.\n",
       "function input_element_to_fixed(element){\n",
       "    var tempelem =document.createElement('span');\n",
       "    tempelem.className=element.className;\n",
       "    tempelem.innerHTML = element.value;\n",
       "    element.replaceWith(tempelem);\n",
       "}\n",
       "\n",
       "function data_cell_to_input_cell(element){\n",
       "    var tempelem=document.createElement('input');\n",
       "    var tempsize = ''+element.size;\n",
       "    if (tempsize==null){tempsize='7'};\n",
       "    tempelem.setAttribute('size',tempsize);\n",
       "    var tempid = element.id;\n",
       "    if (tempid==null){tempid=''};\n",
       "    tempelem.id=tempid;\n",
       "    tempelem.className=element.className;\n",
       "    tempelem.setAttribute('value',element.innerHTML);\n",
       "    element.replaceWith(tempelem);\n",
       "}\n",
       "\n",
       "    \n",
       "function table_menu(tableID){\n",
       "    var menu = document.createElement('select');\n",
       "    menu.classList.add('form-control');\n",
       "    menu.classList.add('table-actions');\n",
       "    var actionstr = 'var lastvalue = this.value;';\n",
       "    actionstr+='this.value = \"Table Actions\";';\n",
       "    actionstr+='if(lastvalue==\"Edit Data\"){edit_input_table(\"'+tableID+'\");}';\n",
       "    actionstr+='if(lastvalue==\"Data to Pandas...\"){data_table_to_Pandas(\"'+tableID+'\");}';\n",
       "    menu.setAttribute('onchange',actionstr);\n",
       "    var optiontxt = '<option title=\"Things you can do to this table.\">Table Actions</option>';\n",
       "    optiontxt+='<option title=\"Start editing the data.\">Edit Data</option>';\n",
       "    optiontxt+='<option title=\"Create a Panda DataFrame from table.\">Data to Pandas...</option>';\n",
       "    menu.innerHTML=optiontxt;\n",
       "    return menu\n",
       "}\n",
       "\n",
       "function lock_labels(tableID){\n",
       "//Will need to use querySelectorAll(css)\n",
       "    var parentTable = document.getElementById(tableID);\n",
       "    var labelinputs = parentTable.querySelectorAll('.table_label');\n",
       "    for(var i=0;i<labelinputs.length;i++){\n",
       "        input_element_to_fixed(labelinputs[i]);\n",
       "    }\n",
       "    var lockbtn = parentTable.querySelector('.lock_btn');\n",
       "    //var tempelem = document.createElement('button');\n",
       "    //tempelem.classList.add('save_btn');\n",
       "    //var onclickstr = \"save_input_table('\"+tableID+\"')\"\n",
       "    //tempelem.setAttribute('onclick',onclickstr);\n",
       "    //tempelem.innerHTML='Save Updates';\n",
       "    var tempelem = table_menu(tableID);\n",
       "    lockbtn.replaceWith(tempelem);\n",
       "    save_input_table(tableID);\n",
       "}\n",
       "\n",
       "function input_table_prestr(){\n",
       "    var prestr='# If no data table appears in the output of this cell, run the cell to display the table.\\n\\n';\n",
       "    prestr+='try:\\n';\n",
       "    prestr+='    from input_table import *\\n';\n",
       "    prestr+='except (ImportError, FileNotFoundError) as e:\\n';\n",
       "    prestr+='    from IPython.display import HTML\\n';\n",
       "    prestr+='    print(\"Table editing will not work because `jupyter_datainputtable` module is not installed in python kernel\")\\n';\n",
       "    return prestr\n",
       "}\n",
       "\n",
       "//Create the table using the info collected in the dimension table.\n",
       "var create_table = '('+function (){\n",
       "/*\n",
       "    var nrows = document.getElementById(\"init_row_dim\").value;\n",
       "    var ncols = document.getElementById(\"init_col_dim\").value;\n",
       "*/\n",
       "    var dialog = document.getElementById(\"input_table_dim_dlg\");\n",
       "    var inputs = dialog.querySelectorAll(\"input\");\n",
       "    var caption = inputs[0].value;\n",
       "    var nrows = inputs[1].value;\n",
       "    var ncols = inputs[2].value;\n",
       "    var info = dialog.querySelectorAll(\"#post_pr_info\")[0].innerHTML;\n",
       "    dialog.remove();\n",
       "    //alert(nrows+', '+ncols)\n",
       "    var d = new Date();\n",
       "    var ID = \"it_\"+(Math.round(d.getTime()));\n",
       "    var labelClass = \"table_label\";\n",
       "    var dataCellClass=\"data_cell\";\n",
       "    var prestr = input_table_prestr();\n",
       "    var tempstr='<table class=\"input_table\" id=\"'+ID+'\">';\n",
       "    tempstr += '<caption>'+caption+'</caption><tbody>';\n",
       "    for(var i = 0; i < nrows; i++){\n",
       "        tempstr+=' <tr class=\"input_table r'+i+'\">';\n",
       "        for(var k = 0;k < ncols; k++){\n",
       "            if (k==0 && i==0){\n",
       "                tempstr+='  <th class=\"input_table r'+i+' c'+k+'\">';\n",
       "                tempstr+='<button class=\"lock_btn\" onclick=\"lock_labels(\\\\\\''+ID+'\\\\\\')\">';\n",
       "                tempstr+='Lock Column and Row Labels</button></th>';\n",
       "            }\n",
       "            if (k==0 && i>0){\n",
       "                tempstr+='<th class=\"input_table r'+i+' c'+k+'\">';\n",
       "                tempstr+='<input class=\"'+labelClass+'\" type=\"text\" size=\"7\" value=\"'+(i-1)+'\"';\n",
       "                tempstr+=' onblur=\"record_input(this)\"></input></th>';\n",
       "            }\n",
       "            if (i==0 && k>0){\n",
       "                tempstr+='<th class=\"input_table r'+i+' c'+k+'\">';\n",
       "                tempstr+='<input class=\"'+labelClass+'\" type=\"text\" size=\"15\" value=\"Col_'+(k-1)+'\"';\n",
       "                tempstr+=' onblur=\"record_input(this)\"></input></th>';\n",
       "            }\n",
       "            if (k>0 && i>0){\n",
       "                tempstr+='  <td class=\"input_table r'+i+' c'+k+'\">';\n",
       "                tempstr+='<input class=\"'+dataCellClass+'\" type=\"text\" size=\"7\"';\n",
       "                tempstr+=' onblur=\"record_input(this)\"></input></td>';\n",
       "            }\n",
       "        }\n",
       "        tempstr+=' </tr>';\n",
       "    }\n",
       "    tempstr+='</tbody></table>';\n",
       "    var currentcell = Jupyter.notebook.get_selected_cell();\n",
       "    currentcell.set_text(prestr+'display(HTML(\\''+tempstr+'\\'))');\n",
       "    //protect the cell so user cannot edit or delete the code without knowing \n",
       "    // what they are doing.\n",
       "    currentcell.metadata.editable=false;\n",
       "    currentcell.execute();\n",
       "}+')();';\n",
       "\n",
       "//Utility function that is not used because the Jupyter notebook cell indexing is maintained\n",
       "// independently of the DOM.\n",
       "function findAncestor (el, sel) {\n",
       "    while ((el = el.parentElement) && !((el.matches || el.matchesSelector).call(el,sel)));\n",
       "    return el;\n",
       "}\n",
       "\n",
       "function select_containing_cell(elem){\n",
       "    //Create a synthetic click in the cell to force selection of the cell containing the table\n",
       "    var event = new MouseEvent('click', {\n",
       "    view: window,\n",
       "    bubbles: true,\n",
       "    cancelable: true\n",
       "    });\n",
       "    var cancelled = !elem.dispatchEvent(event);\n",
       "    if (cancelled) {\n",
       "    // A handler called preventDefault.\n",
       "    alert(\"Something is wrong. Try running the cell that creates this table.\");\n",
       "    }    \n",
       "}\n",
       "//Allow editing of the unlocked table elements.\n",
       "function edit_input_table(tableID){\n",
       "    var table = document.getElementById(tableID);\n",
       "    select_containing_cell(table); //force selection of cell containing the table.\n",
       "    var currentcell = Jupyter.notebook.get_selected_cell();\n",
       "    var datainputs = table.querySelectorAll('.data_cell');\n",
       "    for(var i=0;i<datainputs.length;i++){\n",
       "        data_cell_to_input_cell(datainputs[i]);\n",
       "    }\n",
       "    var menu = table.querySelector('.table-actions');\n",
       "    var tempelem = document.createElement('button');\n",
       "    tempelem.classList.add('save_btn');\n",
       "    var onclickstr = \"save_input_table('\"+tableID+\"');\"\n",
       "    tempelem.setAttribute('onclick',onclickstr);\n",
       "    tempelem.innerHTML='Save Data';\n",
       "    menu.replaceWith(tempelem);\n",
       "}\n",
       "\n",
       "//Save table by making the code cell create it. Actuated by button.\n",
       "//***For this to work the following import need to be made into\n",
       "//   the jupyter notebook by the python code that utilizes this function:\n",
       "//   from IPython.display import HTML\n",
       "\n",
       "function save_input_table(tableID){\n",
       "    var table = document.getElementById(tableID);\n",
       "    select_containing_cell(table); //force selection of cell containing the table.\n",
       "    var currentcell = Jupyter.notebook.get_selected_cell();\n",
       "    var datainputs = table.querySelectorAll('.data_cell');\n",
       "    for(var i=0;i<datainputs.length;i++){\n",
       "        input_element_to_fixed(datainputs[i]);\n",
       "    }\n",
       "    if(table.querySelector('.save_btn')){\n",
       "        table.querySelector('.save_btn').replaceWith(table_menu(tableID));\n",
       "    }\n",
       "    var tablecnt = table.innerHTML;\n",
       "    var tablestr= input_table_prestr();\n",
       "    tablestr+='display(HTML(\\'';\n",
       "    tablestr+='<table class=\"input_table\" id=\"'+tableID+'\">';\n",
       "    var re=/\\n/g;\n",
       "    var re2=/'/g;\n",
       "    tablestr+=tablecnt.replace(re,' ').replace(re2,'\\\\\\'')+'</table>';\n",
       "    tablestr+='\\'))';\n",
       "    currentcell.set_text(tablestr);\n",
       "    currentcell.execute();\n",
       "}\n",
       "/**\n",
       " * Utility functions for getting user input\n",
       " **/\n",
       "\n",
       " /**\n",
       " * Create a simple input dialog (modal) that does not depend on a library, but works in Jupyter.\n",
       " * @param dialogid a single word string that will be used as the dialog id to that it can be accessed in the DOM.\n",
       " * @param post_processor a function definition to be called by the do-it button (see example later in this comment).\n",
       " * @param instructions a string providing general instructions for the user or at minimum a dialog title.\n",
       " * @param fields a list of strings that will be used as the titles for the fields. The length of this list\n",
       " *               determines how many input fields the dialog will contain (1 per line).\n",
       " *\n",
       " * post_processor function must be based on the following skeleton. Replace <...> with appropriate variables or\n",
       " *  strings.\n",
       " *\n",
       " * var <name_of_post_processor> = '('+function (){\n",
       " *    var dialog = document.getElementById(\"<dialogid_string>\");\n",
       " *    var inputs = dialog.querySelectorAll('input');\n",
       " *    var values = [];\n",
       " *    for (var i=0;i<inputs.length;i++){\n",
       " *        values[i]=inputs[i].value;\n",
       " *    }\n",
       " *    var info = dialog.querySelectorAll('#post_pr_info')[0].innerHTML;\n",
       " *    dialog.remove();\n",
       " *    <code to use the items in values and post_pr_info> //order of items is\n",
       " *    the same as the fields list.\n",
       " *}+')();';\n",
       " *\n",
       " **/\n",
       "function input_dialog(dialogid, post_processor, post_pr_info, instructions,fields){\n",
       "    var backdialog = document.createElement('div');\n",
       "    backdialog.setAttribute('id',\"background_div\")\n",
       "    var stylestr = 'position:fixed;left:0%;top:0%;width:100%;height:100%;z-index:-1;';\n",
       "    stylestr+='background-color:white;opacity:60%;';\n",
       "    backdialog.setAttribute('style',stylestr);\n",
       "    var tempdialog = document.createElement('div');\n",
       "    stylestr = 'position:fixed;left:20%;';\n",
       "    stylestr+='top:25%;width:60%;z-index:99;background-color:navajowhite;opacity:100%!important;';\n",
       "    stylestr+='border-style:solid!imprortant;border:thick;border-color:red;';\n",
       "    tempdialog.setAttribute('style',stylestr);\n",
       "    tempdialog.setAttribute('id',dialogid);\n",
       "    if (instructions!=''){\n",
       "        var tempinstr = document.createElement('H3');\n",
       "        tempinstr.setAttribute('style','text-align:center;');\n",
       "        tempinstr.innerHTML = instructions;\n",
       "        tempdialog.append(tempinstr);\n",
       "    }\n",
       "    for (var i=0;i<fields.length;i++){\n",
       "        var templine=document.createElement('p');\n",
       "        templine.innerHTML = fields[i]+': ';\n",
       "        var fieldstr = fields[i].replace(' ','_').replace('\\'','').replace('/','_').replace('*','_').replace('\\\"','_');\n",
       "        var inputstr = '<input id=\"'+fieldstr+'\" type=\"text\" size=\"30\" value=\"\" ';\n",
       "        inputstr += 'onblur=\"record_input(this)\"></input>';\n",
       "        templine.innerHTML+=inputstr;\n",
       "        templine.setAttribute('style','text-align:center;');\n",
       "        tempdialog.append(templine);\n",
       "    }\n",
       "    var tempinfo = document.createElement('div');\n",
       "    tempinfo.setAttribute('id','post_pr_info');\n",
       "    tempinfo.setAttribute('hidden', true);\n",
       "    tempinfo.innerHTML = post_pr_info;\n",
       "    tempdialog.append(tempinfo);\n",
       "    var cancel_btn = document.createElement('button');\n",
       "    cancel_btn.innerHTML = \"CANCEL\"\n",
       "    var onclickstr = 'document.getElementById(\"'+dialogid+'\").remove()';\n",
       "    cancel_btn.setAttribute('onclick',onclickstr);\n",
       "    tempdialog.append(cancel_btn);\n",
       "    var save_btn = document.createElement('button');\n",
       "    save_btn.setAttribute('onclick',post_processor);\n",
       "    save_btn.innerHTML = \"OK/Do-It\"\n",
       "    tempdialog.append(save_btn);\n",
       "    tempdialog.append(backdialog);\n",
       "    document.body.append(tempdialog);\n",
       "    Jupyter.notebook.focus_cell();//Make sure keyboard manager doesn't grab inputs.\n",
       "    Jupyter.notebook.keyboard_manager.enabled=false; \n",
       "    tempdialog.focus();\n",
       "    Jupyter.notebook.keyboard_manager.enabled=false; //Make sure keyboard manager doesn't grab inputs.\n",
       "}\n",
       "\n",
       "var table_data_to_named_DF = '('+function (){\n",
       "     var dialog = document.getElementById(\"DFName_dia\");\n",
       "     var inputs = dialog.querySelectorAll('input');\n",
       "     var values = [];\n",
       "     for (var i=0;i<inputs.length;i++){\n",
       "         values[i]=inputs[i].value;\n",
       "     }\n",
       "     info = dialog.querySelectorAll('#post_pr_info')[0].innerHTML;\n",
       "     dialog.remove();\n",
       " //    <code to use the items in values and post_pr_info> //order of items is\n",
       " //    the same as the fields list.\n",
       "    var parentTable = document.getElementById(info);\n",
       "    var rows = parentTable.querySelectorAll('tr');\n",
       "    var nrows = rows.length;\n",
       "    var ncols = rows[0].querySelectorAll('th').length;\n",
       "    var colnames = [];\n",
       "    var escnamestr = []\n",
       "    var data = [];\n",
       "    //sort data into columns\n",
       "    for(var i=1;i<ncols;i++){\n",
       "        var classstr='.c'+i\n",
       "        colnames[i-1]=rows[0].querySelector(classstr).querySelector(\".table_label\").innerHTML;\n",
       "        escnamestr[i-1] = colnames[i-1].replaceAll(' ','_').replaceAll('(','_')\n",
       "        .replaceAll(')','_').replaceAll('/','_').replaceAll('*','_').replaceAll('+','_')\n",
       "        .replaceAll('-','_').replaceAll('^','_').replaceAll('$','')\n",
       "        .replaceAll('{','_').replaceAll('}','_')\n",
       "        var tempcol =[];\n",
       "        for (var k=1;k<nrows;k++){\n",
       "            classstr = '.r'+k+'.c'+i;\n",
       "            tempcol[k-1] = rows[k].querySelector(classstr).querySelector(\".data_cell\").innerHTML;\n",
       "            alphare = /[a-zA-Z]/\n",
       "            if (alphare.test(tempcol[k-1])){\n",
       "                tempcol[k-1]='\\''+tempcol[k-1]+'\\'';\n",
       "            }\n",
       "            if (tempcol[k-1]==''){\n",
       "                tempcol[k-1]='np.nan';\n",
       "            }\n",
       "            nanre = /np\\.nan/i\n",
       "            if(nanre.test(tempcol[k-1])){\n",
       "                tempcol[k-1]='np.nan';\n",
       "            }\n",
       "\n",
       "        }\n",
       "        data[i-1]=tempcol;\n",
       "    }\n",
       "    //get indexes if they are not just numeric\n",
       "    use_indexes = false;\n",
       "    var indexes = [];\n",
       "    for (var i = 1; i < nrows;i++){\n",
       "        var classstr = '.r'+i+' .c0';\n",
       "        indexes[i-1] = parentTable.querySelector(classstr).querySelector(\".table_label\").innerHTML;\n",
       "        if (indexes[i-1] != (i-1)){use_indexes = true;}\n",
       "    }\n",
       "    \n",
       "    // Generate non-coder readable python code to put data into a DataFrame.\n",
       "    var pythoncode = \"\";\n",
       "    var dataframe_param = \"{\\\"\"+colnames[0]+\"\\\":\"+escnamestr[0]+\",\\n\";\n",
       "    for (var i=0;i<(ncols-1);i++){\n",
       "        pythoncode += escnamestr[i]+\"=[\"+data[i]+\"]\\n\";\n",
       "        if (i>0){dataframe_param +=\"    \\\"\"+colnames[i]+\"\\\":\"+escnamestr[i]+\",\\n\";}\n",
       "    }\n",
       "    dataframe_param +=\"    }\"\n",
       "    if (use_indexes){\n",
       "        dataframe_param +=\", index = [\";\n",
       "        for (var i = 0; i < indexes.length;i++){\n",
       "            dataframe_param += \"\\\"\"+indexes[i]+\"\\\", \";\n",
       "        }\n",
       "        dataframe_param += \"]\";\n",
       "    }\n",
       "    pythoncode += 'try: # Wrapping assigment in `try:...except:` allows us to check if Pandas is available.\\n';\n",
       "    pythoncode += '    '+values[0]+ \"= pd.DataFrame(\"+dataframe_param+\")\\n\";\n",
       "    pythoncode += 'except NameError as e:\\n';\n",
       "    pythoncode += '    print(\"Sorry, Pandas needs to be imported using the statement `import pandas as pd` first.\")\\n';\n",
       "    pythoncode += '    '+values[0]+' = \"undefined\"\\n';\n",
       "    pythoncode += \"print('DataFrame `\"+values[0]+\"`:')\\n\";\n",
       "    pythoncode += values[0];\n",
       "\n",
       "\n",
       "    // Insert a cell below the cell containing the table. Load with Python code that is non-coder readable.\n",
       "    // Run the cell to create the DataFrame.\n",
       "    select_containing_cell(parentTable); //Make sure the cell containing the table is selected by Jupyter.\n",
       "    Jupyter.notebook.insert_cell_below();\n",
       "    Jupyter.notebook.select_next(true);\n",
       "    Jupyter.notebook.focus_cell();\n",
       "    var currentcell = Jupyter.notebook.get_selected_cell();\n",
       "    currentcell.set_text(pythoncode);\n",
       "    currentcell.execute();\n",
       " }+')();';\n",
       "\n",
       "function data_table_to_Pandas(tableID){\n",
       "    // Use dialog to get user choice for name of the DataFrame. Assumes Pandas import as `pd`.\n",
       "    var instructions = \"Provide a one-word name for the Pandas DataFrame:\";\n",
       "    var fields = [\"Name\"];\n",
       "    input_dialog(\"DFName_dia\", table_data_to_named_DF, tableID, instructions,fields);\n",
       "\n",
       "}\n",
       "\n",
       "function csv_to_data_table(csv){\n",
       "/**\n",
       "* @param csv comma separated string of values each row ending with a '\\n'.\n",
       "*   First row and column interpreted as headers.\n",
       "*\n",
       "*   This creates the code to put into a Jupyter code cell to create the table\n",
       "*   and then executes the cell. This is very similar to create_table, but\n",
       "*   including values in the cells.\n",
       "**/\n",
       "    var prestr = input_table_prestr()\n",
       "    var d = new Date();\n",
       "    var ID = \"it_\"+(Math.round(d.getTime()));\n",
       "    var labelClass = \"table_label\";\n",
       "    var dataCellClass=\"data_cell\";\n",
       "    var menu = table_menu(ID);\n",
       "//TODO: Complete csv to data table JS?\n",
       "\n",
       "}</script>"
      ],
      "text/plain": [
       "<IPython.core.display.HTML object>"
      ]
     },
     "metadata": {},
     "output_type": "display_data"
    },
    {
     "data": {
      "text/html": [
       "<script type=\"text/javascript\">function createInstructorToolsMenu(){\n",
       "    if(!document.getElementById('InstructorToolsmnu')){\n",
       "        var newselect=document.createElement('select');\n",
       "        newselect.id = 'InstructorToolsmnu';\n",
       "        newselect.classList.add('form-control'); //class to match notebook formatting\n",
       "        newselect.classList.add('select-xs'); //class to match notebook formatting\n",
       "        newselect.onchange=function(){\n",
       "            var lastvalue = this.value;\n",
       "            this.value='Instructor Tools';\n",
       "            if (lastvalue=='Insert Data Entry Table...'){\n",
       "                get_table_dim();\n",
       "            }\n",
       "            if (lastvalue=='Protect Selected Cells'){\n",
       "                protect_selected_cells();\n",
       "            }\n",
       "            if (lastvalue=='Deprotect Selected Cells'){\n",
       "                deprotect_selected_cells();\n",
       "            }\n",
       "            if (lastvalue=='Indicate Protected Cells'){\n",
       "                mark_protected_cells();\n",
       "            }\n",
       "            if (lastvalue=='Deactivate this menu'){\n",
       "                deleteInstructorToolsMenu();\n",
       "            }\n",
       "        }\n",
       "        var optiontxt = '<option title=\"Insert an Instructor Tool.\">Instructor Tools</option>';\n",
       "        optiontxt+='<option title=\"Insert cell below selected and create a data entry table.\">Insert Data Entry Table...</option>';\n",
       "        optiontxt+='<option title=\"Prevent editting of selected cells.\">Protect Selected Cells</option>';\n",
       "        optiontxt+='<option title=\"Allow editting of selected cells.\">Deprotect Selected Cells</option>';\n",
       "        optiontxt+='<option title=\"Temporarily highlight protected cells in pink.\">Indicate Protected Cells</option>';\n",
       "        optiontxt+='<option>----</option>';\n",
       "        optiontxt+='<option title=\"Remove/deactivate this menu. Use python command `from InstructorTools import *` to reactivate\">'\n",
       "        optiontxt+='Deactivate this menu</option>';\n",
       "        newselect.innerHTML=optiontxt;\n",
       "        document.getElementById('maintoolbar-container').appendChild(newselect);\n",
       "    }\n",
       "}\n",
       "\n",
       "function deleteInstructorToolsMenu(){\n",
       "    if(document.getElementById('InstructorToolsmnu')){\n",
       "        document.getElementById('InstructorToolsmnu').remove();\n",
       "    }\n",
       "    var celllist = Jupyter.notebook.get_cells();\n",
       "    for (var i = 0;i<celllist.length;i++){\n",
       "        if(celllist[i].get_text().indexOf('from InstructorTools import *') !== -1){\n",
       "            //delete the cell\n",
       "            var cellindex=Jupyter.notebook.find_cell_index(celllist[i]);\n",
       "            //alert('cellindex: '+cellindex)\n",
       "            Jupyter.notebook.delete_cell(cellindex);\n",
       "        }\n",
       "        if(celllist[i].get_text().indexOf('instmenu_act()') !== -1){\n",
       "            //delete the cell\n",
       "            var cellindex=Jupyter.notebook.find_cell_index(celllist[i]);\n",
       "            //alert('cellindex: '+cellindex)\n",
       "            Jupyter.notebook.delete_cell(cellindex);\n",
       "        }\n",
       "    }\n",
       "}\n",
       "\n",
       "function protect_selected_cells(){\n",
       "    var celllist = Jupyter.notebook.get_selected_cells();\n",
       "    for (var i = 0;i<celllist.length;i++){\n",
       "        celllist[i].metadata.editable=false;\n",
       "        celllist[i].element.children()[0].setAttribute(\"style\",\"background-color:pink;\");\n",
       "        }\n",
       "}\n",
       "\n",
       "function deprotect_selected_cells(){\n",
       "    var celllist = Jupyter.notebook.get_selected_cells();\n",
       "    for (var i = 0;i<celllist.length;i++){\n",
       "        celllist[i].metadata.editable=true;\n",
       "        celllist[i].element.children()[0].removeAttribute(\"style\");\n",
       "    }\n",
       "}\n",
       "\n",
       "function mark_protected_cells(){\n",
       "    var celllist = Jupyter.notebook.get_cells();\n",
       "    for (var i = 0;i<celllist.length;i++){\n",
       "        if (celllist[i].metadata.editable==false){\n",
       "        celllist[i].element.children()[0].setAttribute(\"style\",\"background-color:pink;\");\n",
       "        } else {\n",
       "        celllist[i].element.children()[0].removeAttribute(\"style\");\n",
       "        }\n",
       "    }\n",
       "}</script>"
      ],
      "text/plain": [
       "<IPython.core.display.HTML object>"
      ]
     },
     "metadata": {},
     "output_type": "display_data"
    },
    {
     "data": {
      "application/javascript": [
       "createInstructorToolsMenu()"
      ],
      "text/plain": [
       "<IPython.core.display.Javascript object>"
      ]
     },
     "metadata": {},
     "output_type": "display_data"
    },
    {
     "name": "stdout",
     "output_type": "stream",
     "text": [
      "This cell should only contain `from InstructorTools import *` as it will be deleted when the tools are deactivated.\n"
     ]
    }
   ],
   "source": [
    "from InstructorTools import *"
   ]
  },
  {
   "cell_type": "markdown",
   "id": "d0b94d33",
   "metadata": {},
   "source": [
    "### I. Introduction"
   ]
  },
  {
   "cell_type": "markdown",
   "id": "8cf6d5c0",
   "metadata": {
    "editable": false
   },
   "source": [
    "Run the cell immediately below to initialize the data collection."
   ]
  },
  {
   "cell_type": "code",
   "execution_count": 1,
   "id": "b5484c57",
   "metadata": {
    "editable": false
   },
   "outputs": [
    {
     "name": "stdout",
     "output_type": "stream",
     "text": [
      "Importing drivers and searching for available data acquisition hardware............"
     ]
    },
    {
     "data": {
      "text/html": [
       "<script type=\"text/javascript\">var insertruncount = 0\n",
       "var newrunstr = 'fig$ = go.FigureWidget() # Create figure to show data.\\n'\n",
       "newrunstr += 'newRun(fig$) # Initiate run setup.\\n'\n",
       "newrunstr += 'fig$ # Display the live figure.'\n",
       "\n",
       "function insertnewRun(){\n",
       "    //Insert a cell below the current selection\n",
       "    Jupyter.notebook.insert_cell_below();\n",
       "    Jupyter.notebook.select_next(true);\n",
       "    Jupyter.notebook.focus_cell();\n",
       "    var currentcell = Jupyter.notebook.get_selected_cell();\n",
       "    insertruncount += 1\n",
       "    var cmdstr = newrunstr.replaceAll('$',insertruncount)\n",
       "    currentcell.set_text(cmdstr);\n",
       "    currentcell.execute()\n",
       "}\n",
       "\n",
       "function addnewRun(){\n",
       "    //find the last cell in notebook\n",
       "    var lastcellidx = Jupyter.notebook.ncells()-1;\n",
       "    var lastcell=Jupyter.notebook.get_cell(lastcellidx);\n",
       "    Jupyter.notebook.select(lastcellidx);\n",
       "    //If the cell is empty put command in it. Otherwise\n",
       "    //add another cell at the end of the worksheet. Then\n",
       "    //put the command in the new lastcell.\n",
       "    insertruncount += 1\n",
       "    var cmdstr = newrunstr.replaceAll('$',insertruncount)\n",
       "    if(lastcell.get_text()==''){\n",
       "        lastcell.set_text(cmdstr);\n",
       "    }else{\n",
       "        Jupyter.notebook.insert_cell_below();\n",
       "        Jupyter.notebook.select_next(true);\n",
       "        Jupyter.notebook.focus_cell();\n",
       "        lastcell=Jupyter.notebook.get_cell(lastcellidx+1);\n",
       "        lastcell.set_text(cmdstr);\n",
       "    }\n",
       "    lastcell.execute()\n",
       "}\n",
       "\n",
       "function showDataTable(){\n",
       "    //find the currently active cell\n",
       "    var currentcell = Jupyter.notebook.get_selected_cell();\n",
       "    //Because we could destroy date created by having run\n",
       "    //this cell previously do not use this cell if it contains\n",
       "    //anything\n",
       "    if (currentcell.get_text()==''){\n",
       "        currentcell.set_text('showDataTable()');\n",
       "    }else{\n",
       "        Jupyter.notebook.insert_cell_below();\n",
       "        Jupyter.notebook.select_next(true);\n",
       "        Jupyter.notebook.focus_cell();\n",
       "        currentcell = Jupyter.notebook.get_selected_cell();\n",
       "        currentcell.set_text('showDataTable()');\n",
       "    }\n",
       "    currentcell.execute()\n",
       "}\n",
       "\n",
       "function newCalculatedColumn(){\n",
       "    //Insert a cell below the current selection\n",
       "    Jupyter.notebook.insert_cell_below();\n",
       "    Jupyter.notebook.select_next(true);\n",
       "    Jupyter.notebook.focus_cell();\n",
       "    var currentcell = Jupyter.notebook.get_selected_cell();\n",
       "     currentcell.set_text('newCalculatedColumn()');\n",
       "    currentcell.execute()\n",
       "}\n",
       "\n",
       "function newPlot(){\n",
       "    //Insert a cell below the current selection\n",
       "    Jupyter.notebook.insert_cell_below();\n",
       "    Jupyter.notebook.select_next(true);\n",
       "    Jupyter.notebook.focus_cell();\n",
       "    var currentcell = Jupyter.notebook.get_selected_cell();\n",
       "     currentcell.set_text('newPlot()');\n",
       "    currentcell.execute()\n",
       "}\n",
       "\n",
       "function createCmdMenu(){\n",
       "    if(!document.getElementById('jupyterpiDAQcmdsmnu')){\n",
       "        var newselect=document.createElement('select');\n",
       "        newselect.id = 'jupyterpiDAQcmdsmnu';\n",
       "        newselect.classList.add('form-control'); //class to match notebook formatting\n",
       "        newselect.classList.add('select-xs'); //class to match notebook formatting\n",
       "        newselect.onchange=function(){\n",
       "            var lastvalue = this.value;\n",
       "            this.value='DAQ Commands';\n",
       "            if (lastvalue=='Insert New Run after selection...'){\n",
       "                insertnewRun()\n",
       "            }\n",
       "            if (lastvalue=='Append New Run to end...'){\n",
       "                addnewRun()\n",
       "            }\n",
       "            if (lastvalue=='Show data in table...'){\n",
       "                showDataTable()\n",
       "            }\n",
       "            if (lastvalue=='Calculate new column...'){\n",
       "                newCalculatedColumn()\n",
       "            }\n",
       "            if (lastvalue=='Insert new plot after selection...'){\n",
       "                newPlot()\n",
       "            }\n",
       "        }\n",
       "        var optiontxt = '<option title=\"Insert data aquisition related command.\">DAQ Commands</option>';\n",
       "        optiontxt+='<option title=\"Insert cell below selected and start new run.\">Insert New Run after selection...</option>';\n",
       "        optiontxt+='<option title=\"Add new run at end of notebook.\">Append New Run to end...</option>';\n",
       "        optiontxt+='<option title=\"Insert show data table command at end of current cell.\">Show data in table...</option>';\n",
       "        optiontxt+='<option title=\"Calculate new column below current cell.\">Calculate new column...</option>';\n",
       "        optiontxt+='<option title=\"New plot below current cell.\">Insert new plot after selection...</option>';\n",
       "        newselect.innerHTML=optiontxt;\n",
       "        document.getElementById('maintoolbar-container').appendChild(newselect);\n",
       "    }\n",
       "}\n",
       "\n",
       "function deleteCmdMenu(){\n",
       "    if(document.getElementById('jupyterpiDAQcmdsmnu')){\n",
       "        document.getElementById('jupyterpiDAQcmdsmnu').remove();\n",
       "    }\n",
       "}</script>"
      ],
      "text/plain": [
       "<IPython.core.display.HTML object>"
      ]
     },
     "metadata": {},
     "output_type": "display_data"
    },
    {
     "data": {
      "application/javascript": [
       "createCmdMenu()"
      ],
      "text/plain": [
       "<IPython.core.display.Javascript object>"
      ]
     },
     "metadata": {},
     "output_type": "display_data"
    },
    {
     "name": "stdout",
     "output_type": "stream",
     "text": [
      "Done with setup.\n"
     ]
    }
   ],
   "source": [
    "from jupyterpidaq.DAQinstance import *"
   ]
  },
  {
   "cell_type": "markdown",
   "id": "64b90d52",
   "metadata": {},
   "source": [
    "### II. Preparation\n",
    "1. Prepare an ice bath in a 600 mL beaker. Fill the beaker with crushed ice. Then add cold water until the ice is just saturated.\n",
    "2. After removing the wooden stick, weigh your metal samples on your benchtop balance. Record the values in the table below. __If the table is not editable:__ select \"Edit Data' from the 'Tabel Actions' menu.You should save the data each time you update some entries.\n",
    "3. Place the weights in your ice bath so that they are submerged. It works best if the weights are sitting on some ice, but under water. In the data table, note the time they were placed in the ice bath. You do not want to remove them for at least 10 minutes.\n",
    "4. Prepare your calorimeter. Use two 8 oz styrofoam cups nested together to provide good insulation. The calorimeter also needs a lid with a hole in it for the temperature probe. A piece of cardboard is adequate for the lid. Place the calorimeter in a 400 mL beaker to stabilize it. Drop in a magnetic stir bar and put it on the stir plate. Make sure the plate can spin the bar. Use a clamp to hold the temperature probe so that it does not go in so far that the stir bar bangs into it."
   ]
  },
  {
   "cell_type": "code",
   "execution_count": 14,
   "id": "072b117e",
   "metadata": {
    "editable": false
   },
   "outputs": [
    {
     "data": {
      "text/html": [
       "<table class=\"input_table\" id=\"it_1625601583684\"><caption>Table 1: Metal Samples</caption><tbody> <tr class=\"input_table r0\">  <th class=\"input_table r0 c0\"><select class=\"form-control table-actions\" onchange=\"var lastvalue = this.value;this.value = &quot;Table Actions&quot;;if(lastvalue==&quot;Edit Data&quot;){edit_input_table(&quot;it_1625601583684&quot;);}if(lastvalue==&quot;Data to Pandas...&quot;){data_table_to_Pandas(&quot;it_1625601583684&quot;);}\"><option title=\"Things you can do to this table.\">Table Actions</option><option title=\"Start editing the data.\">Edit Data</option><option title=\"Create a Panda DataFrame from table.\">Data to Pandas...</option></select></th><th class=\"input_table r0 c1\"><span class=\"table_label\">mass(g)</span></th><th class=\"input_table r0 c2\"><span class=\"table_label\">time into icebath</span></th><th class=\"input_table r0 c3\"><span class=\"table_label\">time out of icebath</span></th><th class=\"input_table r0 c4\"><span class=\"table_label\">icebath temperature(C)</span></th> </tr> <tr class=\"input_table r1\"><th class=\"input_table r1 c0\"><span class=\"table_label\">Brass</span></th>  <td class=\"input_table r1 c1\"><span class=\"data_cell\">200.62</span></td>  <td class=\"input_table r1 c2\"><span class=\"data_cell\">3:00PM</span></td>  <td class=\"input_table r1 c3\"><span class=\"data_cell\">3:29PM</span></td>  <td class=\"input_table r1 c4\"><span class=\"data_cell\">0.796</span></td> </tr> <tr class=\"input_table r2\"><th class=\"input_table r2 c0\"><span class=\"table_label\">Lead (Pb)</span></th>  <td class=\"input_table r2 c1\"><span class=\"data_cell\">201.11</span></td>  <td class=\"input_table r2 c2\"><span class=\"data_cell\">3:00PM</span></td>  <td class=\"input_table r2 c3\"><span class=\"data_cell\">3:38PM</span></td>  <td class=\"input_table r2 c4\"><span class=\"data_cell\">0.796</span></td> </tr></tbody></table>"
      ],
      "text/plain": [
       "<IPython.core.display.HTML object>"
      ]
     },
     "metadata": {},
     "output_type": "display_data"
    }
   ],
   "source": [
    "# If no data table appears in the output of this cell, run the cell to display the table.\n",
    "try:\n",
    "    from input_table import *\n",
    "except (ImportError, FileNotFoundError) as e:\n",
    "    from IPython.display import HTML\n",
    "    print(\"Table editing will not work because `jupyter_datainputtable` module is not installed in python kernel\")\n",
    "display(HTML('<table class=\"input_table\" id=\"it_1625601583684\"><caption>Table 1: Metal Samples</caption><tbody> <tr class=\"input_table r0\">  <th class=\"input_table r0 c0\"><select class=\"form-control table-actions\" onchange=\"var lastvalue = this.value;this.value = &quot;Table Actions&quot;;if(lastvalue==&quot;Edit Data&quot;){edit_input_table(&quot;it_1625601583684&quot;);}if(lastvalue==&quot;Data to Pandas...&quot;){data_table_to_Pandas(&quot;it_1625601583684&quot;);}\"><option title=\"Things you can do to this table.\">Table Actions</option><option title=\"Start editing the data.\">Edit Data</option><option title=\"Create a Panda DataFrame from table.\">Data to Pandas...</option></select></th><th class=\"input_table r0 c1\"><span class=\"table_label\">mass(g)</span></th><th class=\"input_table r0 c2\"><span class=\"table_label\">time into icebath</span></th><th class=\"input_table r0 c3\"><span class=\"table_label\">time out of icebath</span></th><th class=\"input_table r0 c4\"><span class=\"table_label\">icebath temperature(C)</span></th> </tr> <tr class=\"input_table r1\"><th class=\"input_table r1 c0\"><span class=\"table_label\">Brass</span></th>  <td class=\"input_table r1 c1\"><span class=\"data_cell\">200.62</span></td>  <td class=\"input_table r1 c2\"><span class=\"data_cell\">3:00PM</span></td>  <td class=\"input_table r1 c3\"><span class=\"data_cell\">3:29PM</span></td>  <td class=\"input_table r1 c4\"><span class=\"data_cell\">0.796</span></td> </tr> <tr class=\"input_table r2\"><th class=\"input_table r2 c0\"><span class=\"table_label\">Lead (Pb)</span></th>  <td class=\"input_table r2 c1\"><span class=\"data_cell\">201.11</span></td>  <td class=\"input_table r2 c2\"><span class=\"data_cell\">3:00PM</span></td>  <td class=\"input_table r2 c3\"><span class=\"data_cell\">3:38PM</span></td>  <td class=\"input_table r2 c4\"><span class=\"data_cell\">0.796</span></td> </tr></tbody></table>'))"
   ]
  },
  {
   "cell_type": "markdown",
   "id": "b6f685f2",
   "metadata": {},
   "source": [
    "### III. Collect data\n",
    "1. Once the calorimeter is prepared move the temperature probe into the icebath with the metals.\n",
    "2. Make note of which channel the probe is plugged into.\n",
    "3. Select this cell and from the 'DAQ Commands' menu select 'Insert new run after selection...'. This will provide some input boxes and menus to tell the computer how to collect the temperature.\n",
    "    * Give the run a title (e.g. icebath temperature).\n",
    "    * Check the 'Trace 0' box to activate one trace.\n",
    "    * Give the Trace a title (e.g. Temperature).\n",
    "    * From the Channel menu select the number of the channel where your probe is plugged\n",
    "    in.\n",
    "    * In the sensor menu choose the sensor (in this case a Vernier SS temperature probe).\n",
    "    * Set the Units menu to 'C' for degrees Celcius.\n",
    "    * The default rate of 1 Hz is fine.\n",
    "    * Click the 'Set Parameters' button when everything is set properly.\n",
    "    * This will give you a blank graph and a start button.\n",
    "    * Start the collection and let it run until the temperature is stabilized (fluctuating\n",
    "    less than +/- 0.1 C)."
   ]
  },
  {
   "cell_type": "code",
   "execution_count": 6,
   "id": "615f8896",
   "metadata": {},
   "outputs": [
    {
     "data": {
      "application/vnd.jupyter.widget-view+json": {
       "model_id": "",
       "version_major": 2,
       "version_minor": 0
      },
      "text/plain": [
       "Text(value='Run-1', description='Run title', placeholder='Type title/description')"
      ]
     },
     "metadata": {},
     "output_type": "display_data"
    },
    {
     "data": {
      "application/vnd.jupyter.widget-view+json": {
       "model_id": "",
       "version_major": 2,
       "version_minor": 0
      },
      "text/plain": [
       "VBox(children=(HBox(children=(Checkbox(value=False, description='Trace 0'), Text(value='Trace_0', description=…"
      ]
     },
     "metadata": {},
     "output_type": "display_data"
    },
    {
     "data": {
      "application/vnd.jupyter.widget-view+json": {
       "model_id": "",
       "version_major": 2,
       "version_minor": 0
      },
      "text/plain": [
       "VBox(children=(HBox(children=(Checkbox(value=False, description='Trace 1'), Text(value='Trace_1', description=…"
      ]
     },
     "metadata": {},
     "output_type": "display_data"
    },
    {
     "data": {
      "application/vnd.jupyter.widget-view+json": {
       "model_id": "",
       "version_major": 2,
       "version_minor": 0
      },
      "text/plain": [
       "VBox(children=(HBox(children=(Checkbox(value=False, description='Trace 2'), Text(value='Trace_2', description=…"
      ]
     },
     "metadata": {},
     "output_type": "display_data"
    },
    {
     "data": {
      "application/vnd.jupyter.widget-view+json": {
       "model_id": "",
       "version_major": 2,
       "version_minor": 0
      },
      "text/plain": [
       "VBox(children=(HBox(children=(Checkbox(value=False, description='Trace 3'), Text(value='Trace_3', description=…"
      ]
     },
     "metadata": {},
     "output_type": "display_data"
    },
    {
     "data": {
      "application/vnd.jupyter.widget-view+json": {
       "model_id": "",
       "version_major": 2,
       "version_minor": 0
      },
      "text/plain": [
       "VBox(children=(Checkbox(value=True, description='Display multiple traces as stacked graphs. Uncheck to display…"
      ]
     },
     "metadata": {},
     "output_type": "display_data"
    },
    {
     "data": {
      "application/vnd.jupyter.widget-view+json": {
       "model_id": "c545af3c11244024aa7a48929bbb91f5",
       "version_major": 2,
       "version_minor": 0
      },
      "text/plain": [
       "FigureWidget({\n",
       "    'data': [], 'layout': {'template': '...'}\n",
       "})"
      ]
     },
     "metadata": {},
     "output_type": "display_data"
    },
    {
     "data": {
      "text/html": [
       "<div id=\"DAQRun_1_param\"><p style=\"font-weight:bold;\">Parameters for run \"Icebath Temperature\" (run id#: 1) set to:</p><table><tr><td style=\"font-weight:bold;\">Approx. Rate (Hz):</td><td>1.0</td><td style=\"font-weight:bold;\">Approx. Delta (s):</td><td>1.0</td><td style=\"font-weight:bold;\">X-label: </td><td>Time(s)</td></tr></table><table id=\"traceinfo\" class=\"traceinfo\"><tr><td style=\"font-weight:bold;text-align:center;\">Trace #</td><td style=\"font-weight:bold;text-align:center;\">Title</td><td style=\"font-weight:bold;text-align:center;\">Units</td><td style=\"font-weight:bold;text-align:center;\">Board</td><td style=\"font-weight:bold;text-align:center;\">Channel</td><td style=\"font-weight:bold;text-align:center;\">Sensor</td><td style=\"font-weight:bold;text-align:center;\">Gain</td></tr><tr><td style=\"text-align:center;\">0</td><td style=\"text-align:center;\">Temperature (C)</td><td style=\"text-align:center;\">C</td><td style=\"text-align:center;\">0 DAQC2</td><td style=\"text-align:center;\">0</td><td style=\"text-align:center;\">VernierSSTemp</td><td style=\"text-align:center;\">1</td></tr><tr></tr><tr></tr><tr></tr><tr></tr></table></div>"
      ],
      "text/plain": [
       "<IPython.core.display.HTML object>"
      ]
     },
     "metadata": {},
     "output_type": "display_data"
    },
    {
     "data": {
      "application/vnd.jupyter.widget-view+json": {
       "model_id": "",
       "version_major": 2,
       "version_minor": 0
      },
      "text/plain": [
       "Button(button_style='success', description='Start Collecting', style=ButtonStyle(), tooltip='Start collecting …"
      ]
     },
     "metadata": {},
     "output_type": "display_data"
    },
    {
     "data": {
      "application/vnd.jupyter.widget-view+json": {
       "model_id": "dee13fcb4d6f4eea967214d6fc05b29f",
       "version_major": 2,
       "version_minor": 0
      },
      "text/plain": [
       "HTML(value='<span style=\"color:blue;\"> To accurately read point location on graph you can zoom in. Drag to zoo…"
      ]
     },
     "metadata": {},
     "output_type": "display_data"
    },
    {
     "data": {
      "text/html": [
       "<span style=\"color:blue;font-weight:bold;\">DATA SAVED TO:Icebath Temperature_21-07-06_152113.csv</span>"
      ],
      "text/plain": [
       "<IPython.core.display.HTML object>"
      ]
     },
     "metadata": {},
     "output_type": "display_data"
    },
    {
     "data": {
      "application/javascript": [
       "Jupyter.actions.call(\"widgets:save-with-widgets\");"
      ],
      "text/plain": [
       "<IPython.core.display.Javascript object>"
      ]
     },
     "metadata": {},
     "output_type": "display_data"
    }
   ],
   "source": [
    "fig1 = go.FigureWidget() # Create figure to show data.\n",
    "newRun(fig1) # Initiate run setup.\n",
    "fig1 # Display the live figure."
   ]
  },
  {
   "cell_type": "markdown",
   "id": "9675c520",
   "metadata": {
    "editable": false
   },
   "source": [
    "4. Move the temperature probe back to the calorimeter.\n",
    "5. Select this cell and insert a new run after this cell.\n",
    "    * Decide which metal you are going to do first. Use that as the title of the run.\n",
    "    * The settings are the same as before.\n",
    "    * Once the parameters are set start the collection and let it run until the trace is\n",
    "    stabalized.\n",
    "    * Remove the metal you have chosen from the ice bath making sure there is no ice stuck\n",
    "    to it. Transfer it rapidly to the calorimeter and replace your lid. __Note the time\n",
    "    of the transfer out of the ice bath in the table above.__\n",
    "    * When the temperature has been stable for 1 - 2 minutes you can stop the data\n",
    "    collection."
   ]
  },
  {
   "cell_type": "code",
   "execution_count": 7,
   "id": "9cb10086",
   "metadata": {},
   "outputs": [
    {
     "data": {
      "application/vnd.jupyter.widget-view+json": {
       "model_id": "",
       "version_major": 2,
       "version_minor": 0
      },
      "text/plain": [
       "Text(value='Run-2', description='Run title', placeholder='Type title/description')"
      ]
     },
     "metadata": {},
     "output_type": "display_data"
    },
    {
     "data": {
      "application/vnd.jupyter.widget-view+json": {
       "model_id": "",
       "version_major": 2,
       "version_minor": 0
      },
      "text/plain": [
       "VBox(children=(HBox(children=(Checkbox(value=False, description='Trace 0'), Text(value='Trace_0', description=…"
      ]
     },
     "metadata": {},
     "output_type": "display_data"
    },
    {
     "data": {
      "application/vnd.jupyter.widget-view+json": {
       "model_id": "",
       "version_major": 2,
       "version_minor": 0
      },
      "text/plain": [
       "VBox(children=(HBox(children=(Checkbox(value=False, description='Trace 1'), Text(value='Trace_1', description=…"
      ]
     },
     "metadata": {},
     "output_type": "display_data"
    },
    {
     "data": {
      "application/vnd.jupyter.widget-view+json": {
       "model_id": "",
       "version_major": 2,
       "version_minor": 0
      },
      "text/plain": [
       "VBox(children=(HBox(children=(Checkbox(value=False, description='Trace 2'), Text(value='Trace_2', description=…"
      ]
     },
     "metadata": {},
     "output_type": "display_data"
    },
    {
     "data": {
      "application/vnd.jupyter.widget-view+json": {
       "model_id": "",
       "version_major": 2,
       "version_minor": 0
      },
      "text/plain": [
       "VBox(children=(HBox(children=(Checkbox(value=False, description='Trace 3'), Text(value='Trace_3', description=…"
      ]
     },
     "metadata": {},
     "output_type": "display_data"
    },
    {
     "data": {
      "application/vnd.jupyter.widget-view+json": {
       "model_id": "",
       "version_major": 2,
       "version_minor": 0
      },
      "text/plain": [
       "VBox(children=(Checkbox(value=True, description='Display multiple traces as stacked graphs. Uncheck to display…"
      ]
     },
     "metadata": {},
     "output_type": "display_data"
    },
    {
     "data": {
      "application/vnd.jupyter.widget-view+json": {
       "model_id": "714f5f5005fa4e2f8efa777e740057f9",
       "version_major": 2,
       "version_minor": 0
      },
      "text/plain": [
       "FigureWidget({\n",
       "    'data': [], 'layout': {'template': '...'}\n",
       "})"
      ]
     },
     "metadata": {},
     "output_type": "display_data"
    },
    {
     "data": {
      "text/html": [
       "<div id=\"DAQRun_2_param\"><p style=\"font-weight:bold;\">Parameters for run \"Brass\" (run id#: 2) set to:</p><table><tr><td style=\"font-weight:bold;\">Approx. Rate (Hz):</td><td>1.0</td><td style=\"font-weight:bold;\">Approx. Delta (s):</td><td>1.0</td><td style=\"font-weight:bold;\">X-label: </td><td>Time(s)</td></tr></table><table id=\"traceinfo\" class=\"traceinfo\"><tr><td style=\"font-weight:bold;text-align:center;\">Trace #</td><td style=\"font-weight:bold;text-align:center;\">Title</td><td style=\"font-weight:bold;text-align:center;\">Units</td><td style=\"font-weight:bold;text-align:center;\">Board</td><td style=\"font-weight:bold;text-align:center;\">Channel</td><td style=\"font-weight:bold;text-align:center;\">Sensor</td><td style=\"font-weight:bold;text-align:center;\">Gain</td></tr><tr><td style=\"text-align:center;\">0</td><td style=\"text-align:center;\">Trace_0</td><td style=\"text-align:center;\">C</td><td style=\"text-align:center;\">0 DAQC2</td><td style=\"text-align:center;\">0</td><td style=\"text-align:center;\">VernierSSTemp</td><td style=\"text-align:center;\">1</td></tr><tr></tr><tr></tr><tr></tr><tr></tr></table></div>"
      ],
      "text/plain": [
       "<IPython.core.display.HTML object>"
      ]
     },
     "metadata": {},
     "output_type": "display_data"
    },
    {
     "data": {
      "application/vnd.jupyter.widget-view+json": {
       "model_id": "",
       "version_major": 2,
       "version_minor": 0
      },
      "text/plain": [
       "Button(button_style='success', description='Start Collecting', style=ButtonStyle(), tooltip='Start collecting …"
      ]
     },
     "metadata": {},
     "output_type": "display_data"
    },
    {
     "data": {
      "application/vnd.jupyter.widget-view+json": {
       "model_id": "f9589b07695f4d40b06d4c10f2938a49",
       "version_major": 2,
       "version_minor": 0
      },
      "text/plain": [
       "HTML(value='<span style=\"color:blue;\"> To accurately read point location on graph you can zoom in. Drag to zoo…"
      ]
     },
     "metadata": {},
     "output_type": "display_data"
    },
    {
     "data": {
      "text/html": [
       "<span style=\"color:blue;font-weight:bold;\">DATA SAVED TO:Brass_21-07-06_153105.csv</span>"
      ],
      "text/plain": [
       "<IPython.core.display.HTML object>"
      ]
     },
     "metadata": {},
     "output_type": "display_data"
    },
    {
     "data": {
      "application/javascript": [
       "Jupyter.actions.call(\"widgets:save-with-widgets\");"
      ],
      "text/plain": [
       "<IPython.core.display.Javascript object>"
      ]
     },
     "metadata": {},
     "output_type": "display_data"
    }
   ],
   "source": [
    "fig2 = go.FigureWidget() # Create figure to show data.\n",
    "newRun(fig2) # Initiate run setup.\n",
    "fig2 # Display the live figure."
   ]
  },
  {
   "cell_type": "markdown",
   "id": "ab1f6a60",
   "metadata": {
    "editable": false
   },
   "source": [
    "6. Empty the water and your first metal from the calorimeter and replace it with 200 mL of room temperature deionized (DI) water.\n",
    "7. Set the calorimeter back up.\n",
    "8. Repeat the data collection steps 4 & 5 for your second metal. __You will insert your run after this cell__"
   ]
  },
  {
   "cell_type": "code",
   "execution_count": 9,
   "id": "ef831947",
   "metadata": {},
   "outputs": [
    {
     "data": {
      "application/vnd.jupyter.widget-view+json": {
       "model_id": "",
       "version_major": 2,
       "version_minor": 0
      },
      "text/plain": [
       "Text(value='Run-3', description='Run title', placeholder='Type title/description')"
      ]
     },
     "metadata": {},
     "output_type": "display_data"
    },
    {
     "data": {
      "application/vnd.jupyter.widget-view+json": {
       "model_id": "",
       "version_major": 2,
       "version_minor": 0
      },
      "text/plain": [
       "VBox(children=(HBox(children=(Checkbox(value=False, description='Trace 0'), Text(value='Trace_0', description=…"
      ]
     },
     "metadata": {},
     "output_type": "display_data"
    },
    {
     "data": {
      "application/vnd.jupyter.widget-view+json": {
       "model_id": "",
       "version_major": 2,
       "version_minor": 0
      },
      "text/plain": [
       "VBox(children=(HBox(children=(Checkbox(value=False, description='Trace 1'), Text(value='Trace_1', description=…"
      ]
     },
     "metadata": {},
     "output_type": "display_data"
    },
    {
     "data": {
      "application/vnd.jupyter.widget-view+json": {
       "model_id": "",
       "version_major": 2,
       "version_minor": 0
      },
      "text/plain": [
       "VBox(children=(HBox(children=(Checkbox(value=False, description='Trace 2'), Text(value='Trace_2', description=…"
      ]
     },
     "metadata": {},
     "output_type": "display_data"
    },
    {
     "data": {
      "application/vnd.jupyter.widget-view+json": {
       "model_id": "",
       "version_major": 2,
       "version_minor": 0
      },
      "text/plain": [
       "VBox(children=(HBox(children=(Checkbox(value=False, description='Trace 3'), Text(value='Trace_3', description=…"
      ]
     },
     "metadata": {},
     "output_type": "display_data"
    },
    {
     "data": {
      "application/vnd.jupyter.widget-view+json": {
       "model_id": "",
       "version_major": 2,
       "version_minor": 0
      },
      "text/plain": [
       "VBox(children=(Checkbox(value=True, description='Display multiple traces as stacked graphs. Uncheck to display…"
      ]
     },
     "metadata": {},
     "output_type": "display_data"
    },
    {
     "data": {
      "application/vnd.jupyter.widget-view+json": {
       "model_id": "39c76d819dba47cd8f8cf7ecabdc494e",
       "version_major": 2,
       "version_minor": 0
      },
      "text/plain": [
       "FigureWidget({\n",
       "    'data': [], 'layout': {'template': '...'}\n",
       "})"
      ]
     },
     "metadata": {},
     "output_type": "display_data"
    },
    {
     "data": {
      "text/html": [
       "<div id=\"DAQRun_3_param\"><p style=\"font-weight:bold;\">Parameters for run \"Lead\" (run id#: 3) set to:</p><table><tr><td style=\"font-weight:bold;\">Approx. Rate (Hz):</td><td>1.0</td><td style=\"font-weight:bold;\">Approx. Delta (s):</td><td>1.0</td><td style=\"font-weight:bold;\">X-label: </td><td>Time(s)</td></tr></table><table id=\"traceinfo\" class=\"traceinfo\"><tr><td style=\"font-weight:bold;text-align:center;\">Trace #</td><td style=\"font-weight:bold;text-align:center;\">Title</td><td style=\"font-weight:bold;text-align:center;\">Units</td><td style=\"font-weight:bold;text-align:center;\">Board</td><td style=\"font-weight:bold;text-align:center;\">Channel</td><td style=\"font-weight:bold;text-align:center;\">Sensor</td><td style=\"font-weight:bold;text-align:center;\">Gain</td></tr><tr><td style=\"text-align:center;\">0</td><td style=\"text-align:center;\">Temperature (C)</td><td style=\"text-align:center;\">C</td><td style=\"text-align:center;\">0 DAQC2</td><td style=\"text-align:center;\">0</td><td style=\"text-align:center;\">VernierSSTemp</td><td style=\"text-align:center;\">1</td></tr><tr></tr><tr></tr><tr></tr><tr></tr></table></div>"
      ],
      "text/plain": [
       "<IPython.core.display.HTML object>"
      ]
     },
     "metadata": {},
     "output_type": "display_data"
    },
    {
     "data": {
      "application/vnd.jupyter.widget-view+json": {
       "model_id": "",
       "version_major": 2,
       "version_minor": 0
      },
      "text/plain": [
       "Button(button_style='success', description='Start Collecting', style=ButtonStyle(), tooltip='Start collecting …"
      ]
     },
     "metadata": {},
     "output_type": "display_data"
    },
    {
     "data": {
      "application/vnd.jupyter.widget-view+json": {
       "model_id": "e2024c3341f743329bfdac5775a317bf",
       "version_major": 2,
       "version_minor": 0
      },
      "text/plain": [
       "HTML(value='<span style=\"color:blue;\"> To accurately read point location on graph you can zoom in. Drag to zoo…"
      ]
     },
     "metadata": {},
     "output_type": "display_data"
    },
    {
     "data": {
      "text/html": [
       "<span style=\"color:blue;font-weight:bold;\">DATA SAVED TO:Lead_21-07-06_153950.csv</span>"
      ],
      "text/plain": [
       "<IPython.core.display.HTML object>"
      ]
     },
     "metadata": {},
     "output_type": "display_data"
    },
    {
     "data": {
      "application/javascript": [
       "Jupyter.actions.call(\"widgets:save-with-widgets\");"
      ],
      "text/plain": [
       "<IPython.core.display.Javascript object>"
      ]
     },
     "metadata": {},
     "output_type": "display_data"
    }
   ],
   "source": [
    "fig3 = go.FigureWidget() # Create figure to show data.\n",
    "newRun(fig3) # Initiate run setup.\n",
    "fig3 # Display the live figure."
   ]
  },
  {
   "cell_type": "markdown",
   "id": "4b66e9e9",
   "metadata": {
    "editable": false
   },
   "source": [
    "### III. Data Analysis and Calculations\n",
    "1. From the plots of your data you need to determine the initial temperature of your solids, the initial temperature of the water in the calorimeter, and the final temperature for each run. You will record these values in the table below. To find these temperatures:\n",
    "  * Hover the mouse cursor over the points on the plot to see their X and Y values.\n",
    "  * You want to select a point where the temperature is only fluctuating because of noise,\n",
    "  not during the temperature change. Ideally the point you select should be near the\n",
    "  average of the stable temperature.\n",
    "  * Record the temperature to the nearest 0.01 C."
   ]
  },
  {
   "cell_type": "code",
   "execution_count": 40,
   "id": "dd87d337",
   "metadata": {
    "editable": false
   },
   "outputs": [
    {
     "data": {
      "text/html": [
       "<table class=\"input_table\" id=\"it_1625836762315\"><caption>Table 2: Initial and Final Temperatures</caption><tbody> <tr class=\"input_table r0\">  <th class=\"input_table r0 c0\"><select class=\"form-control table-actions\" onchange=\"var lastvalue = this.value;this.value = &quot;Table Actions&quot;;if(lastvalue==&quot;Edit Data&quot;){edit_input_table(&quot;it_1625836762315&quot;);}if(lastvalue==&quot;Data to Pandas...&quot;){data_table_to_Pandas(&quot;it_1625836762315&quot;);}\"><option title=\"Things you can do to this table.\">Table Actions</option><option title=\"Start editing the data.\">Edit Data</option><option title=\"Create a Panda DataFrame from table.\">Data to Pandas...</option></select></th><th class=\"input_table r0 c1\"><span class=\"table_label\">solid initial T (C)</span></th><th class=\"input_table r0 c2\"><span class=\"table_label\">water initial T (C)</span></th><th class=\"input_table r0 c3\"><span class=\"table_label\">final T (C)</span></th> </tr> <tr class=\"input_table r1\"><th class=\"input_table r1 c0\"><span class=\"table_label\">Brass</span></th>  <td class=\"input_table r1 c1\"><span class=\"data_cell\">0.80</span></td>  <td class=\"input_table r1 c2\"><span class=\"data_cell\">21.64</span></td>  <td class=\"input_table r1 c3\"><span class=\"data_cell\">19.94</span></td> </tr> <tr class=\"input_table r2\"><th class=\"input_table r2 c0\"><span class=\"table_label\">Lead (Pb)</span></th>  <td class=\"input_table r2 c1\"><span class=\"data_cell\">0.80</span></td>  <td class=\"input_table r2 c2\"><span class=\"data_cell\">22.04</span></td>  <td class=\"input_table r2 c3\"><span class=\"data_cell\">21.40</span></td> </tr></tbody></table>"
      ],
      "text/plain": [
       "<IPython.core.display.HTML object>"
      ]
     },
     "metadata": {},
     "output_type": "display_data"
    }
   ],
   "source": [
    "# If no data table appears in the output of this cell, run the cell to display the table.\n",
    "\n",
    "try:\n",
    "    from input_table import *\n",
    "except (ImportError, FileNotFoundError) as e:\n",
    "    from IPython.display import HTML\n",
    "    print(\"Table editing will not work because `jupyter_datainputtable` module is not installed in python kernel\")\n",
    "display(HTML('<table class=\"input_table\" id=\"it_1625836762315\"><caption>Table 2: Initial and Final Temperatures</caption><tbody> <tr class=\"input_table r0\">  <th class=\"input_table r0 c0\"><select class=\"form-control table-actions\" onchange=\"var lastvalue = this.value;this.value = &quot;Table Actions&quot;;if(lastvalue==&quot;Edit Data&quot;){edit_input_table(&quot;it_1625836762315&quot;);}if(lastvalue==&quot;Data to Pandas...&quot;){data_table_to_Pandas(&quot;it_1625836762315&quot;);}\"><option title=\"Things you can do to this table.\">Table Actions</option><option title=\"Start editing the data.\">Edit Data</option><option title=\"Create a Panda DataFrame from table.\">Data to Pandas...</option></select></th><th class=\"input_table r0 c1\"><span class=\"table_label\">solid initial T (C)</span></th><th class=\"input_table r0 c2\"><span class=\"table_label\">water initial T (C)</span></th><th class=\"input_table r0 c3\"><span class=\"table_label\">final T (C)</span></th> </tr> <tr class=\"input_table r1\"><th class=\"input_table r1 c0\"><span class=\"table_label\">Brass</span></th>  <td class=\"input_table r1 c1\"><span class=\"data_cell\">0.80</span></td>  <td class=\"input_table r1 c2\"><span class=\"data_cell\">21.64</span></td>  <td class=\"input_table r1 c3\"><span class=\"data_cell\">19.94</span></td> </tr> <tr class=\"input_table r2\"><th class=\"input_table r2 c0\"><span class=\"table_label\">Lead (Pb)</span></th>  <td class=\"input_table r2 c1\"><span class=\"data_cell\">0.80</span></td>  <td class=\"input_table r2 c2\"><span class=\"data_cell\">22.04</span></td>  <td class=\"input_table r2 c3\"><span class=\"data_cell\">21.40</span></td> </tr></tbody></table>'))"
   ]
  },
  {
   "cell_type": "markdown",
   "id": "adbdd79a",
   "metadata": {
    "editable": false
   },
   "source": [
    "2. Use the temperatures you recorded to calculate the change in temperature of the water, and each solid in both experiments.\n",
    "  * You need to record your actual calculations in this notebook. Because this is a\n",
    "  computer you can do the calculation here. The computer can act as a super calculator\n",
    "  and will even properly including the units.\n",
    "  * To use the ability to do calculations with units you will use the symbolic calculation\n",
    "  capabilities of the software. The the symbolic calculations module is initialized with the command\n",
    "  `from algebra_with_sympy import *`. This statement only  needs to be used the first\n",
    "  time you want to use the package.\n",
    "  * The cell below shows an example using made up numbers. In the empty cells below\n",
    "  perform the calculations for your data.\n",
    "\n",
    "__Remember the change ($\\Delta T$) is the (final T) - (initial T).__"
   ]
  },
  {
   "cell_type": "code",
   "execution_count": 10,
   "id": "1cb01642",
   "metadata": {},
   "outputs": [
    {
     "data": {
      "text/latex": [
       "$\\displaystyle 27.7 C$"
      ],
      "text/plain": [
       "27.7*C"
      ]
     },
     "execution_count": 10,
     "metadata": {},
     "output_type": "execute_result"
    }
   ],
   "source": [
    "from algebra_with_sympy import *\n",
    "# (lines beginning with # are comments)\n",
    "# First we define our unit symbol `C`. All units behave like positive numbers.\n",
    "var('C', positive = True)\n",
    "# Now type your calculation on the last line and run the cell.\n",
    "# (This comment should say what is being calculated)\n",
    "50.02*C - 22.32*C "
   ]
  },
  {
   "cell_type": "code",
   "execution_count": 29,
   "id": "f4a1f16f",
   "metadata": {},
   "outputs": [
    {
     "data": {
      "text/latex": [
       "$\\displaystyle 19.14 C$"
      ],
      "text/plain": [
       "19.14*C"
      ]
     },
     "execution_count": 29,
     "metadata": {},
     "output_type": "execute_result"
    }
   ],
   "source": [
    "# Brass DT_s\n",
    "19.94*C - 0.80*C"
   ]
  },
  {
   "cell_type": "code",
   "execution_count": 30,
   "id": "1c514e6b",
   "metadata": {},
   "outputs": [
    {
     "data": {
      "text/latex": [
       "$\\displaystyle - 1.7 C$"
      ],
      "text/plain": [
       "-1.7*C"
      ]
     },
     "execution_count": 30,
     "metadata": {},
     "output_type": "execute_result"
    }
   ],
   "source": [
    "# Brass DT_w\n",
    "19.94*C - 21.64*C"
   ]
  },
  {
   "cell_type": "code",
   "execution_count": 31,
   "id": "5e71106e",
   "metadata": {},
   "outputs": [
    {
     "data": {
      "text/latex": [
       "$\\displaystyle 20.6 C$"
      ],
      "text/plain": [
       "20.6*C"
      ]
     },
     "execution_count": 31,
     "metadata": {},
     "output_type": "execute_result"
    }
   ],
   "source": [
    "# Pb DT_s\n",
    "21.40*C - 0.80*C"
   ]
  },
  {
   "cell_type": "code",
   "execution_count": 32,
   "id": "fc733e25",
   "metadata": {},
   "outputs": [
    {
     "data": {
      "text/latex": [
       "$\\displaystyle - 0.640000000000001 C$"
      ],
      "text/plain": [
       "-0.640000000000001*C"
      ]
     },
     "execution_count": 32,
     "metadata": {},
     "output_type": "execute_result"
    }
   ],
   "source": [
    "# Pb DT_w\n",
    "21.40*C - 22.04*C"
   ]
  },
  {
   "cell_type": "markdown",
   "id": "8ecd1117",
   "metadata": {
    "editable": false
   },
   "source": [
    "3. Record the temperature changes in the \"Temperature Changes and Heat Capacities\" table below using proper significant figures."
   ]
  },
  {
   "cell_type": "code",
   "execution_count": 51,
   "id": "ae13cb4f",
   "metadata": {
    "editable": false
   },
   "outputs": [
    {
     "data": {
      "text/html": [
       "<table class=\"input_table\" id=\"it_1625844113746\"><caption>Table 3: Temperature Changes and Heat Capacities</caption><tbody> <tr class=\"input_table r0\">  <th class=\"input_table r0 c0\"><select class=\"form-control table-actions\" onchange=\"var lastvalue = this.value;this.value = &quot;Table Actions&quot;;if(lastvalue==&quot;Edit Data&quot;){edit_input_table(&quot;it_1625844113746&quot;);}if(lastvalue==&quot;Data to Pandas...&quot;){data_table_to_Pandas(&quot;it_1625844113746&quot;);}\"><option title=\"Things you can do to this table.\">Table Actions</option><option title=\"Start editing the data.\">Edit Data</option><option title=\"Create a Panda DataFrame from table.\">Data to Pandas...</option></select></th><th class=\"input_table r0 c1\"><span class=\"table_label\">ΔT<sub>s</sub>(C)</span></th><th class=\"input_table r0 c2\"><span class=\"table_label\">ΔT<sub>w</sub>(C)</span></th><th class=\"input_table r0 c3\"><span class=\"table_label\">C<sub>s</sub>(J/C)</span></th><th class=\"input_table r0 c4\"><span class=\"table_label\">C<sub>w</sub>(J/C)</span></th><th class=\"input_table r0 c5\"><span class=\"table_label\">Solid Specific Heat Capacity (J/g/C)</span></th> </tr> <tr class=\"input_table r1\"><th class=\"input_table r1 c0\"><span class=\"table_label\">Brass</span></th>  <td class=\"input_table r1 c1\"><span class=\"data_cell\">19.14</span></td>  <td class=\"input_table r1 c2\"><span class=\"data_cell\">-1.70</span></td>  <td class=\"input_table r1 c3\"><span class=\"data_cell\">74.3</span></td>  <td class=\"input_table r1 c4\"><span class=\"data_cell\">836.8</span></td>  <td class=\"input_table r1 c5\"><span class=\"data_cell\">0.370</span></td> </tr> <tr class=\"input_table r2\"><th class=\"input_table r2 c0\"><span class=\"table_label\">Lead (Pb)</span></th>  <td class=\"input_table r2 c1\"><span class=\"data_cell\">20.60</span></td>  <td class=\"input_table r2 c2\"><span class=\"data_cell\">-0.64</span></td>  <td class=\"input_table r2 c3\"><span class=\"data_cell\">26.</span></td>  <td class=\"input_table r2 c4\"><span class=\"data_cell\">836.8</span></td>  <td class=\"input_table r2 c5\"><span class=\"data_cell\">0.13</span></td> </tr></tbody></table>"
      ],
      "text/plain": [
       "<IPython.core.display.HTML object>"
      ]
     },
     "metadata": {},
     "output_type": "display_data"
    }
   ],
   "source": [
    "# If no data table appears in the output of this cell, run the cell to display the table.\n",
    "\n",
    "try:\n",
    "    from input_table import *\n",
    "except (ImportError, FileNotFoundError) as e:\n",
    "    from IPython.display import HTML\n",
    "    print(\"Table editing will not work because `jupyter_datainputtable` module is not installed in python kernel\")\n",
    "display(HTML('<table class=\"input_table\" id=\"it_1625844113746\"><caption>Table 3: Temperature Changes and Heat Capacities</caption><tbody> <tr class=\"input_table r0\">  <th class=\"input_table r0 c0\"><select class=\"form-control table-actions\" onchange=\"var lastvalue = this.value;this.value = &quot;Table Actions&quot;;if(lastvalue==&quot;Edit Data&quot;){edit_input_table(&quot;it_1625844113746&quot;);}if(lastvalue==&quot;Data to Pandas...&quot;){data_table_to_Pandas(&quot;it_1625844113746&quot;);}\"><option title=\"Things you can do to this table.\">Table Actions</option><option title=\"Start editing the data.\">Edit Data</option><option title=\"Create a Panda DataFrame from table.\">Data to Pandas...</option></select></th><th class=\"input_table r0 c1\"><span class=\"table_label\">ΔT<sub>s</sub>(C)</span></th><th class=\"input_table r0 c2\"><span class=\"table_label\">ΔT<sub>w</sub>(C)</span></th><th class=\"input_table r0 c3\"><span class=\"table_label\">C<sub>s</sub>(J/C)</span></th><th class=\"input_table r0 c4\"><span class=\"table_label\">C<sub>w</sub>(J/C)</span></th><th class=\"input_table r0 c5\"><span class=\"table_label\">Solid Specific Heat Capacity (J/g/C)</span></th> </tr> <tr class=\"input_table r1\"><th class=\"input_table r1 c0\"><span class=\"table_label\">Brass</span></th>  <td class=\"input_table r1 c1\"><span class=\"data_cell\">19.14</span></td>  <td class=\"input_table r1 c2\"><span class=\"data_cell\">-1.70</span></td>  <td class=\"input_table r1 c3\"><span class=\"data_cell\">74.3</span></td>  <td class=\"input_table r1 c4\"><span class=\"data_cell\">836.8</span></td>  <td class=\"input_table r1 c5\"><span class=\"data_cell\">0.370</span></td> </tr> <tr class=\"input_table r2\"><th class=\"input_table r2 c0\"><span class=\"table_label\">Lead (Pb)</span></th>  <td class=\"input_table r2 c1\"><span class=\"data_cell\">20.60</span></td>  <td class=\"input_table r2 c2\"><span class=\"data_cell\">-0.64</span></td>  <td class=\"input_table r2 c3\"><span class=\"data_cell\">26.</span></td>  <td class=\"input_table r2 c4\"><span class=\"data_cell\">836.8</span></td>  <td class=\"input_table r2 c5\"><span class=\"data_cell\">0.13</span></td> </tr></tbody></table>'))"
   ]
  },
  {
   "cell_type": "markdown",
   "id": "53d98daf",
   "metadata": {
    "editable": false
   },
   "source": [
    "4. Perform the algebra to solve the following equation for the total heat capacity of the solid sample C_s, where C_w = total heat capacity of the water in the calorimeter, DT_w = the change in temperature of the water (in pretty symbols we would write $\\Delta T_w$), and DT_s = the change in temperature of the solid:\n",
    "```\n",
    "            heat gained by the solid = - heat lost by the water\n",
    "                   DT_s*C_s          =       -DT_w*C_w\n",
    "```\n",
    "This equation assumes that no energy leaks in or out of the calorimeter.\n",
    "\n",
    "You can tell the computer what steps to perform and it will do the algebra for you. \n",
    "* Run the cell below to define this equation and give it the name `eq1`.\n",
    "* Then you can perform algebra on the equation. For example to generate a new equation that has both sides multiplied by C_w, you would type the following in a cell and run it:\n",
    "```\n",
    "eq2 = eq1*C_w\n",
    "eq2\n",
    "```\n",
    "The last line `eq2` tells the computer to display the current expression assigned to `eq2`."
   ]
  },
  {
   "cell_type": "code",
   "execution_count": 18,
   "id": "7eebbc9f",
   "metadata": {
    "editable": false
   },
   "outputs": [
    {
     "data": {
      "text/latex": [
       "$\\displaystyle C_{s} DT_{s}=- C_{w} DT_{w}$"
      ],
      "text/plain": [
       "C_s*DT_s=-C_w*DT_w"
      ]
     },
     "execution_count": 18,
     "metadata": {},
     "output_type": "execute_result"
    }
   ],
   "source": [
    "var('DT_w C_w DT_s C_s') # Declare the variables we will use in our equation\n",
    "eq1 = Eqn(DT_s*C_s,-DT_w*C_w) # Notice the format is Eqn(<left hand side>,<right hand side>)\n",
    "eq1"
   ]
  },
  {
   "cell_type": "markdown",
   "id": "8885a0f8",
   "metadata": {
    "editable": false
   },
   "source": [
    "In the cell immediately below add the appropriate expression to\n",
    "the right hand side of the '=' to solve for C_s. Then run the cell."
   ]
  },
  {
   "cell_type": "code",
   "execution_count": 17,
   "id": "bb10ca1e",
   "metadata": {},
   "outputs": [
    {
     "data": {
      "text/latex": [
       "$\\displaystyle C_{s}=- \\frac{C_{w} DT_{w}}{DT_{s}}$"
      ],
      "text/plain": [
       "C_s=-C_w*DT_w/DT_s"
      ]
     },
     "execution_count": 17,
     "metadata": {},
     "output_type": "execute_result"
    }
   ],
   "source": [
    "eq2 = eq1/DT_s\n",
    "eq2"
   ]
  },
  {
   "cell_type": "markdown",
   "id": "494c0ea9",
   "metadata": {
    "editable": false
   },
   "source": [
    "5. If you did this properly $C_s$ (C_s) will be isolated on the left hand side (lhs) of the equation. Notice that the only symbol on the right hand side (rhs) that you do not have a value for is $C_w$ (C_w, the heat capacity of the water in the calorimeter).\n",
    "\n",
    "In the cell below use the facts that the specific heat capacity of water is 4.184 J/g/C and the density of water is 1.000 g/mL with the volume of water in your calorimeter to calculate $C_w$. _Notice that the units have already been defined for you._"
   ]
  },
  {
   "cell_type": "code",
   "execution_count": 20,
   "id": "849349bc",
   "metadata": {},
   "outputs": [
    {
     "data": {
      "text/latex": [
       "$\\displaystyle \\frac{836.8 J}{C}$"
      ],
      "text/plain": [
       "836.8*J/C"
      ]
     },
     "execution_count": 20,
     "metadata": {},
     "output_type": "execute_result"
    }
   ],
   "source": [
    "var('J g mL', positive = True) # Define additional units. 'C' is available from previously.\n",
    "200.0*mL*(1.000*g/mL)*4.184*J/g/C"
   ]
  },
  {
   "cell_type": "markdown",
   "id": "6a56f475",
   "metadata": {
    "editable": false
   },
   "source": [
    "Record the water heat capacity with proper significant figures in the \"Temperature Changes and Heat Capacity\" table."
   ]
  },
  {
   "cell_type": "markdown",
   "id": "e910bece",
   "metadata": {
    "editable": false
   },
   "source": [
    "6. You could now calculate $C_s$ for your samples by typing out the rhs of the equation for $C_s$ with appropriate numbers just as you would using a calculator. __However__, because we are using a computer there is a short cut that allows us to include units and limits the chance of typos such as multiplying instead of dividing. You can just tell the computer to substitute the numbers with units into the equation as shown below with made up numbers:\n",
    "```\n",
    "eq2.subs({C_w:841.2*J/C,DT_w:-1.08*C,DT_s:19.23*C})\n",
    "```\n",
    "Use a statement like the above (with correct values in it) to do the calculations in the following cells."
   ]
  },
  {
   "cell_type": "code",
   "execution_count": 43,
   "id": "def6df38",
   "metadata": {},
   "outputs": [
    {
     "data": {
      "text/latex": [
       "$\\displaystyle C_{s}=\\frac{74.3239289446186 J}{C}$"
      ],
      "text/plain": [
       "C_s=74.3239289446186*J/C"
      ]
     },
     "execution_count": 43,
     "metadata": {},
     "output_type": "execute_result"
    }
   ],
   "source": [
    "# C_s for brass\n",
    "eq2.subs({C_w:836.8*J/C,DT_w:-1.70*C,DT_s:19.14*C})"
   ]
  },
  {
   "cell_type": "code",
   "execution_count": 45,
   "id": "c7dbdc1d",
   "metadata": {},
   "outputs": [
    {
     "data": {
      "text/latex": [
       "$\\displaystyle C_{s}=\\frac{25.9976699029126 J}{C}$"
      ],
      "text/plain": [
       "C_s=25.9976699029126*J/C"
      ]
     },
     "execution_count": 45,
     "metadata": {},
     "output_type": "execute_result"
    }
   ],
   "source": [
    "# C_s for lead\n",
    "eq2.subs({C_w:836.8*J/C,DT_w:-0.64*C,DT_s:20.60*C})"
   ]
  },
  {
   "cell_type": "markdown",
   "id": "415d66b2",
   "metadata": {
    "editable": false
   },
   "source": [
    "Record these values with proper significant figures in the \"Temperature Changes and Heat Capacity\" table."
   ]
  },
  {
   "cell_type": "markdown",
   "id": "2bf52a2b",
   "metadata": {
    "editable": false
   },
   "source": [
    "7. In the cells below use the $C_s$  values and the masses of your solids to calculate the specific heat capacity of each of the samples. Record the values with proper significant figures in the \"Temperature Changes and Heat Capacity\" table."
   ]
  },
  {
   "cell_type": "code",
   "execution_count": 49,
   "id": "f1ad6000",
   "metadata": {},
   "outputs": [
    {
     "data": {
      "text/latex": [
       "$\\displaystyle \\frac{0.370351909081846 J}{C g}$"
      ],
      "text/plain": [
       "0.370351909081846*J/(C*g)"
      ]
     },
     "execution_count": 49,
     "metadata": {},
     "output_type": "execute_result"
    }
   ],
   "source": [
    "# Specific heat for brass\n",
    "74.3*J/C/200.62/g"
   ]
  },
  {
   "cell_type": "code",
   "execution_count": 50,
   "id": "8245acfd",
   "metadata": {},
   "outputs": [
    {
     "data": {
      "text/latex": [
       "$\\displaystyle \\frac{0.129282482223659 J}{C g}$"
      ],
      "text/plain": [
       "0.129282482223659*J/(C*g)"
      ]
     },
     "execution_count": 50,
     "metadata": {},
     "output_type": "execute_result"
    }
   ],
   "source": [
    "# Specific heat for lead\n",
    "26*J/C/201.11/g"
   ]
  },
  {
   "cell_type": "markdown",
   "id": "184dda4b",
   "metadata": {
    "editable": false
   },
   "source": [
    "### IV. Post Lab\n",
    "Answer the following questions to complete this lab."
   ]
  },
  {
   "cell_type": "markdown",
   "id": "1b659ada",
   "metadata": {
    "editable": false
   },
   "source": [
    "1. How do your calculated values for specific heat capacity compare with the literature values of 0.377 J/g/C for brass and 0.130 J/g/C for lead? __Hint__: consider the range of values indicated by the significant figures in your calculated values and the literature values."
   ]
  },
  {
   "cell_type": "markdown",
   "id": "e4a523ff",
   "metadata": {},
   "source": [
    "_Double click on this text and replace it with your answer to question 1_"
   ]
  },
  {
   "cell_type": "markdown",
   "id": "c59e8bc5",
   "metadata": {
    "editable": false
   },
   "source": [
    "2. If you were careful, the discrepancy between the literature values and your experimental values are primarily due to assuming a perfect calorimeter and that only the water and solids have any heat capacity. In reality the syrofoam cups are not perfect insulators, plus the cups, temperature probe and stir bar also contribute to the heat capacity. To estimate how good or bad the assumptions made were perform the following analysis."
   ]
  },
  {
   "cell_type": "markdown",
   "id": "c842e2c9",
   "metadata": {
    "editable": false
   },
   "source": [
    "  a. In the cell below solve `eq1` for $C_w$ (C_w) instead of $C_s$. I suggest calling the answer `eq3` so as not to replace `eq2`."
   ]
  },
  {
   "cell_type": "code",
   "execution_count": 24,
   "id": "f82f9efe",
   "metadata": {},
   "outputs": [],
   "source": [
    "# Solving `eq1` for C_w"
   ]
  },
  {
   "cell_type": "markdown",
   "id": "f0e8ca91",
   "metadata": {
    "editable": false
   },
   "source": [
    "  b. Use the literature value for the specific heat of brass, combined with the mass of your sample to calculate an apparent value for $C_w$."
   ]
  },
  {
   "cell_type": "code",
   "execution_count": 25,
   "id": "f180bab1",
   "metadata": {},
   "outputs": [],
   "source": [
    "# Use `eq3.subs({...}) to calculate C_w"
   ]
  },
  {
   "cell_type": "markdown",
   "id": "4d3c6c2c",
   "metadata": {
    "editable": false
   },
   "source": [
    "  c. Calculate the difference between this apparent $C_w$ and the $C_w$ you used assuming\n",
    "  perfection. How does this number compare with the uncertainty as determined from proper\n",
    "  significant figures in your calculation of $C_w$ assuming perfection?"
   ]
  },
  {
   "cell_type": "code",
   "execution_count": 1,
   "id": "ba41d669",
   "metadata": {},
   "outputs": [],
   "source": [
    "# Calculations for questions 2c"
   ]
  },
  {
   "cell_type": "markdown",
   "id": "4e809846",
   "metadata": {},
   "source": [
    "_Double click on this text and replace it with your answer to question 2c_"
   ]
  }
 ],
 "metadata": {
  "kernelspec": {
   "display_name": "Python 3 (ipykernel)",
   "language": "python",
   "name": "python3"
  },
  "language_info": {
   "codemirror_mode": {
    "name": "ipython",
    "version": 3
   },
   "file_extension": ".py",
   "mimetype": "text/x-python",
   "name": "python",
   "nbconvert_exporter": "python",
   "pygments_lexer": "ipython3",
   "version": "3.10.8"
  },
  "widgets": {
   "application/vnd.jupyter.widget-state+json": {
    "state": {
     "0077053fea7e4f9ea76870f25be3d88f": {
      "model_module": "@jupyter-widgets/base",
      "model_module_version": "1.2.0",
      "model_name": "LayoutModel",
      "state": {}
     },
     "00e49d22b937406c9773ca949e869ddc": {
      "model_module": "@jupyter-widgets/controls",
      "model_module_version": "1.5.0",
      "model_name": "DescriptionStyleModel",
      "state": {
       "description_width": ""
      }
     },
     "0103fdc1fbd344669f5e026b334ad7d6": {
      "model_module": "@jupyter-widgets/controls",
      "model_module_version": "1.5.0",
      "model_name": "DescriptionStyleModel",
      "state": {
       "description_width": ""
      }
     },
     "0296fdc751d84fa99e945941fc7575a6": {
      "model_module": "@jupyter-widgets/controls",
      "model_module_version": "1.5.0",
      "model_name": "DescriptionStyleModel",
      "state": {
       "description_width": ""
      }
     },
     "0427b4b10a0c40ff868820e625901233": {
      "model_module": "@jupyter-widgets/base",
      "model_module_version": "1.2.0",
      "model_name": "LayoutModel",
      "state": {}
     },
     "05bf6b3534a0414797f1e41cea4f5e42": {
      "model_module": "@jupyter-widgets/base",
      "model_module_version": "1.2.0",
      "model_name": "LayoutModel",
      "state": {}
     },
     "0621657546f74fc5a0cff904bb6b6a5d": {
      "model_module": "@jupyter-widgets/controls",
      "model_module_version": "1.5.0",
      "model_name": "DescriptionStyleModel",
      "state": {
       "description_width": ""
      }
     },
     "09e7d0078daf45fb8abdabce8f10710b": {
      "model_module": "@jupyter-widgets/base",
      "model_module_version": "1.2.0",
      "model_name": "LayoutModel",
      "state": {}
     },
     "0a8eecf369d3445386b3d6eeb6ea38e2": {
      "model_module": "@jupyter-widgets/controls",
      "model_module_version": "1.5.0",
      "model_name": "DropdownModel",
      "state": {
       "_options_labels": [
        "0",
        "1",
        "2",
        "3",
        "4",
        "5",
        "6",
        "7",
        "8"
       ],
       "description": "Channel:",
       "disabled": true,
       "index": 0,
       "layout": "IPY_MODEL_251423968e91457c84c4baf25062eacc",
       "style": "IPY_MODEL_9d12997437e34497bdc6225ad78b010c"
      }
     },
     "0ac363e1c1b64115821d409603507dde": {
      "model_module": "@jupyter-widgets/controls",
      "model_module_version": "1.5.0",
      "model_name": "HBoxModel",
      "state": {
       "children": [
        "IPY_MODEL_bc06abc0b98241878196e2e6a5e5db59",
        "IPY_MODEL_f1732711eff7471997cdeb6bb3c29662",
        "IPY_MODEL_5ebadd29c28d46758027f71a06a7acef"
       ],
       "layout": "IPY_MODEL_1458407da2aa473a980c56bf6bc71d5e"
      }
     },
     "0ad32676651b4f72b5465f843fcfa558": {
      "model_module": "@jupyter-widgets/base",
      "model_module_version": "1.2.0",
      "model_name": "LayoutModel",
      "state": {}
     },
     "0b7c16bdc9bc4f3ea48b222889243654": {
      "model_module": "@jupyter-widgets/controls",
      "model_module_version": "1.5.0",
      "model_name": "DropdownModel",
      "state": {
       "_options_labels": [
        "1"
       ],
       "description": "gains:",
       "disabled": true,
       "index": 0,
       "layout": "IPY_MODEL_d1f6bff0a1cd4b7fb845b496df5ca98b",
       "style": "IPY_MODEL_a273cebd267d496f8d879c25351b3eb0"
      }
     },
     "0b95463b02a44eba90311a6c6f8b3b40": {
      "model_module": "@jupyter-widgets/controls",
      "model_module_version": "1.5.0",
      "model_name": "DescriptionStyleModel",
      "state": {
       "description_width": ""
      }
     },
     "0c9fd376dc1e48ffb6b2d5efcd067253": {
      "model_module": "@jupyter-widgets/controls",
      "model_module_version": "1.5.0",
      "model_name": "DescriptionStyleModel",
      "state": {
       "description_width": ""
      }
     },
     "0cb88ff667fe4e19b3b2275f0d15755c": {
      "model_module": "@jupyter-widgets/controls",
      "model_module_version": "1.5.0",
      "model_name": "DropdownModel",
      "state": {
       "_options_labels": [
        "0",
        "1",
        "2",
        "3",
        "4",
        "5",
        "6",
        "7",
        "8"
       ],
       "description": "Channel:",
       "disabled": true,
       "index": 0,
       "layout": "IPY_MODEL_46872ea6190447f792985b7158c5ae04",
       "style": "IPY_MODEL_eab09e5353f444e8a3f2ddcee523b578"
      }
     },
     "0d2e40f9b41e46c7bae5d2881117dd99": {
      "model_module": "@jupyter-widgets/controls",
      "model_module_version": "1.5.0",
      "model_name": "DescriptionStyleModel",
      "state": {
       "description_width": ""
      }
     },
     "103d44ff46194105b896ea277d3344eb": {
      "model_module": "@jupyter-widgets/base",
      "model_module_version": "1.2.0",
      "model_name": "LayoutModel",
      "state": {}
     },
     "106aa8a5781e4d5e8c92ca41e9e764c4": {
      "model_module": "@jupyter-widgets/base",
      "model_module_version": "1.2.0",
      "model_name": "LayoutModel",
      "state": {}
     },
     "12475597e1834bddbb95e86aafa80b1c": {
      "model_module": "@jupyter-widgets/base",
      "model_module_version": "1.2.0",
      "model_name": "LayoutModel",
      "state": {}
     },
     "12de8f2f4935498f885103d6da95833d": {
      "model_module": "@jupyter-widgets/base",
      "model_module_version": "1.2.0",
      "model_name": "LayoutModel",
      "state": {}
     },
     "133b4b51d35c4c77aea8f5f6f270abbf": {
      "model_module": "@jupyter-widgets/controls",
      "model_module_version": "1.5.0",
      "model_name": "DropdownModel",
      "state": {
       "_options_labels": [
        "0 DAQC2"
       ],
       "description": "Board:",
       "index": 0,
       "layout": "IPY_MODEL_7b0b6343a3c242cc88963809874dce11",
       "style": "IPY_MODEL_f3d3961be5304da5ae7daf4ca11566e6"
      }
     },
     "13ac93c8925b4fc1bf852c52093a071a": {
      "model_module": "@jupyter-widgets/base",
      "model_module_version": "1.2.0",
      "model_name": "LayoutModel",
      "state": {}
     },
     "1458407da2aa473a980c56bf6bc71d5e": {
      "model_module": "@jupyter-widgets/base",
      "model_module_version": "1.2.0",
      "model_name": "LayoutModel",
      "state": {}
     },
     "151022fb0bf1484aaf5c2e115d56eb83": {
      "model_module": "@jupyter-widgets/controls",
      "model_module_version": "1.5.0",
      "model_name": "DropdownModel",
      "state": {
       "_options_labels": [
        "1"
       ],
       "description": "gains:",
       "disabled": true,
       "index": 0,
       "layout": "IPY_MODEL_74a968ad6574497d9c1580016b50f050",
       "style": "IPY_MODEL_d96ecb6d408949ef8e01360370ffb620"
      }
     },
     "174a94d64efd493a94136c3d04a9e97e": {
      "model_module": "@jupyter-widgets/base",
      "model_module_version": "1.2.0",
      "model_name": "LayoutModel",
      "state": {}
     },
     "1762a1b3d2dc4c55a227f7f2ae1ee004": {
      "model_module": "@jupyter-widgets/base",
      "model_module_version": "1.2.0",
      "model_name": "LayoutModel",
      "state": {}
     },
     "1816f159eec24afc94daf4b56417329a": {
      "model_module": "@jupyter-widgets/base",
      "model_module_version": "1.2.0",
      "model_name": "LayoutModel",
      "state": {}
     },
     "18f0576d871c4f40bfcbef1cf595d2e3": {
      "model_module": "@jupyter-widgets/controls",
      "model_module_version": "1.5.0",
      "model_name": "DescriptionStyleModel",
      "state": {
       "description_width": ""
      }
     },
     "1a376e33b7da4896a1ba104d282c0ed2": {
      "model_module": "@jupyter-widgets/controls",
      "model_module_version": "1.5.0",
      "model_name": "DescriptionStyleModel",
      "state": {
       "description_width": ""
      }
     },
     "1a7c681e1d514fe6b9e4cf2c99a8bc75": {
      "model_module": "@jupyter-widgets/base",
      "model_module_version": "1.2.0",
      "model_name": "LayoutModel",
      "state": {}
     },
     "1ae787d2075345db994462844dfae37e": {
      "model_module": "@jupyter-widgets/base",
      "model_module_version": "1.2.0",
      "model_name": "LayoutModel",
      "state": {}
     },
     "1b0bcc4b85e74dcba64cbeb3bab876c5": {
      "model_module": "@jupyter-widgets/controls",
      "model_module_version": "1.5.0",
      "model_name": "DescriptionStyleModel",
      "state": {
       "description_width": ""
      }
     },
     "1b43c72b50b54bb49943e3120d960e35": {
      "model_module": "@jupyter-widgets/controls",
      "model_module_version": "1.5.0",
      "model_name": "HBoxModel",
      "state": {
       "children": [
        null,
        "IPY_MODEL_dee13fcb4d6f4eea967214d6fc05b29f"
       ],
       "layout": "IPY_MODEL_b867e61f4f864ddbb6f917f280c4cfe0"
      }
     },
     "1d4a6d11e78348cbbe3fe55efa6414b5": {
      "model_module": "@jupyter-widgets/base",
      "model_module_version": "1.2.0",
      "model_name": "LayoutModel",
      "state": {}
     },
     "1d5554a1ce8b4c2cb554ccf5b09e2367": {
      "model_module": "@jupyter-widgets/base",
      "model_module_version": "1.2.0",
      "model_name": "LayoutModel",
      "state": {}
     },
     "1e29e694ae2348d69a7a99586accf6ac": {
      "model_module": "@jupyter-widgets/controls",
      "model_module_version": "1.5.0",
      "model_name": "DescriptionStyleModel",
      "state": {
       "description_width": ""
      }
     },
     "1ee454d7478b4da6972b33b190c175e1": {
      "model_module": "@jupyter-widgets/base",
      "model_module_version": "1.2.0",
      "model_name": "LayoutModel",
      "state": {}
     },
     "1ee8d925d7294d8abaf9282c42cef906": {
      "model_module": "@jupyter-widgets/base",
      "model_module_version": "1.2.0",
      "model_name": "LayoutModel",
      "state": {
       "border": "solid"
      }
     },
     "1ef1b8c8051e40f099eee109a3c8ec3c": {
      "model_module": "@jupyter-widgets/controls",
      "model_module_version": "1.5.0",
      "model_name": "DropdownModel",
      "state": {
       "_options_labels": [
        "1"
       ],
       "description": "gains:",
       "index": 0,
       "layout": "IPY_MODEL_231f5f02116b4410b0a6d3302be4cfef",
       "style": "IPY_MODEL_25e1b7cd9bb64cdfbbe952e8ca729f52"
      }
     },
     "1f4c1a9beaf84129a318f3ed9b6d2440": {
      "model_module": "@jupyter-widgets/controls",
      "model_module_version": "1.5.0",
      "model_name": "DescriptionStyleModel",
      "state": {
       "description_width": ""
      }
     },
     "2017b05c941f435ebe9c92b23150e596": {
      "model_module": "@jupyter-widgets/controls",
      "model_module_version": "1.5.0",
      "model_name": "DropdownModel",
      "state": {
       "_options_labels": [
        "1"
       ],
       "description": "gains:",
       "index": 0,
       "layout": "IPY_MODEL_7418776d02e34380a6599709035eb5d6",
       "style": "IPY_MODEL_d01fd0e1d7ba4f3aba7ec68778b0ae9a"
      }
     },
     "20f1200235074deb949a794f4562a8c5": {
      "model_module": "@jupyter-widgets/base",
      "model_module_version": "1.2.0",
      "model_name": "LayoutModel",
      "state": {}
     },
     "21464478473d420ea7d13dfb2bdb5f63": {
      "model_module": "@jupyter-widgets/base",
      "model_module_version": "1.2.0",
      "model_name": "LayoutModel",
      "state": {}
     },
     "21587dc4d6424ae9b0b0d5acd1783792": {
      "model_module": "@jupyter-widgets/base",
      "model_module_version": "1.2.0",
      "model_name": "LayoutModel",
      "state": {}
     },
     "21f505f227504b47b9e8b789b8073b66": {
      "model_module": "@jupyter-widgets/base",
      "model_module_version": "1.2.0",
      "model_name": "LayoutModel",
      "state": {
       "border": "solid"
      }
     },
     "225ab628cd9246c9bb9054af6093e0d2": {
      "model_module": "@jupyter-widgets/controls",
      "model_module_version": "1.5.0",
      "model_name": "DropdownModel",
      "state": {
       "_options_labels": [
        "0 DAQC2"
       ],
       "description": "Board:",
       "disabled": true,
       "index": 0,
       "layout": "IPY_MODEL_7368c248d31c4aa98400ded08ef35620",
       "style": "IPY_MODEL_a367a36cb6714a4a9491e89c0c749dde"
      }
     },
     "227e885abeb34ef2ac28ea9ab618cfa4": {
      "model_module": "@jupyter-widgets/base",
      "model_module_version": "1.2.0",
      "model_name": "LayoutModel",
      "state": {}
     },
     "22ff10a622934246897a1b07759b56df": {
      "model_module": "@jupyter-widgets/controls",
      "model_module_version": "1.5.0",
      "model_name": "DescriptionStyleModel",
      "state": {
       "description_width": ""
      }
     },
     "231f5f02116b4410b0a6d3302be4cfef": {
      "model_module": "@jupyter-widgets/base",
      "model_module_version": "1.2.0",
      "model_name": "LayoutModel",
      "state": {}
     },
     "24074a2421d64293bea1921f636c320a": {
      "model_module": "@jupyter-widgets/controls",
      "model_module_version": "1.5.0",
      "model_name": "DescriptionStyleModel",
      "state": {
       "description_width": ""
      }
     },
     "251423968e91457c84c4baf25062eacc": {
      "model_module": "@jupyter-widgets/base",
      "model_module_version": "1.2.0",
      "model_name": "LayoutModel",
      "state": {}
     },
     "25221bb9324e4edaaddc423b137028a6": {
      "model_module": "@jupyter-widgets/base",
      "model_module_version": "1.2.0",
      "model_name": "LayoutModel",
      "state": {}
     },
     "2531bd3efb9a4e458604b2b324212a71": {
      "model_module": "@jupyter-widgets/controls",
      "model_module_version": "1.5.0",
      "model_name": "DropdownModel",
      "state": {
       "_options_labels": [
        "0 DAQC2"
       ],
       "description": "Board:",
       "index": 0,
       "layout": "IPY_MODEL_8b51367fa8a8472d94baae3648f7c0e3",
       "style": "IPY_MODEL_41b9ae16cf754eb9a5d5763cbfc6a989"
      }
     },
     "25be88dbf5c9467fb7200d1f6ceac774": {
      "model_module": "@jupyter-widgets/base",
      "model_module_version": "1.2.0",
      "model_name": "LayoutModel",
      "state": {}
     },
     "25ca292ad45a42c6b37ae8cdb2f528b3": {
      "model_module": "@jupyter-widgets/controls",
      "model_module_version": "1.5.0",
      "model_name": "DescriptionStyleModel",
      "state": {
       "description_width": ""
      }
     },
     "25e1b7cd9bb64cdfbbe952e8ca729f52": {
      "model_module": "@jupyter-widgets/controls",
      "model_module_version": "1.5.0",
      "model_name": "DescriptionStyleModel",
      "state": {
       "description_width": ""
      }
     },
     "26464330ea5e4f738887a2b8a3ec3c03": {
      "model_module": "@jupyter-widgets/controls",
      "model_module_version": "1.5.0",
      "model_name": "BoundedFloatTextModel",
      "state": {
       "description": "Rate (Hz):",
       "disabled": true,
       "layout": "IPY_MODEL_a8aad311ed59444a9895af79b02238f7",
       "max": 3,
       "step": 0.003,
       "style": "IPY_MODEL_a3488e69d34f4f3ba40c0b9484e0b9fb",
       "value": 1
      }
     },
     "2a025435293a469e93eb18f0484c04f4": {
      "model_module": "@jupyter-widgets/controls",
      "model_module_version": "1.5.0",
      "model_name": "DescriptionStyleModel",
      "state": {
       "description_width": ""
      }
     },
     "2b1950d5279f453f84dfb612b5076f3e": {
      "model_module": "@jupyter-widgets/base",
      "model_module_version": "1.2.0",
      "model_name": "LayoutModel",
      "state": {}
     },
     "2f56863a465649829fa7eba8de2537c4": {
      "model_module": "@jupyter-widgets/controls",
      "model_module_version": "1.5.0",
      "model_name": "BoundedFloatTextModel",
      "state": {
       "description": "Rate (Hz):",
       "disabled": true,
       "layout": "IPY_MODEL_35dddc7cf1a645849bdbaf1b430412ce",
       "max": 3,
       "step": 0.003,
       "style": "IPY_MODEL_24074a2421d64293bea1921f636c320a",
       "value": 1
      }
     },
     "31540b762cda499fb2081672f7bf8d0d": {
      "model_module": "@jupyter-widgets/base",
      "model_module_version": "1.2.0",
      "model_name": "LayoutModel",
      "state": {}
     },
     "31c13833cf544526820e31e4df98daab": {
      "model_module": "@jupyter-widgets/base",
      "model_module_version": "1.2.0",
      "model_name": "LayoutModel",
      "state": {}
     },
     "3341ad3220b9402bad9921db85416fff": {
      "model_module": "@jupyter-widgets/base",
      "model_module_version": "1.2.0",
      "model_name": "LayoutModel",
      "state": {}
     },
     "3343bef36ad941ff8a5a9b1054e7f7cd": {
      "model_module": "@jupyter-widgets/base",
      "model_module_version": "1.2.0",
      "model_name": "LayoutModel",
      "state": {}
     },
     "3362f8e8d54845c694f35f57f54f2c8a": {
      "model_module": "@jupyter-widgets/controls",
      "model_module_version": "1.5.0",
      "model_name": "DescriptionStyleModel",
      "state": {
       "description_width": ""
      }
     },
     "3403ec7ad48b400e901c642e18118d93": {
      "model_module": "@jupyter-widgets/base",
      "model_module_version": "1.2.0",
      "model_name": "LayoutModel",
      "state": {}
     },
     "343b6f4106ec4874a675fb4871d7fdb2": {
      "model_module": "@jupyter-widgets/controls",
      "model_module_version": "1.5.0",
      "model_name": "DescriptionStyleModel",
      "state": {
       "description_width": ""
      }
     },
     "34e65a834d6a4876b49274214b762058": {
      "model_module": "@jupyter-widgets/base",
      "model_module_version": "1.2.0",
      "model_name": "LayoutModel",
      "state": {}
     },
     "3502aa05ceab45eaa7332ecd6729a3d4": {
      "model_module": "@jupyter-widgets/base",
      "model_module_version": "1.2.0",
      "model_name": "LayoutModel",
      "state": {
       "border": "solid"
      }
     },
     "35b053ed2cdf42b384921e72439450eb": {
      "model_module": "@jupyter-widgets/base",
      "model_module_version": "1.2.0",
      "model_name": "LayoutModel",
      "state": {}
     },
     "35dddc7cf1a645849bdbaf1b430412ce": {
      "model_module": "@jupyter-widgets/base",
      "model_module_version": "1.2.0",
      "model_name": "LayoutModel",
      "state": {}
     },
     "369866c2148a4f169524e750d62ab0b4": {
      "model_module": "@jupyter-widgets/base",
      "model_module_version": "1.2.0",
      "model_name": "LayoutModel",
      "state": {}
     },
     "387bf035581342b89cc60996b2924379": {
      "model_module": "@jupyter-widgets/base",
      "model_module_version": "1.2.0",
      "model_name": "LayoutModel",
      "state": {
       "width": "80%"
      }
     },
     "38d058da7bab4f6892e02c25a5d530cb": {
      "model_module": "@jupyter-widgets/controls",
      "model_module_version": "1.5.0",
      "model_name": "DescriptionStyleModel",
      "state": {
       "description_width": ""
      }
     },
     "39c76d819dba47cd8f8cf7ecabdc494e": {
      "model_module": "plotlywidget",
      "model_module_version": "^4.14.3",
      "model_name": "FigureModel",
      "state": {
       "_config": {
        "plotlyServerURL": "https://plot.ly"
       },
       "_data": [
        {
         "name": "Temperature (C)(C)",
         "type": "scatter",
         "uid": "7ac737bc-407c-44b7-84d3-357ae75cb649",
         "x": [
          0.052262067794799805,
          1.0508487224578857,
          2.0492420196533203,
          3.048180103302002,
          4.047180891036987,
          5.046187400817871,
          6.045210123062134,
          7.043739557266235,
          8.042788982391357,
          9.041792631149292,
          10.040805101394653,
          11.039787292480469,
          12.03874659538269,
          13.037781476974487,
          14.036832571029663,
          15.035786151885986,
          16.034790515899658,
          17.03376293182373,
          18.032761573791504,
          19.031739950180054,
          20.03077459335327,
          21.029781341552734,
          22.028780698776245,
          23.0277042388916,
          24.02662944793701,
          25.025652647018433,
          26.024651288986206,
          27.023610830307007,
          28.022674798965454,
          29.02159833908081,
          30.02063798904419,
          31.01979112625122,
          32.01864290237427,
          33.017619609832764,
          34.01665282249451,
          35.015628814697266,
          36.014628648757935,
          37.0135977268219,
          38.01259398460388,
          39.011557817459106,
          40.01060700416565,
          41.00960421562195,
          42.008609771728516,
          43.00758934020996,
          44.00666332244873,
          45.00562024116516,
          46.00464177131653,
          47.003214597702026,
          48.002220153808594,
          49.00160503387451,
          50.000420570373535,
          50.998647928237915,
          51.997658491134644,
          52.996814489364624,
          53.99567008018494,
          54.99475312232971,
          55.99373197555542,
          56.99270415306091,
          57.991655588150024,
          58.9906439781189,
          59.98961043357849,
          60.988603591918945,
          61.98758864402771,
          62.98659563064575,
          63.985596656799316,
          64.98469185829163,
          65.98370957374573,
          66.98277568817139,
          67.98175954818726,
          68.98073029518127,
          69.97968363761902,
          70.97864532470703,
          71.97767996788025,
          72.97700476646423,
          73.97602987289429,
          74.97458553314209,
          75.97355604171753,
          76.97255825996399,
          77.97157859802246,
          78.9706015586853,
          79.9695873260498,
          80.96866774559021,
          81.96764397621155,
          82.96662831306458,
          83.96562623977661,
          84.96468043327332,
          85.9636480808258,
          86.96263456344604,
          87.96161961555481,
          88.96059966087341,
          89.95963525772095,
          90.95856523513794,
          91.95753121376038,
          92.95651364326477,
          93.95477271080017,
          94.95373749732971,
          95.95270538330078,
          96.95169115066528,
          97.9506344795227,
          98.94961857795715,
          99.94858837127686,
          100.94757890701294,
          101.946604013443,
          102.94572520256042,
          103.94467782974243,
          104.94381833076477,
          105.94261479377747,
          106.94159650802612,
          107.94060707092285,
          108.93956303596497,
          109.9385929107666,
          110.93758296966553,
          111.93661642074585,
          112.9355456829071,
          113.93461489677429,
          114.93359684944153,
          115.9326024055481
         ],
         "xaxis": "x",
         "y": [
          22.046,
          22.024,
          22.04,
          22.03,
          22.03,
          22.027,
          22.027,
          22.025,
          22.035,
          22.04,
          22.036,
          22.036,
          22.032,
          22.035,
          22.04,
          22.04,
          22.032,
          22.04,
          22.049,
          22.026,
          22.034,
          22.028,
          22.042,
          22.035,
          22.043,
          22.032,
          22.037,
          22.04,
          22.038,
          22.03,
          22.052,
          22.05,
          22.047,
          22.05,
          22.04,
          22.06,
          22.05,
          22.041,
          21.947,
          21.85,
          21.73,
          21.622,
          21.567,
          21.5,
          21.492,
          21.44,
          21.43,
          21.41,
          21.44,
          21.39,
          21.4,
          21.39,
          21.42,
          21.41,
          21.415,
          21.41,
          21.39,
          21.424,
          21.4,
          21.43,
          21.423,
          21.409,
          21.419,
          21.42,
          21.41,
          21.404,
          21.4,
          21.412,
          21.4,
          21.414,
          21.44,
          21.4,
          21.4,
          21.4,
          21.412,
          21.41,
          21.426,
          21.413,
          21.414,
          21.412,
          21.42,
          21.423,
          21.417,
          21.415,
          21.414,
          21.418,
          21.418,
          21.41,
          21.42,
          21.424,
          21.421,
          21.415,
          21.42,
          21.424,
          21.42,
          21.418,
          21.41,
          21.431,
          21.38,
          21.412,
          21.42,
          21.416,
          21.41,
          21.414,
          21.41,
          21.421,
          21.416,
          21.414,
          21.41,
          21.421,
          21.39,
          21.415,
          21.4,
          21.43,
          21.41,
          21.43,
          21.4
         ],
         "yaxis": "y"
        }
       ],
       "_js2py_relayout": {},
       "_js2py_restyle": {},
       "_js2py_update": {},
       "_last_layout_edit_id": 144,
       "_last_trace_edit_id": 144,
       "_layout": {
        "template": {
         "data": {
          "bar": [
           {
            "error_x": {
             "color": "rgb(36,36,36)"
            },
            "error_y": {
             "color": "rgb(36,36,36)"
            },
            "marker": {
             "line": {
              "color": "white",
              "width": 0.5
             }
            },
            "type": "bar"
           }
          ],
          "barpolar": [
           {
            "marker": {
             "line": {
              "color": "white",
              "width": 0.5
             }
            },
            "type": "barpolar"
           }
          ],
          "carpet": [
           {
            "aaxis": {
             "endlinecolor": "rgb(36,36,36)",
             "gridcolor": "white",
             "linecolor": "white",
             "minorgridcolor": "white",
             "startlinecolor": "rgb(36,36,36)"
            },
            "baxis": {
             "endlinecolor": "rgb(36,36,36)",
             "gridcolor": "white",
             "linecolor": "white",
             "minorgridcolor": "white",
             "startlinecolor": "rgb(36,36,36)"
            },
            "type": "carpet"
           }
          ],
          "choropleth": [
           {
            "colorbar": {
             "outlinewidth": 1,
             "tickcolor": "rgb(36,36,36)",
             "ticks": "outside"
            },
            "type": "choropleth"
           }
          ],
          "contour": [
           {
            "colorbar": {
             "outlinewidth": 1,
             "tickcolor": "rgb(36,36,36)",
             "ticks": "outside"
            },
            "colorscale": [
             [
              0,
              "#440154"
             ],
             [
              0.1111111111111111,
              "#482878"
             ],
             [
              0.2222222222222222,
              "#3e4989"
             ],
             [
              0.3333333333333333,
              "#31688e"
             ],
             [
              0.4444444444444444,
              "#26828e"
             ],
             [
              0.5555555555555556,
              "#1f9e89"
             ],
             [
              0.6666666666666666,
              "#35b779"
             ],
             [
              0.7777777777777778,
              "#6ece58"
             ],
             [
              0.8888888888888888,
              "#b5de2b"
             ],
             [
              1,
              "#fde725"
             ]
            ],
            "type": "contour"
           }
          ],
          "contourcarpet": [
           {
            "colorbar": {
             "outlinewidth": 1,
             "tickcolor": "rgb(36,36,36)",
             "ticks": "outside"
            },
            "type": "contourcarpet"
           }
          ],
          "heatmap": [
           {
            "colorbar": {
             "outlinewidth": 1,
             "tickcolor": "rgb(36,36,36)",
             "ticks": "outside"
            },
            "colorscale": [
             [
              0,
              "#440154"
             ],
             [
              0.1111111111111111,
              "#482878"
             ],
             [
              0.2222222222222222,
              "#3e4989"
             ],
             [
              0.3333333333333333,
              "#31688e"
             ],
             [
              0.4444444444444444,
              "#26828e"
             ],
             [
              0.5555555555555556,
              "#1f9e89"
             ],
             [
              0.6666666666666666,
              "#35b779"
             ],
             [
              0.7777777777777778,
              "#6ece58"
             ],
             [
              0.8888888888888888,
              "#b5de2b"
             ],
             [
              1,
              "#fde725"
             ]
            ],
            "type": "heatmap"
           }
          ],
          "heatmapgl": [
           {
            "colorbar": {
             "outlinewidth": 1,
             "tickcolor": "rgb(36,36,36)",
             "ticks": "outside"
            },
            "colorscale": [
             [
              0,
              "#440154"
             ],
             [
              0.1111111111111111,
              "#482878"
             ],
             [
              0.2222222222222222,
              "#3e4989"
             ],
             [
              0.3333333333333333,
              "#31688e"
             ],
             [
              0.4444444444444444,
              "#26828e"
             ],
             [
              0.5555555555555556,
              "#1f9e89"
             ],
             [
              0.6666666666666666,
              "#35b779"
             ],
             [
              0.7777777777777778,
              "#6ece58"
             ],
             [
              0.8888888888888888,
              "#b5de2b"
             ],
             [
              1,
              "#fde725"
             ]
            ],
            "type": "heatmapgl"
           }
          ],
          "histogram": [
           {
            "marker": {
             "line": {
              "color": "white",
              "width": 0.6
             }
            },
            "type": "histogram"
           }
          ],
          "histogram2d": [
           {
            "colorbar": {
             "outlinewidth": 1,
             "tickcolor": "rgb(36,36,36)",
             "ticks": "outside"
            },
            "colorscale": [
             [
              0,
              "#440154"
             ],
             [
              0.1111111111111111,
              "#482878"
             ],
             [
              0.2222222222222222,
              "#3e4989"
             ],
             [
              0.3333333333333333,
              "#31688e"
             ],
             [
              0.4444444444444444,
              "#26828e"
             ],
             [
              0.5555555555555556,
              "#1f9e89"
             ],
             [
              0.6666666666666666,
              "#35b779"
             ],
             [
              0.7777777777777778,
              "#6ece58"
             ],
             [
              0.8888888888888888,
              "#b5de2b"
             ],
             [
              1,
              "#fde725"
             ]
            ],
            "type": "histogram2d"
           }
          ],
          "histogram2dcontour": [
           {
            "colorbar": {
             "outlinewidth": 1,
             "tickcolor": "rgb(36,36,36)",
             "ticks": "outside"
            },
            "colorscale": [
             [
              0,
              "#440154"
             ],
             [
              0.1111111111111111,
              "#482878"
             ],
             [
              0.2222222222222222,
              "#3e4989"
             ],
             [
              0.3333333333333333,
              "#31688e"
             ],
             [
              0.4444444444444444,
              "#26828e"
             ],
             [
              0.5555555555555556,
              "#1f9e89"
             ],
             [
              0.6666666666666666,
              "#35b779"
             ],
             [
              0.7777777777777778,
              "#6ece58"
             ],
             [
              0.8888888888888888,
              "#b5de2b"
             ],
             [
              1,
              "#fde725"
             ]
            ],
            "type": "histogram2dcontour"
           }
          ],
          "mesh3d": [
           {
            "colorbar": {
             "outlinewidth": 1,
             "tickcolor": "rgb(36,36,36)",
             "ticks": "outside"
            },
            "type": "mesh3d"
           }
          ],
          "parcoords": [
           {
            "line": {
             "colorbar": {
              "outlinewidth": 1,
              "tickcolor": "rgb(36,36,36)",
              "ticks": "outside"
             }
            },
            "type": "parcoords"
           }
          ],
          "pie": [
           {
            "automargin": true,
            "type": "pie"
           }
          ],
          "scatter": [
           {
            "marker": {
             "colorbar": {
              "outlinewidth": 1,
              "tickcolor": "rgb(36,36,36)",
              "ticks": "outside"
             }
            },
            "type": "scatter"
           }
          ],
          "scatter3d": [
           {
            "line": {
             "colorbar": {
              "outlinewidth": 1,
              "tickcolor": "rgb(36,36,36)",
              "ticks": "outside"
             }
            },
            "marker": {
             "colorbar": {
              "outlinewidth": 1,
              "tickcolor": "rgb(36,36,36)",
              "ticks": "outside"
             }
            },
            "type": "scatter3d"
           }
          ],
          "scattercarpet": [
           {
            "marker": {
             "colorbar": {
              "outlinewidth": 1,
              "tickcolor": "rgb(36,36,36)",
              "ticks": "outside"
             }
            },
            "type": "scattercarpet"
           }
          ],
          "scattergeo": [
           {
            "marker": {
             "colorbar": {
              "outlinewidth": 1,
              "tickcolor": "rgb(36,36,36)",
              "ticks": "outside"
             }
            },
            "type": "scattergeo"
           }
          ],
          "scattergl": [
           {
            "marker": {
             "colorbar": {
              "outlinewidth": 1,
              "tickcolor": "rgb(36,36,36)",
              "ticks": "outside"
             }
            },
            "type": "scattergl"
           }
          ],
          "scattermapbox": [
           {
            "marker": {
             "colorbar": {
              "outlinewidth": 1,
              "tickcolor": "rgb(36,36,36)",
              "ticks": "outside"
             }
            },
            "type": "scattermapbox"
           }
          ],
          "scatterpolar": [
           {
            "marker": {
             "colorbar": {
              "outlinewidth": 1,
              "tickcolor": "rgb(36,36,36)",
              "ticks": "outside"
             }
            },
            "type": "scatterpolar"
           }
          ],
          "scatterpolargl": [
           {
            "marker": {
             "colorbar": {
              "outlinewidth": 1,
              "tickcolor": "rgb(36,36,36)",
              "ticks": "outside"
             }
            },
            "type": "scatterpolargl"
           }
          ],
          "scatterternary": [
           {
            "marker": {
             "colorbar": {
              "outlinewidth": 1,
              "tickcolor": "rgb(36,36,36)",
              "ticks": "outside"
             }
            },
            "type": "scatterternary"
           }
          ],
          "surface": [
           {
            "colorbar": {
             "outlinewidth": 1,
             "tickcolor": "rgb(36,36,36)",
             "ticks": "outside"
            },
            "colorscale": [
             [
              0,
              "#440154"
             ],
             [
              0.1111111111111111,
              "#482878"
             ],
             [
              0.2222222222222222,
              "#3e4989"
             ],
             [
              0.3333333333333333,
              "#31688e"
             ],
             [
              0.4444444444444444,
              "#26828e"
             ],
             [
              0.5555555555555556,
              "#1f9e89"
             ],
             [
              0.6666666666666666,
              "#35b779"
             ],
             [
              0.7777777777777778,
              "#6ece58"
             ],
             [
              0.8888888888888888,
              "#b5de2b"
             ],
             [
              1,
              "#fde725"
             ]
            ],
            "type": "surface"
           }
          ],
          "table": [
           {
            "cells": {
             "fill": {
              "color": "rgb(237,237,237)"
             },
             "line": {
              "color": "white"
             }
            },
            "header": {
             "fill": {
              "color": "rgb(217,217,217)"
             },
             "line": {
              "color": "white"
             }
            },
            "type": "table"
           }
          ]
         },
         "layout": {
          "annotationdefaults": {
           "arrowhead": 0,
           "arrowwidth": 1
          },
          "autotypenumbers": "strict",
          "coloraxis": {
           "colorbar": {
            "outlinewidth": 1,
            "tickcolor": "rgb(36,36,36)",
            "ticks": "outside"
           }
          },
          "colorscale": {
           "diverging": [
            [
             0,
             "rgb(103,0,31)"
            ],
            [
             0.1,
             "rgb(178,24,43)"
            ],
            [
             0.2,
             "rgb(214,96,77)"
            ],
            [
             0.3,
             "rgb(244,165,130)"
            ],
            [
             0.4,
             "rgb(253,219,199)"
            ],
            [
             0.5,
             "rgb(247,247,247)"
            ],
            [
             0.6,
             "rgb(209,229,240)"
            ],
            [
             0.7,
             "rgb(146,197,222)"
            ],
            [
             0.8,
             "rgb(67,147,195)"
            ],
            [
             0.9,
             "rgb(33,102,172)"
            ],
            [
             1,
             "rgb(5,48,97)"
            ]
           ],
           "sequential": [
            [
             0,
             "#440154"
            ],
            [
             0.1111111111111111,
             "#482878"
            ],
            [
             0.2222222222222222,
             "#3e4989"
            ],
            [
             0.3333333333333333,
             "#31688e"
            ],
            [
             0.4444444444444444,
             "#26828e"
            ],
            [
             0.5555555555555556,
             "#1f9e89"
            ],
            [
             0.6666666666666666,
             "#35b779"
            ],
            [
             0.7777777777777778,
             "#6ece58"
            ],
            [
             0.8888888888888888,
             "#b5de2b"
            ],
            [
             1,
             "#fde725"
            ]
           ],
           "sequentialminus": [
            [
             0,
             "#440154"
            ],
            [
             0.1111111111111111,
             "#482878"
            ],
            [
             0.2222222222222222,
             "#3e4989"
            ],
            [
             0.3333333333333333,
             "#31688e"
            ],
            [
             0.4444444444444444,
             "#26828e"
            ],
            [
             0.5555555555555556,
             "#1f9e89"
            ],
            [
             0.6666666666666666,
             "#35b779"
            ],
            [
             0.7777777777777778,
             "#6ece58"
            ],
            [
             0.8888888888888888,
             "#b5de2b"
            ],
            [
             1,
             "#fde725"
            ]
           ]
          },
          "colorway": [
           "#1F77B4",
           "#FF7F0E",
           "#2CA02C",
           "#D62728",
           "#9467BD",
           "#8C564B",
           "#E377C2",
           "#7F7F7F",
           "#BCBD22",
           "#17BECF"
          ],
          "font": {
           "color": "rgb(36,36,36)"
          },
          "geo": {
           "bgcolor": "white",
           "lakecolor": "white",
           "landcolor": "white",
           "showlakes": true,
           "showland": true,
           "subunitcolor": "white"
          },
          "hoverlabel": {
           "align": "left"
          },
          "hovermode": "closest",
          "mapbox": {
           "style": "light"
          },
          "paper_bgcolor": "white",
          "plot_bgcolor": "white",
          "polar": {
           "angularaxis": {
            "gridcolor": "rgb(232,232,232)",
            "linecolor": "rgb(36,36,36)",
            "showgrid": false,
            "showline": true,
            "ticks": "outside"
           },
           "bgcolor": "white",
           "radialaxis": {
            "gridcolor": "rgb(232,232,232)",
            "linecolor": "rgb(36,36,36)",
            "showgrid": false,
            "showline": true,
            "ticks": "outside"
           }
          },
          "scene": {
           "xaxis": {
            "backgroundcolor": "white",
            "gridcolor": "rgb(232,232,232)",
            "gridwidth": 2,
            "linecolor": "rgb(36,36,36)",
            "showbackground": true,
            "showgrid": false,
            "showline": true,
            "ticks": "outside",
            "zeroline": false,
            "zerolinecolor": "rgb(36,36,36)"
           },
           "yaxis": {
            "backgroundcolor": "white",
            "gridcolor": "rgb(232,232,232)",
            "gridwidth": 2,
            "linecolor": "rgb(36,36,36)",
            "showbackground": true,
            "showgrid": false,
            "showline": true,
            "ticks": "outside",
            "zeroline": false,
            "zerolinecolor": "rgb(36,36,36)"
           },
           "zaxis": {
            "backgroundcolor": "white",
            "gridcolor": "rgb(232,232,232)",
            "gridwidth": 2,
            "linecolor": "rgb(36,36,36)",
            "showbackground": true,
            "showgrid": false,
            "showline": true,
            "ticks": "outside",
            "zeroline": false,
            "zerolinecolor": "rgb(36,36,36)"
           }
          },
          "shapedefaults": {
           "fillcolor": "black",
           "line": {
            "width": 0
           },
           "opacity": 0.3
          },
          "ternary": {
           "aaxis": {
            "gridcolor": "rgb(232,232,232)",
            "linecolor": "rgb(36,36,36)",
            "showgrid": false,
            "showline": true,
            "ticks": "outside"
           },
           "baxis": {
            "gridcolor": "rgb(232,232,232)",
            "linecolor": "rgb(36,36,36)",
            "showgrid": false,
            "showline": true,
            "ticks": "outside"
           },
           "bgcolor": "white",
           "caxis": {
            "gridcolor": "rgb(232,232,232)",
            "linecolor": "rgb(36,36,36)",
            "showgrid": false,
            "showline": true,
            "ticks": "outside"
           }
          },
          "title": {
           "x": 0.05
          },
          "xaxis": {
           "automargin": true,
           "gridcolor": "rgb(232,232,232)",
           "linecolor": "rgb(36,36,36)",
           "showgrid": false,
           "showline": true,
           "ticks": "outside",
           "title": {
            "standoff": 15
           },
           "zeroline": false,
           "zerolinecolor": "rgb(36,36,36)"
          },
          "yaxis": {
           "automargin": true,
           "gridcolor": "rgb(232,232,232)",
           "linecolor": "rgb(36,36,36)",
           "showgrid": false,
           "showline": true,
           "ticks": "outside",
           "title": {
            "standoff": 15
           },
           "zeroline": false,
           "zerolinecolor": "rgb(36,36,36)"
          }
         }
        },
        "xaxis": {
         "anchor": "y",
         "domain": [
          0,
          1
         ],
         "title": {
          "text": "Time(s)"
         }
        },
        "yaxis": {
         "anchor": "x",
         "domain": [
          0,
          1
         ],
         "title": {
          "text": "C"
         }
        }
       },
       "_py2js_animate": {},
       "_py2js_deleteTraces": {},
       "_py2js_moveTraces": {},
       "_py2js_removeLayoutProps": {},
       "_py2js_removeTraceProps": {},
       "_view_count": 1
      }
     },
     "3b5fed92e45345b4b678c48b0924876d": {
      "model_module": "@jupyter-widgets/base",
      "model_module_version": "1.2.0",
      "model_name": "LayoutModel",
      "state": {}
     },
     "3b8c8872d206481a93be025870ae2ecf": {
      "model_module": "@jupyter-widgets/controls",
      "model_module_version": "1.5.0",
      "model_name": "DropdownModel",
      "state": {
       "_options_labels": [
        "0 DAQC2"
       ],
       "description": "Board:",
       "index": 0,
       "layout": "IPY_MODEL_6a3da1c3bc074f93b04b4c309d998429",
       "style": "IPY_MODEL_3362f8e8d54845c694f35f57f54f2c8a"
      }
     },
     "3c1cff57eb9b481582d5c9443f6dbf02": {
      "model_module": "@jupyter-widgets/base",
      "model_module_version": "1.2.0",
      "model_name": "LayoutModel",
      "state": {}
     },
     "3cd74cab37de4519988f129c499f39ca": {
      "model_module": "@jupyter-widgets/controls",
      "model_module_version": "1.5.0",
      "model_name": "DropdownModel",
      "state": {
       "_options_labels": [
        "1"
       ],
       "description": "gains:",
       "disabled": true,
       "index": 0,
       "layout": "IPY_MODEL_12475597e1834bddbb95e86aafa80b1c",
       "style": "IPY_MODEL_ab2d5206f71d42888d6fc5f5474c57e7"
      }
     },
     "3d8cb7f71b9e4504a452b20b8c9273cc": {
      "model_module": "@jupyter-widgets/controls",
      "model_module_version": "1.5.0",
      "model_name": "DropdownModel",
      "state": {
       "_options_labels": [
        "0",
        "1",
        "2",
        "3",
        "4",
        "5",
        "6",
        "7",
        "8"
       ],
       "description": "Channel:",
       "index": 0,
       "layout": "IPY_MODEL_bdc83ec628b34923ba1e5bf1c5011deb",
       "style": "IPY_MODEL_b850eb241f874a4faf665c982710eadc"
      }
     },
     "3e3f54138f5c4b65901cf0224b7705b0": {
      "model_module": "@jupyter-widgets/controls",
      "model_module_version": "1.5.0",
      "model_name": "DescriptionStyleModel",
      "state": {
       "description_width": ""
      }
     },
     "3e5d1a27a00849c1936e32bcd315db35": {
      "model_module": "@jupyter-widgets/base",
      "model_module_version": "1.2.0",
      "model_name": "LayoutModel",
      "state": {}
     },
     "3e9be56c8ebb4c2ebe5e1159e39eaeb9": {
      "model_module": "@jupyter-widgets/controls",
      "model_module_version": "1.5.0",
      "model_name": "ButtonStyleModel",
      "state": {}
     },
     "3eeb80c753164c32ab9ff8504c770de3": {
      "model_module": "@jupyter-widgets/controls",
      "model_module_version": "1.5.0",
      "model_name": "DescriptionStyleModel",
      "state": {
       "description_width": ""
      }
     },
     "3f005954bc0641a19a8aa29d92ec56af": {
      "model_module": "@jupyter-widgets/controls",
      "model_module_version": "1.5.0",
      "model_name": "DescriptionStyleModel",
      "state": {
       "description_width": ""
      }
     },
     "3f1396cd299e459c8d86f94a8939cf19": {
      "model_module": "@jupyter-widgets/base",
      "model_module_version": "1.2.0",
      "model_name": "LayoutModel",
      "state": {
       "width": "80%"
      }
     },
     "3f3f7e715de54e3fac92d14dcb08bdba": {
      "model_module": "@jupyter-widgets/controls",
      "model_module_version": "1.5.0",
      "model_name": "DropdownModel",
      "state": {
       "_options_labels": [
        "0 DAQC2"
       ],
       "description": "Board:",
       "disabled": true,
       "index": 0,
       "layout": "IPY_MODEL_9d46dc8ffbf042edab22ec60d5a03997",
       "style": "IPY_MODEL_88694b25569a45868bc86ced01e63eff"
      }
     },
     "3f6de7e209bb4c219056d7703197db6b": {
      "model_module": "@jupyter-widgets/controls",
      "model_module_version": "1.5.0",
      "model_name": "DescriptionStyleModel",
      "state": {
       "description_width": ""
      }
     },
     "3f7b24284f20479faba8cd0885f3bffe": {
      "model_module": "@jupyter-widgets/controls",
      "model_module_version": "1.5.0",
      "model_name": "DescriptionStyleModel",
      "state": {
       "description_width": ""
      }
     },
     "3f924332c03741ac9822ad20fe3adbcd": {
      "model_module": "@jupyter-widgets/base",
      "model_module_version": "1.2.0",
      "model_name": "LayoutModel",
      "state": {}
     },
     "3ff7165a4164453586ec70457ae4f347": {
      "model_module": "@jupyter-widgets/controls",
      "model_module_version": "1.5.0",
      "model_name": "DescriptionStyleModel",
      "state": {
       "description_width": ""
      }
     },
     "40b67a65ed4146c997388706faf447b7": {
      "model_module": "@jupyter-widgets/base",
      "model_module_version": "1.2.0",
      "model_name": "LayoutModel",
      "state": {}
     },
     "41b9ae16cf754eb9a5d5763cbfc6a989": {
      "model_module": "@jupyter-widgets/controls",
      "model_module_version": "1.5.0",
      "model_name": "DescriptionStyleModel",
      "state": {
       "description_width": ""
      }
     },
     "41f3c2fd773143b09d73861a6891aa95": {
      "model_module": "@jupyter-widgets/base",
      "model_module_version": "1.2.0",
      "model_name": "LayoutModel",
      "state": {
       "border": "solid"
      }
     },
     "43eb36637352449cbb4bcab2a55e389f": {
      "model_module": "@jupyter-widgets/controls",
      "model_module_version": "1.5.0",
      "model_name": "DropdownModel",
      "state": {
       "_options_labels": [
        "1"
       ],
       "description": "gains:",
       "disabled": true,
       "index": 0,
       "layout": "IPY_MODEL_c22be61c70bc45f09e15b246f0cddde5",
       "style": "IPY_MODEL_1f4c1a9beaf84129a318f3ed9b6d2440"
      }
     },
     "43f116d39c33439b8cff8f995042e588": {
      "model_module": "@jupyter-widgets/base",
      "model_module_version": "1.2.0",
      "model_name": "LayoutModel",
      "state": {}
     },
     "44130646d6fc4b7781d3a136d3efcd18": {
      "model_module": "@jupyter-widgets/base",
      "model_module_version": "1.2.0",
      "model_name": "LayoutModel",
      "state": {}
     },
     "46872ea6190447f792985b7158c5ae04": {
      "model_module": "@jupyter-widgets/base",
      "model_module_version": "1.2.0",
      "model_name": "LayoutModel",
      "state": {}
     },
     "4707fe4e5c8b4bff8a239d08cffa70e0": {
      "model_module": "@jupyter-widgets/base",
      "model_module_version": "1.2.0",
      "model_name": "LayoutModel",
      "state": {}
     },
     "478913868a1e4bfab4216c719c8b71f2": {
      "model_module": "@jupyter-widgets/controls",
      "model_module_version": "1.5.0",
      "model_name": "ButtonStyleModel",
      "state": {}
     },
     "480142a5217b4ea29493fa8de078f4ef": {
      "model_module": "@jupyter-widgets/base",
      "model_module_version": "1.2.0",
      "model_name": "LayoutModel",
      "state": {}
     },
     "48394be01b684e4988e958e6ace9ff9a": {
      "model_module": "@jupyter-widgets/base",
      "model_module_version": "1.2.0",
      "model_name": "LayoutModel",
      "state": {}
     },
     "4a559b1c73fb4d64921a93c479a88d36": {
      "model_module": "@jupyter-widgets/base",
      "model_module_version": "1.2.0",
      "model_name": "LayoutModel",
      "state": {}
     },
     "4bac5f0563f04e6899ad335313c0566b": {
      "model_module": "@jupyter-widgets/base",
      "model_module_version": "1.2.0",
      "model_name": "LayoutModel",
      "state": {}
     },
     "4bb4dc290e82444b9b5648b1176cbe32": {
      "model_module": "@jupyter-widgets/base",
      "model_module_version": "1.2.0",
      "model_name": "LayoutModel",
      "state": {}
     },
     "4f8a6426d7b246fda95d6df341193be7": {
      "model_module": "@jupyter-widgets/controls",
      "model_module_version": "1.5.0",
      "model_name": "DescriptionStyleModel",
      "state": {
       "description_width": ""
      }
     },
     "4ff4591423af4c31824f53b15b5034e7": {
      "model_module": "@jupyter-widgets/base",
      "model_module_version": "1.2.0",
      "model_name": "LayoutModel",
      "state": {}
     },
     "501e46675140403b9bb768f351d14d72": {
      "model_module": "@jupyter-widgets/base",
      "model_module_version": "1.2.0",
      "model_name": "LayoutModel",
      "state": {}
     },
     "503e88cc439740908368fddb1527e243": {
      "model_module": "@jupyter-widgets/base",
      "model_module_version": "1.2.0",
      "model_name": "LayoutModel",
      "state": {}
     },
     "505f54324e064dd3ab63860261d2a2c1": {
      "model_module": "@jupyter-widgets/base",
      "model_module_version": "1.2.0",
      "model_name": "LayoutModel",
      "state": {}
     },
     "50952dd095ee46428a2103923857fd9d": {
      "model_module": "@jupyter-widgets/base",
      "model_module_version": "1.2.0",
      "model_name": "LayoutModel",
      "state": {}
     },
     "529fd5316b894303866b6f98cc0b43b4": {
      "model_module": "@jupyter-widgets/base",
      "model_module_version": "1.2.0",
      "model_name": "LayoutModel",
      "state": {}
     },
     "52e40294d41f444f892f5a7c58dba9a3": {
      "model_module": "@jupyter-widgets/controls",
      "model_module_version": "1.5.0",
      "model_name": "DropdownModel",
      "state": {
       "_options_labels": [
        "1"
       ],
       "description": "gains:",
       "disabled": true,
       "index": 0,
       "layout": "IPY_MODEL_76949b95105c47d09c1d0593e2846930",
       "style": "IPY_MODEL_2a025435293a469e93eb18f0484c04f4"
      }
     },
     "54a9102f0f314c96bf2e2bc6e9c24209": {
      "model_module": "@jupyter-widgets/controls",
      "model_module_version": "1.5.0",
      "model_name": "DropdownModel",
      "state": {
       "_options_labels": [
        "0 DAQC2"
       ],
       "description": "Board:",
       "disabled": true,
       "index": 0,
       "layout": "IPY_MODEL_6cb1604cd641417baa06f4d7c1d29143",
       "style": "IPY_MODEL_25ca292ad45a42c6b37ae8cdb2f528b3"
      }
     },
     "5617a63f5e334bafaa506c7c763675bd": {
      "model_module": "@jupyter-widgets/base",
      "model_module_version": "1.2.0",
      "model_name": "LayoutModel",
      "state": {
       "border": "solid"
      }
     },
     "57bd13e73b5d4aef9e25eb7b25433d91": {
      "model_module": "@jupyter-widgets/base",
      "model_module_version": "1.2.0",
      "model_name": "LayoutModel",
      "state": {}
     },
     "582339e4b9074604a8c01413f0dbd855": {
      "model_module": "@jupyter-widgets/base",
      "model_module_version": "1.2.0",
      "model_name": "LayoutModel",
      "state": {}
     },
     "58c472f409f64c3097de988302ba7e9f": {
      "model_module": "@jupyter-widgets/controls",
      "model_module_version": "1.5.0",
      "model_name": "DescriptionStyleModel",
      "state": {
       "description_width": ""
      }
     },
     "58f92a69e0d64fc79723f5e68b5faf31": {
      "model_module": "@jupyter-widgets/controls",
      "model_module_version": "1.5.0",
      "model_name": "DropdownModel",
      "state": {
       "_options_labels": [
        "0",
        "1",
        "2",
        "3",
        "4",
        "5",
        "6",
        "7",
        "8"
       ],
       "description": "Channel:",
       "disabled": true,
       "index": 0,
       "layout": "IPY_MODEL_64faf751951c4cf283a8d11e1286d781",
       "style": "IPY_MODEL_c09576fadf5c4ff793b8f76277b0e604"
      }
     },
     "5916164add8e43c184e3bc3ee6333531": {
      "model_module": "@jupyter-widgets/base",
      "model_module_version": "1.2.0",
      "model_name": "LayoutModel",
      "state": {}
     },
     "5aa8461c87594c11b47348dda4a2360b": {
      "model_module": "@jupyter-widgets/controls",
      "model_module_version": "1.5.0",
      "model_name": "DescriptionStyleModel",
      "state": {
       "description_width": ""
      }
     },
     "5ac7cd693009458e9cbf8ff5cd71b156": {
      "model_module": "@jupyter-widgets/base",
      "model_module_version": "1.2.0",
      "model_name": "LayoutModel",
      "state": {}
     },
     "5ad67b4d83b3492cb650478b1a4dcbbe": {
      "model_module": "@jupyter-widgets/controls",
      "model_module_version": "1.5.0",
      "model_name": "DescriptionStyleModel",
      "state": {
       "description_width": ""
      }
     },
     "5b39178c4fce49f698550eeed2e55b10": {
      "model_module": "@jupyter-widgets/base",
      "model_module_version": "1.2.0",
      "model_name": "LayoutModel",
      "state": {}
     },
     "5bd41a3b16ae43f2b4e6d179513d91e0": {
      "model_module": "@jupyter-widgets/base",
      "model_module_version": "1.2.0",
      "model_name": "LayoutModel",
      "state": {}
     },
     "5d2256bbc20044c29108447577415452": {
      "model_module": "@jupyter-widgets/controls",
      "model_module_version": "1.5.0",
      "model_name": "DescriptionStyleModel",
      "state": {
       "description_width": ""
      }
     },
     "5de2bd34ea9c4fad8e056d5d48310123": {
      "model_module": "@jupyter-widgets/base",
      "model_module_version": "1.2.0",
      "model_name": "LayoutModel",
      "state": {}
     },
     "5e624728045a4942bfb0b1066a4a141d": {
      "model_module": "@jupyter-widgets/controls",
      "model_module_version": "1.5.0",
      "model_name": "DescriptionStyleModel",
      "state": {
       "description_width": ""
      }
     },
     "5e9fdad681934ee5890f2674c99c044b": {
      "model_module": "@jupyter-widgets/controls",
      "model_module_version": "1.5.0",
      "model_name": "DescriptionStyleModel",
      "state": {
       "description_width": ""
      }
     },
     "5ebadd29c28d46758027f71a06a7acef": {
      "model_module": "@jupyter-widgets/controls",
      "model_module_version": "1.5.0",
      "model_name": "ButtonModel",
      "state": {
       "button_style": "info",
       "description": "Set Parameters",
       "disabled": true,
       "layout": "IPY_MODEL_d4932793e0c24c79866b9e18845f9954",
       "style": "IPY_MODEL_7a9029ae26c3485899816a8a742aa9e4",
       "tooltip": "Parameters locked. The run has started."
      }
     },
     "6054d6ef0f624060ac5c229eb27edd30": {
      "model_module": "@jupyter-widgets/base",
      "model_module_version": "1.2.0",
      "model_name": "LayoutModel",
      "state": {}
     },
     "614e372010a84dda9db3c5cf1d6bb2e8": {
      "model_module": "@jupyter-widgets/base",
      "model_module_version": "1.2.0",
      "model_name": "LayoutModel",
      "state": {}
     },
     "6236116c2f264e69b96d02dbe9253762": {
      "model_module": "@jupyter-widgets/base",
      "model_module_version": "1.2.0",
      "model_name": "LayoutModel",
      "state": {}
     },
     "62a446bb77894882b3475f5e0c89cb92": {
      "model_module": "@jupyter-widgets/base",
      "model_module_version": "1.2.0",
      "model_name": "LayoutModel",
      "state": {}
     },
     "64229e92487547ed9f251915ff67deac": {
      "model_module": "@jupyter-widgets/base",
      "model_module_version": "1.2.0",
      "model_name": "LayoutModel",
      "state": {}
     },
     "64502c3c60b54cacbe04e8f1fc57c0a7": {
      "model_module": "@jupyter-widgets/controls",
      "model_module_version": "1.5.0",
      "model_name": "DescriptionStyleModel",
      "state": {
       "description_width": ""
      }
     },
     "64d65f6ff0254c88b75617fff66ca64e": {
      "model_module": "@jupyter-widgets/controls",
      "model_module_version": "1.5.0",
      "model_name": "DescriptionStyleModel",
      "state": {
       "description_width": ""
      }
     },
     "64d75b62940e4dc7b44e827697202975": {
      "model_module": "@jupyter-widgets/base",
      "model_module_version": "1.2.0",
      "model_name": "LayoutModel",
      "state": {}
     },
     "64ee0a5f139f4198bb3c457c3e989fdf": {
      "model_module": "@jupyter-widgets/controls",
      "model_module_version": "1.5.0",
      "model_name": "ButtonStyleModel",
      "state": {}
     },
     "64faf751951c4cf283a8d11e1286d781": {
      "model_module": "@jupyter-widgets/base",
      "model_module_version": "1.2.0",
      "model_name": "LayoutModel",
      "state": {}
     },
     "6733618ec95244bc95829ffc4af826d2": {
      "model_module": "@jupyter-widgets/base",
      "model_module_version": "1.2.0",
      "model_name": "LayoutModel",
      "state": {}
     },
     "680638f34eb1454881bd4e6f8fb2d208": {
      "model_module": "@jupyter-widgets/controls",
      "model_module_version": "1.5.0",
      "model_name": "CheckboxModel",
      "state": {
       "description": "Display multiple traces as stacked graphs. Uncheck to display all on the same graph.",
       "disabled": false,
       "layout": "IPY_MODEL_909b5a53f94a49c8b9740b810e1cf639",
       "style": "IPY_MODEL_18f0576d871c4f40bfcbef1cf595d2e3",
       "value": true
      }
     },
     "683a674938e44a72ad60d6b7c062f4e7": {
      "model_module": "@jupyter-widgets/controls",
      "model_module_version": "1.5.0",
      "model_name": "DescriptionStyleModel",
      "state": {
       "description_width": ""
      }
     },
     "68557edf3d1a463f8690cf3fba2c0ce9": {
      "model_module": "@jupyter-widgets/base",
      "model_module_version": "1.2.0",
      "model_name": "LayoutModel",
      "state": {}
     },
     "693498c3bc084e27b041dbf9cb3d0be8": {
      "model_module": "@jupyter-widgets/controls",
      "model_module_version": "1.5.0",
      "model_name": "DropdownModel",
      "state": {
       "_options_labels": [
        "0",
        "1",
        "2",
        "3",
        "4",
        "5",
        "6",
        "7",
        "8"
       ],
       "description": "Channel:",
       "disabled": true,
       "index": 0,
       "layout": "IPY_MODEL_05bf6b3534a0414797f1e41cea4f5e42",
       "style": "IPY_MODEL_efd883c6cf6645d5bde7fa7f99e2ae75"
      }
     },
     "69fdc32b36e54da69a6e04d0bc58c9ae": {
      "model_module": "@jupyter-widgets/base",
      "model_module_version": "1.2.0",
      "model_name": "LayoutModel",
      "state": {}
     },
     "6a3da1c3bc074f93b04b4c309d998429": {
      "model_module": "@jupyter-widgets/base",
      "model_module_version": "1.2.0",
      "model_name": "LayoutModel",
      "state": {}
     },
     "6c143f96916847948ff076efd4203dd4": {
      "model_module": "@jupyter-widgets/controls",
      "model_module_version": "1.5.0",
      "model_name": "DescriptionStyleModel",
      "state": {
       "description_width": ""
      }
     },
     "6cb1604cd641417baa06f4d7c1d29143": {
      "model_module": "@jupyter-widgets/base",
      "model_module_version": "1.2.0",
      "model_name": "LayoutModel",
      "state": {}
     },
     "6ec661d1edb143518ade0bc8e0870ab7": {
      "model_module": "@jupyter-widgets/base",
      "model_module_version": "1.2.0",
      "model_name": "LayoutModel",
      "state": {}
     },
     "6fe86accd5c64777b81005c32f2cc53c": {
      "model_module": "@jupyter-widgets/base",
      "model_module_version": "1.2.0",
      "model_name": "LayoutModel",
      "state": {
       "border": "solid"
      }
     },
     "7019f94f2cea4118b12738ebf2be2473": {
      "model_module": "@jupyter-widgets/base",
      "model_module_version": "1.2.0",
      "model_name": "LayoutModel",
      "state": {
       "border": "solid"
      }
     },
     "7029cf583cf4459bb62217f2d7286dbe": {
      "model_module": "@jupyter-widgets/base",
      "model_module_version": "1.2.0",
      "model_name": "LayoutModel",
      "state": {}
     },
     "708225ad05ba41d4a2b243ba405b0afc": {
      "model_module": "@jupyter-widgets/controls",
      "model_module_version": "1.5.0",
      "model_name": "DescriptionStyleModel",
      "state": {
       "description_width": ""
      }
     },
     "714f5f5005fa4e2f8efa777e740057f9": {
      "model_module": "plotlywidget",
      "model_module_version": "^4.14.3",
      "model_name": "FigureModel",
      "state": {
       "_config": {
        "plotlyServerURL": "https://plot.ly"
       },
       "_data": [
        {
         "name": "Trace_0(C)",
         "type": "scatter",
         "uid": "ac844335-7c4d-4306-99d6-b3af6b3f96af",
         "x": [
          0.05220317840576172,
          1.0504570007324219,
          2.049224376678467,
          3.048229455947876,
          4.047272443771362,
          5.046327590942383,
          6.045243978500366,
          7.0446412563323975,
          8.04367709159851,
          9.042639970779419,
          10.041618824005127,
          11.04062795639038,
          12.039602518081665,
          13.038556098937988,
          14.03748869895935,
          15.036497354507446,
          16.035488605499268,
          17.03449559211731,
          18.03345513343811,
          19.032472610473633,
          20.031491994857788,
          21.030513048171997,
          22.029480695724487,
          23.02848505973816,
          24.027480602264404,
          25.026434421539307,
          26.025400638580322,
          27.02440333366394,
          28.023372173309326,
          29.022399425506592,
          30.02134418487549,
          31.020312070846558,
          32.01933240890503,
          33.01833891868591,
          34.01728701591492,
          35.01629042625427,
          36.014631032943726,
          37.01364302635193,
          38.012651443481445,
          39.01165437698364,
          40.010616302490234,
          41.009674310684204,
          42.008875131607056,
          43.007644176483154,
          44.006627321243286,
          45.00562405586243,
          46.00531458854675,
          47.004281520843506,
          48.003276348114014,
          49.0022759437561,
          50.00126004219055,
          51.00020694732666,
          51.99919104576111,
          52.99833869934082,
          53.99732780456543,
          54.99633550643921,
          55.99532675743103,
          56.994338035583496,
          57.99329876899719,
          58.99230909347534,
          59.99127769470215,
          60.99022579193115,
          61.98919153213501,
          62.988158226013184,
          63.98711562156677,
          64.9861228466034,
          65.98514866828918,
          66.98415303230286,
          67.98313689231873,
          68.98209357261658,
          69.98108434677124,
          70.98009490966797,
          71.97909259796143,
          72.97809362411499,
          73.97721767425537,
          74.97622632980347,
          75.97521376609802,
          76.97375631332397,
          77.9727611541748,
          78.97175097465515,
          79.9707338809967,
          80.96971559524536,
          81.96870040893555,
          82.96770405769348,
          83.96672129631042,
          84.9656708240509,
          85.9646725654602,
          86.96367311477661,
          87.96266078948975,
          88.96166634559631,
          89.96064710617065,
          90.95951581001282,
          91.9577100276947,
          92.95664668083191,
          93.95566439628601,
          94.95464754104614,
          95.95365834236145,
          96.95260095596313,
          97.95162224769592,
          98.95056819915771,
          99.94964671134949,
          100.94889497756958,
          101.94779324531555,
          102.94693303108215,
          103.94595956802368,
          104.94489026069641,
          105.94395303726196,
          106.94289183616638,
          107.94192409515381,
          108.94089221954346,
          109.93990874290466,
          110.9388964176178,
          111.93788003921509,
          112.93685579299927,
          113.93585729598999,
          114.93483090400696,
          115.93384170532227,
          116.9327917098999,
          117.9318175315857,
          118.9308249950409,
          119.92981004714966,
          120.92835974693298,
          121.92718195915222,
          122.92619752883911,
          123.92520570755005,
          124.92418694496155,
          125.92329168319702,
          126.92224764823914,
          127.92123103141785,
          128.92023634910583,
          129.91921401023865,
          130.9182538986206,
          131.91722297668457,
          132.9162311553955,
          133.91520857810974,
          134.91422128677368,
          135.9131622314453,
          136.91216707229614,
          137.9111385345459,
          138.9102110862732,
          139.90930724143982,
          140.90817594528198,
          141.90716075897217,
          142.9061415195465,
          143.90497088432312,
          144.9035108089447,
          145.90249395370483,
          146.90154218673706,
          147.90045857429504,
          148.8994643688202,
          149.8983895778656,
          150.897376537323,
          151.89551901817322,
          152.89450454711914,
          153.89349675178528,
          154.89253616333008,
          155.89146065711975,
          156.89050126075745,
          157.88950848579407,
          158.8877260684967,
          159.88668298721313,
          160.8857696056366,
          161.88474655151367,
          162.88354015350342,
          163.88248872756958,
          164.88128423690796,
          165.88047981262207,
          166.87937188148499,
          167.87849640846252,
          168.8774881362915,
          169.87655901908875,
          170.8756880760193,
          171.8745903968811,
          172.87356615066528,
          173.87257051467896,
          174.87163877487183,
          175.87080216407776,
          176.86965584754944,
          177.86875915527344
         ],
         "xaxis": "x",
         "y": [
          21.61,
          21.613,
          21.6,
          21.61,
          21.612,
          21.62,
          21.6,
          21.617,
          21.61,
          21.63,
          21.63,
          21.629,
          21.626,
          21.64,
          21.637,
          21.627,
          21.627,
          21.624,
          21.62,
          21.6,
          21.64,
          21.639,
          21.633,
          21.631,
          21.639,
          21.638,
          21.635,
          21.638,
          21.65,
          21.631,
          21.631,
          21.637,
          21.627,
          21.639,
          21.63,
          21.645,
          21.63,
          21.639,
          21.65,
          21.644,
          21.63,
          21.637,
          21.628,
          21.64,
          21.64,
          21.646,
          21.64,
          21.646,
          21.64,
          21.644,
          21.62,
          21.635,
          21.63,
          21.64,
          21.64,
          21.642,
          21.65,
          21.644,
          21.63,
          21.638,
          21.63,
          21.64,
          21.645,
          21.644,
          21.639,
          21.644,
          21.64,
          21.548,
          21.027,
          20.24,
          20.177,
          20.386,
          20.5,
          20.474,
          20.403,
          20.289,
          20.265,
          20.256,
          20.229,
          20.199,
          20.19,
          20.177,
          20.16,
          20.13,
          20.111,
          20.105,
          20.097,
          20.072,
          20.071,
          20.046,
          20.041,
          20.03,
          20.017,
          20,
          20.005,
          19.986,
          19.983,
          19.979,
          19.963,
          19.96,
          19.956,
          19.95,
          19.943,
          19.94,
          19.95,
          19.96,
          19.943,
          19.99,
          19.937,
          19.95,
          19.934,
          19.94,
          19.938,
          19.95,
          19.931,
          19.93,
          19.93,
          19.94,
          19.926,
          19.94,
          19.933,
          19.95,
          19.939,
          19.94,
          19.933,
          19.93,
          19.932,
          19.94,
          19.939,
          19.93,
          19.93,
          19.934,
          19.938,
          19.95,
          19.941,
          19.94,
          19.93,
          19.926,
          19.938,
          19.935,
          19.936,
          19.94,
          19.945,
          19.93,
          19.943,
          19.937,
          19.938,
          19.936,
          19.935,
          19.943,
          19.951,
          19.942,
          19.947,
          19.936,
          19.946,
          19.94,
          19.95,
          19.97,
          19.943,
          19.963,
          19.945,
          19.951,
          19.96,
          19.942,
          19.95,
          19.944,
          19.95,
          19.949,
          19.96,
          19.944,
          19.95,
          19.951,
          19.97,
          19.949,
          19.97,
          19.957,
          19.94,
          19.959,
          19.974
         ],
         "yaxis": "y"
        }
       ],
       "_js2py_relayout": {},
       "_js2py_restyle": {},
       "_js2py_update": {},
       "_last_layout_edit_id": 204,
       "_last_trace_edit_id": 204,
       "_layout": {
        "template": {
         "data": {
          "bar": [
           {
            "error_x": {
             "color": "rgb(36,36,36)"
            },
            "error_y": {
             "color": "rgb(36,36,36)"
            },
            "marker": {
             "line": {
              "color": "white",
              "width": 0.5
             }
            },
            "type": "bar"
           }
          ],
          "barpolar": [
           {
            "marker": {
             "line": {
              "color": "white",
              "width": 0.5
             }
            },
            "type": "barpolar"
           }
          ],
          "carpet": [
           {
            "aaxis": {
             "endlinecolor": "rgb(36,36,36)",
             "gridcolor": "white",
             "linecolor": "white",
             "minorgridcolor": "white",
             "startlinecolor": "rgb(36,36,36)"
            },
            "baxis": {
             "endlinecolor": "rgb(36,36,36)",
             "gridcolor": "white",
             "linecolor": "white",
             "minorgridcolor": "white",
             "startlinecolor": "rgb(36,36,36)"
            },
            "type": "carpet"
           }
          ],
          "choropleth": [
           {
            "colorbar": {
             "outlinewidth": 1,
             "tickcolor": "rgb(36,36,36)",
             "ticks": "outside"
            },
            "type": "choropleth"
           }
          ],
          "contour": [
           {
            "colorbar": {
             "outlinewidth": 1,
             "tickcolor": "rgb(36,36,36)",
             "ticks": "outside"
            },
            "colorscale": [
             [
              0,
              "#440154"
             ],
             [
              0.1111111111111111,
              "#482878"
             ],
             [
              0.2222222222222222,
              "#3e4989"
             ],
             [
              0.3333333333333333,
              "#31688e"
             ],
             [
              0.4444444444444444,
              "#26828e"
             ],
             [
              0.5555555555555556,
              "#1f9e89"
             ],
             [
              0.6666666666666666,
              "#35b779"
             ],
             [
              0.7777777777777778,
              "#6ece58"
             ],
             [
              0.8888888888888888,
              "#b5de2b"
             ],
             [
              1,
              "#fde725"
             ]
            ],
            "type": "contour"
           }
          ],
          "contourcarpet": [
           {
            "colorbar": {
             "outlinewidth": 1,
             "tickcolor": "rgb(36,36,36)",
             "ticks": "outside"
            },
            "type": "contourcarpet"
           }
          ],
          "heatmap": [
           {
            "colorbar": {
             "outlinewidth": 1,
             "tickcolor": "rgb(36,36,36)",
             "ticks": "outside"
            },
            "colorscale": [
             [
              0,
              "#440154"
             ],
             [
              0.1111111111111111,
              "#482878"
             ],
             [
              0.2222222222222222,
              "#3e4989"
             ],
             [
              0.3333333333333333,
              "#31688e"
             ],
             [
              0.4444444444444444,
              "#26828e"
             ],
             [
              0.5555555555555556,
              "#1f9e89"
             ],
             [
              0.6666666666666666,
              "#35b779"
             ],
             [
              0.7777777777777778,
              "#6ece58"
             ],
             [
              0.8888888888888888,
              "#b5de2b"
             ],
             [
              1,
              "#fde725"
             ]
            ],
            "type": "heatmap"
           }
          ],
          "heatmapgl": [
           {
            "colorbar": {
             "outlinewidth": 1,
             "tickcolor": "rgb(36,36,36)",
             "ticks": "outside"
            },
            "colorscale": [
             [
              0,
              "#440154"
             ],
             [
              0.1111111111111111,
              "#482878"
             ],
             [
              0.2222222222222222,
              "#3e4989"
             ],
             [
              0.3333333333333333,
              "#31688e"
             ],
             [
              0.4444444444444444,
              "#26828e"
             ],
             [
              0.5555555555555556,
              "#1f9e89"
             ],
             [
              0.6666666666666666,
              "#35b779"
             ],
             [
              0.7777777777777778,
              "#6ece58"
             ],
             [
              0.8888888888888888,
              "#b5de2b"
             ],
             [
              1,
              "#fde725"
             ]
            ],
            "type": "heatmapgl"
           }
          ],
          "histogram": [
           {
            "marker": {
             "line": {
              "color": "white",
              "width": 0.6
             }
            },
            "type": "histogram"
           }
          ],
          "histogram2d": [
           {
            "colorbar": {
             "outlinewidth": 1,
             "tickcolor": "rgb(36,36,36)",
             "ticks": "outside"
            },
            "colorscale": [
             [
              0,
              "#440154"
             ],
             [
              0.1111111111111111,
              "#482878"
             ],
             [
              0.2222222222222222,
              "#3e4989"
             ],
             [
              0.3333333333333333,
              "#31688e"
             ],
             [
              0.4444444444444444,
              "#26828e"
             ],
             [
              0.5555555555555556,
              "#1f9e89"
             ],
             [
              0.6666666666666666,
              "#35b779"
             ],
             [
              0.7777777777777778,
              "#6ece58"
             ],
             [
              0.8888888888888888,
              "#b5de2b"
             ],
             [
              1,
              "#fde725"
             ]
            ],
            "type": "histogram2d"
           }
          ],
          "histogram2dcontour": [
           {
            "colorbar": {
             "outlinewidth": 1,
             "tickcolor": "rgb(36,36,36)",
             "ticks": "outside"
            },
            "colorscale": [
             [
              0,
              "#440154"
             ],
             [
              0.1111111111111111,
              "#482878"
             ],
             [
              0.2222222222222222,
              "#3e4989"
             ],
             [
              0.3333333333333333,
              "#31688e"
             ],
             [
              0.4444444444444444,
              "#26828e"
             ],
             [
              0.5555555555555556,
              "#1f9e89"
             ],
             [
              0.6666666666666666,
              "#35b779"
             ],
             [
              0.7777777777777778,
              "#6ece58"
             ],
             [
              0.8888888888888888,
              "#b5de2b"
             ],
             [
              1,
              "#fde725"
             ]
            ],
            "type": "histogram2dcontour"
           }
          ],
          "mesh3d": [
           {
            "colorbar": {
             "outlinewidth": 1,
             "tickcolor": "rgb(36,36,36)",
             "ticks": "outside"
            },
            "type": "mesh3d"
           }
          ],
          "parcoords": [
           {
            "line": {
             "colorbar": {
              "outlinewidth": 1,
              "tickcolor": "rgb(36,36,36)",
              "ticks": "outside"
             }
            },
            "type": "parcoords"
           }
          ],
          "pie": [
           {
            "automargin": true,
            "type": "pie"
           }
          ],
          "scatter": [
           {
            "marker": {
             "colorbar": {
              "outlinewidth": 1,
              "tickcolor": "rgb(36,36,36)",
              "ticks": "outside"
             }
            },
            "type": "scatter"
           }
          ],
          "scatter3d": [
           {
            "line": {
             "colorbar": {
              "outlinewidth": 1,
              "tickcolor": "rgb(36,36,36)",
              "ticks": "outside"
             }
            },
            "marker": {
             "colorbar": {
              "outlinewidth": 1,
              "tickcolor": "rgb(36,36,36)",
              "ticks": "outside"
             }
            },
            "type": "scatter3d"
           }
          ],
          "scattercarpet": [
           {
            "marker": {
             "colorbar": {
              "outlinewidth": 1,
              "tickcolor": "rgb(36,36,36)",
              "ticks": "outside"
             }
            },
            "type": "scattercarpet"
           }
          ],
          "scattergeo": [
           {
            "marker": {
             "colorbar": {
              "outlinewidth": 1,
              "tickcolor": "rgb(36,36,36)",
              "ticks": "outside"
             }
            },
            "type": "scattergeo"
           }
          ],
          "scattergl": [
           {
            "marker": {
             "colorbar": {
              "outlinewidth": 1,
              "tickcolor": "rgb(36,36,36)",
              "ticks": "outside"
             }
            },
            "type": "scattergl"
           }
          ],
          "scattermapbox": [
           {
            "marker": {
             "colorbar": {
              "outlinewidth": 1,
              "tickcolor": "rgb(36,36,36)",
              "ticks": "outside"
             }
            },
            "type": "scattermapbox"
           }
          ],
          "scatterpolar": [
           {
            "marker": {
             "colorbar": {
              "outlinewidth": 1,
              "tickcolor": "rgb(36,36,36)",
              "ticks": "outside"
             }
            },
            "type": "scatterpolar"
           }
          ],
          "scatterpolargl": [
           {
            "marker": {
             "colorbar": {
              "outlinewidth": 1,
              "tickcolor": "rgb(36,36,36)",
              "ticks": "outside"
             }
            },
            "type": "scatterpolargl"
           }
          ],
          "scatterternary": [
           {
            "marker": {
             "colorbar": {
              "outlinewidth": 1,
              "tickcolor": "rgb(36,36,36)",
              "ticks": "outside"
             }
            },
            "type": "scatterternary"
           }
          ],
          "surface": [
           {
            "colorbar": {
             "outlinewidth": 1,
             "tickcolor": "rgb(36,36,36)",
             "ticks": "outside"
            },
            "colorscale": [
             [
              0,
              "#440154"
             ],
             [
              0.1111111111111111,
              "#482878"
             ],
             [
              0.2222222222222222,
              "#3e4989"
             ],
             [
              0.3333333333333333,
              "#31688e"
             ],
             [
              0.4444444444444444,
              "#26828e"
             ],
             [
              0.5555555555555556,
              "#1f9e89"
             ],
             [
              0.6666666666666666,
              "#35b779"
             ],
             [
              0.7777777777777778,
              "#6ece58"
             ],
             [
              0.8888888888888888,
              "#b5de2b"
             ],
             [
              1,
              "#fde725"
             ]
            ],
            "type": "surface"
           }
          ],
          "table": [
           {
            "cells": {
             "fill": {
              "color": "rgb(237,237,237)"
             },
             "line": {
              "color": "white"
             }
            },
            "header": {
             "fill": {
              "color": "rgb(217,217,217)"
             },
             "line": {
              "color": "white"
             }
            },
            "type": "table"
           }
          ]
         },
         "layout": {
          "annotationdefaults": {
           "arrowhead": 0,
           "arrowwidth": 1
          },
          "autotypenumbers": "strict",
          "coloraxis": {
           "colorbar": {
            "outlinewidth": 1,
            "tickcolor": "rgb(36,36,36)",
            "ticks": "outside"
           }
          },
          "colorscale": {
           "diverging": [
            [
             0,
             "rgb(103,0,31)"
            ],
            [
             0.1,
             "rgb(178,24,43)"
            ],
            [
             0.2,
             "rgb(214,96,77)"
            ],
            [
             0.3,
             "rgb(244,165,130)"
            ],
            [
             0.4,
             "rgb(253,219,199)"
            ],
            [
             0.5,
             "rgb(247,247,247)"
            ],
            [
             0.6,
             "rgb(209,229,240)"
            ],
            [
             0.7,
             "rgb(146,197,222)"
            ],
            [
             0.8,
             "rgb(67,147,195)"
            ],
            [
             0.9,
             "rgb(33,102,172)"
            ],
            [
             1,
             "rgb(5,48,97)"
            ]
           ],
           "sequential": [
            [
             0,
             "#440154"
            ],
            [
             0.1111111111111111,
             "#482878"
            ],
            [
             0.2222222222222222,
             "#3e4989"
            ],
            [
             0.3333333333333333,
             "#31688e"
            ],
            [
             0.4444444444444444,
             "#26828e"
            ],
            [
             0.5555555555555556,
             "#1f9e89"
            ],
            [
             0.6666666666666666,
             "#35b779"
            ],
            [
             0.7777777777777778,
             "#6ece58"
            ],
            [
             0.8888888888888888,
             "#b5de2b"
            ],
            [
             1,
             "#fde725"
            ]
           ],
           "sequentialminus": [
            [
             0,
             "#440154"
            ],
            [
             0.1111111111111111,
             "#482878"
            ],
            [
             0.2222222222222222,
             "#3e4989"
            ],
            [
             0.3333333333333333,
             "#31688e"
            ],
            [
             0.4444444444444444,
             "#26828e"
            ],
            [
             0.5555555555555556,
             "#1f9e89"
            ],
            [
             0.6666666666666666,
             "#35b779"
            ],
            [
             0.7777777777777778,
             "#6ece58"
            ],
            [
             0.8888888888888888,
             "#b5de2b"
            ],
            [
             1,
             "#fde725"
            ]
           ]
          },
          "colorway": [
           "#1F77B4",
           "#FF7F0E",
           "#2CA02C",
           "#D62728",
           "#9467BD",
           "#8C564B",
           "#E377C2",
           "#7F7F7F",
           "#BCBD22",
           "#17BECF"
          ],
          "font": {
           "color": "rgb(36,36,36)"
          },
          "geo": {
           "bgcolor": "white",
           "lakecolor": "white",
           "landcolor": "white",
           "showlakes": true,
           "showland": true,
           "subunitcolor": "white"
          },
          "hoverlabel": {
           "align": "left"
          },
          "hovermode": "closest",
          "mapbox": {
           "style": "light"
          },
          "paper_bgcolor": "white",
          "plot_bgcolor": "white",
          "polar": {
           "angularaxis": {
            "gridcolor": "rgb(232,232,232)",
            "linecolor": "rgb(36,36,36)",
            "showgrid": false,
            "showline": true,
            "ticks": "outside"
           },
           "bgcolor": "white",
           "radialaxis": {
            "gridcolor": "rgb(232,232,232)",
            "linecolor": "rgb(36,36,36)",
            "showgrid": false,
            "showline": true,
            "ticks": "outside"
           }
          },
          "scene": {
           "xaxis": {
            "backgroundcolor": "white",
            "gridcolor": "rgb(232,232,232)",
            "gridwidth": 2,
            "linecolor": "rgb(36,36,36)",
            "showbackground": true,
            "showgrid": false,
            "showline": true,
            "ticks": "outside",
            "zeroline": false,
            "zerolinecolor": "rgb(36,36,36)"
           },
           "yaxis": {
            "backgroundcolor": "white",
            "gridcolor": "rgb(232,232,232)",
            "gridwidth": 2,
            "linecolor": "rgb(36,36,36)",
            "showbackground": true,
            "showgrid": false,
            "showline": true,
            "ticks": "outside",
            "zeroline": false,
            "zerolinecolor": "rgb(36,36,36)"
           },
           "zaxis": {
            "backgroundcolor": "white",
            "gridcolor": "rgb(232,232,232)",
            "gridwidth": 2,
            "linecolor": "rgb(36,36,36)",
            "showbackground": true,
            "showgrid": false,
            "showline": true,
            "ticks": "outside",
            "zeroline": false,
            "zerolinecolor": "rgb(36,36,36)"
           }
          },
          "shapedefaults": {
           "fillcolor": "black",
           "line": {
            "width": 0
           },
           "opacity": 0.3
          },
          "ternary": {
           "aaxis": {
            "gridcolor": "rgb(232,232,232)",
            "linecolor": "rgb(36,36,36)",
            "showgrid": false,
            "showline": true,
            "ticks": "outside"
           },
           "baxis": {
            "gridcolor": "rgb(232,232,232)",
            "linecolor": "rgb(36,36,36)",
            "showgrid": false,
            "showline": true,
            "ticks": "outside"
           },
           "bgcolor": "white",
           "caxis": {
            "gridcolor": "rgb(232,232,232)",
            "linecolor": "rgb(36,36,36)",
            "showgrid": false,
            "showline": true,
            "ticks": "outside"
           }
          },
          "title": {
           "x": 0.05
          },
          "xaxis": {
           "automargin": true,
           "gridcolor": "rgb(232,232,232)",
           "linecolor": "rgb(36,36,36)",
           "showgrid": false,
           "showline": true,
           "ticks": "outside",
           "title": {
            "standoff": 15
           },
           "zeroline": false,
           "zerolinecolor": "rgb(36,36,36)"
          },
          "yaxis": {
           "automargin": true,
           "gridcolor": "rgb(232,232,232)",
           "linecolor": "rgb(36,36,36)",
           "showgrid": false,
           "showline": true,
           "ticks": "outside",
           "title": {
            "standoff": 15
           },
           "zeroline": false,
           "zerolinecolor": "rgb(36,36,36)"
          }
         }
        },
        "xaxis": {
         "anchor": "y",
         "domain": [
          0,
          1
         ],
         "title": {
          "text": "Time(s)"
         }
        },
        "yaxis": {
         "anchor": "x",
         "domain": [
          0,
          1
         ],
         "title": {
          "text": "C"
         }
        }
       },
       "_py2js_animate": {},
       "_py2js_deleteTraces": {},
       "_py2js_moveTraces": {},
       "_py2js_removeLayoutProps": {},
       "_py2js_removeTraceProps": {},
       "_view_count": 1
      }
     },
     "72390c87e4d44bf19923077dd9291df1": {
      "model_module": "@jupyter-widgets/controls",
      "model_module_version": "1.5.0",
      "model_name": "DropdownModel",
      "state": {
       "_options_labels": [
        "0",
        "1",
        "2",
        "3",
        "4",
        "5",
        "6",
        "7",
        "8"
       ],
       "description": "Channel:",
       "disabled": true,
       "index": 0,
       "layout": "IPY_MODEL_b5d534babd894e0aaaf1a48125926350",
       "style": "IPY_MODEL_6c143f96916847948ff076efd4203dd4"
      }
     },
     "7368c248d31c4aa98400ded08ef35620": {
      "model_module": "@jupyter-widgets/base",
      "model_module_version": "1.2.0",
      "model_name": "LayoutModel",
      "state": {}
     },
     "738b7bed8e0c44e0821d82d95426fddb": {
      "model_module": "@jupyter-widgets/controls",
      "model_module_version": "1.5.0",
      "model_name": "DescriptionStyleModel",
      "state": {
       "description_width": ""
      }
     },
     "7418776d02e34380a6599709035eb5d6": {
      "model_module": "@jupyter-widgets/base",
      "model_module_version": "1.2.0",
      "model_name": "LayoutModel",
      "state": {}
     },
     "74663ff1abd94a73b7809610a548bfa0": {
      "model_module": "@jupyter-widgets/base",
      "model_module_version": "1.2.0",
      "model_name": "LayoutModel",
      "state": {}
     },
     "74a968ad6574497d9c1580016b50f050": {
      "model_module": "@jupyter-widgets/base",
      "model_module_version": "1.2.0",
      "model_name": "LayoutModel",
      "state": {}
     },
     "76949b95105c47d09c1d0593e2846930": {
      "model_module": "@jupyter-widgets/base",
      "model_module_version": "1.2.0",
      "model_name": "LayoutModel",
      "state": {}
     },
     "76f89b5a779c4e7686503d58c13d42f8": {
      "model_module": "@jupyter-widgets/controls",
      "model_module_version": "1.5.0",
      "model_name": "DropdownModel",
      "state": {
       "_options_labels": [
        "0 DAQC2"
       ],
       "description": "Board:",
       "disabled": true,
       "index": 0,
       "layout": "IPY_MODEL_48394be01b684e4988e958e6ace9ff9a",
       "style": "IPY_MODEL_0b95463b02a44eba90311a6c6f8b3b40"
      }
     },
     "78358143736c4c679ca357b77a33fb06": {
      "model_module": "@jupyter-widgets/base",
      "model_module_version": "1.2.0",
      "model_name": "LayoutModel",
      "state": {}
     },
     "7865a534944d41ceba4ac1581de5a316": {
      "model_module": "@jupyter-widgets/controls",
      "model_module_version": "1.5.0",
      "model_name": "DescriptionStyleModel",
      "state": {
       "description_width": ""
      }
     },
     "7918e8e67c934aa2b9071920cb9605af": {
      "model_module": "@jupyter-widgets/controls",
      "model_module_version": "1.5.0",
      "model_name": "DropdownModel",
      "state": {
       "_options_labels": [
        "1"
       ],
       "description": "gains:",
       "disabled": true,
       "index": 0,
       "layout": "IPY_MODEL_a7ba270f19614230a0bc88b3741de12a",
       "style": "IPY_MODEL_b465b3b2aa9340e9b3a34d58d3719f96"
      }
     },
     "7a4493df66f14e60806d62dbbaed21bd": {
      "model_module": "@jupyter-widgets/controls",
      "model_module_version": "1.5.0",
      "model_name": "DescriptionStyleModel",
      "state": {
       "description_width": ""
      }
     },
     "7a509b2c3f1342f7affbefbb7235a481": {
      "model_module": "@jupyter-widgets/controls",
      "model_module_version": "1.5.0",
      "model_name": "DescriptionStyleModel",
      "state": {
       "description_width": ""
      }
     },
     "7a6033f50f3e4404b4403e3d805ef8fd": {
      "model_module": "@jupyter-widgets/base",
      "model_module_version": "1.2.0",
      "model_name": "LayoutModel",
      "state": {}
     },
     "7a9029ae26c3485899816a8a742aa9e4": {
      "model_module": "@jupyter-widgets/controls",
      "model_module_version": "1.5.0",
      "model_name": "ButtonStyleModel",
      "state": {}
     },
     "7b055766e39b426f8cc05e548a89e938": {
      "model_module": "@jupyter-widgets/controls",
      "model_module_version": "1.5.0",
      "model_name": "DescriptionStyleModel",
      "state": {
       "description_width": ""
      }
     },
     "7b0b6343a3c242cc88963809874dce11": {
      "model_module": "@jupyter-widgets/base",
      "model_module_version": "1.2.0",
      "model_name": "LayoutModel",
      "state": {}
     },
     "7b269920e79f498b9e2211b8191d223b": {
      "model_module": "@jupyter-widgets/controls",
      "model_module_version": "1.5.0",
      "model_name": "DescriptionStyleModel",
      "state": {
       "description_width": ""
      }
     },
     "7bdb31f4528e43e4b5d80939a7853e95": {
      "model_module": "@jupyter-widgets/base",
      "model_module_version": "1.2.0",
      "model_name": "LayoutModel",
      "state": {}
     },
     "7d7d3c73de7f49e7a25ed3ae3451b745": {
      "model_module": "@jupyter-widgets/controls",
      "model_module_version": "1.5.0",
      "model_name": "CheckboxModel",
      "state": {
       "description": "Display multiple traces as stacked graphs. Uncheck to display all on the same graph.",
       "disabled": false,
       "layout": "IPY_MODEL_387bf035581342b89cc60996b2924379",
       "style": "IPY_MODEL_c43102f8b24244f88c8ac36cfa39c3c5",
       "value": true
      }
     },
     "7d8de7b690704f6cb8baa0575c625ba9": {
      "model_module": "@jupyter-widgets/base",
      "model_module_version": "1.2.0",
      "model_name": "LayoutModel",
      "state": {}
     },
     "803543a492134ea4b7aac0a32247e37c": {
      "model_module": "@jupyter-widgets/base",
      "model_module_version": "1.2.0",
      "model_name": "LayoutModel",
      "state": {}
     },
     "82b0ee50f24a4388a3748f30ae03dc82": {
      "model_module": "@jupyter-widgets/base",
      "model_module_version": "1.2.0",
      "model_name": "LayoutModel",
      "state": {
       "border": "solid"
      }
     },
     "82c2cd2ff90b4f70ac71913a20f03b43": {
      "model_module": "@jupyter-widgets/controls",
      "model_module_version": "1.5.0",
      "model_name": "DescriptionStyleModel",
      "state": {
       "description_width": ""
      }
     },
     "8309b7f9c55540dfbf36709ba5ec2567": {
      "model_module": "@jupyter-widgets/base",
      "model_module_version": "1.2.0",
      "model_name": "LayoutModel",
      "state": {}
     },
     "83795d42b04e443296a94ee18b566c58": {
      "model_module": "@jupyter-widgets/base",
      "model_module_version": "1.2.0",
      "model_name": "LayoutModel",
      "state": {}
     },
     "84455f9d295d4b10b66d79a20d34b2a8": {
      "model_module": "@jupyter-widgets/controls",
      "model_module_version": "1.5.0",
      "model_name": "DescriptionStyleModel",
      "state": {
       "description_width": ""
      }
     },
     "85433467fd53470d80c0041b8f8b8193": {
      "model_module": "@jupyter-widgets/controls",
      "model_module_version": "1.5.0",
      "model_name": "ButtonStyleModel",
      "state": {}
     },
     "87e407bb9799494d9d7ddce0299f4571": {
      "model_module": "@jupyter-widgets/controls",
      "model_module_version": "1.5.0",
      "model_name": "DropdownModel",
      "state": {
       "_options_labels": [
        "0 DAQC2"
       ],
       "description": "Board:",
       "disabled": true,
       "index": 0,
       "layout": "IPY_MODEL_f749805a2afd4991aaba9a767e733731",
       "style": "IPY_MODEL_3ff7165a4164453586ec70457ae4f347"
      }
     },
     "88694b25569a45868bc86ced01e63eff": {
      "model_module": "@jupyter-widgets/controls",
      "model_module_version": "1.5.0",
      "model_name": "DescriptionStyleModel",
      "state": {
       "description_width": ""
      }
     },
     "88875708b7ba4a6aa0a53907992fc67a": {
      "model_module": "@jupyter-widgets/controls",
      "model_module_version": "1.5.0",
      "model_name": "DescriptionStyleModel",
      "state": {
       "description_width": ""
      }
     },
     "88c29351c6f34a62abfcc65999f065ea": {
      "model_module": "@jupyter-widgets/controls",
      "model_module_version": "1.5.0",
      "model_name": "ButtonModel",
      "state": {
       "button_style": "info",
       "description": "Set Parameters",
       "disabled": true,
       "layout": "IPY_MODEL_3c1cff57eb9b481582d5c9443f6dbf02",
       "style": "IPY_MODEL_64ee0a5f139f4198bb3c457c3e989fdf",
       "tooltip": "Parameters locked. The run has started."
      }
     },
     "891c8179b02a4f8a8ea66b91b9c924b4": {
      "model_module": "@jupyter-widgets/controls",
      "model_module_version": "1.5.0",
      "model_name": "DescriptionStyleModel",
      "state": {
       "description_width": ""
      }
     },
     "895e00d089e145169346a593334b8451": {
      "model_module": "@jupyter-widgets/controls",
      "model_module_version": "1.5.0",
      "model_name": "DropdownModel",
      "state": {
       "_options_labels": [
        "0",
        "1",
        "2",
        "3",
        "4",
        "5",
        "6",
        "7",
        "8"
       ],
       "description": "Channel:",
       "disabled": true,
       "index": 0,
       "layout": "IPY_MODEL_a89def4713bb41faa6812d857832b775",
       "style": "IPY_MODEL_84455f9d295d4b10b66d79a20d34b2a8"
      }
     },
     "89a97365b78c4a56b6e87db26dd6365d": {
      "model_module": "@jupyter-widgets/controls",
      "model_module_version": "1.5.0",
      "model_name": "DescriptionStyleModel",
      "state": {
       "description_width": ""
      }
     },
     "8b51367fa8a8472d94baae3648f7c0e3": {
      "model_module": "@jupyter-widgets/base",
      "model_module_version": "1.2.0",
      "model_name": "LayoutModel",
      "state": {}
     },
     "8cc5b4c0ab034b7b86c9a447162804b8": {
      "model_module": "@jupyter-widgets/controls",
      "model_module_version": "1.5.0",
      "model_name": "DescriptionStyleModel",
      "state": {
       "description_width": ""
      }
     },
     "8cfb9ae5c4a94913a5e0676e8dfb56de": {
      "model_module": "@jupyter-widgets/controls",
      "model_module_version": "1.5.0",
      "model_name": "DescriptionStyleModel",
      "state": {
       "description_width": ""
      }
     },
     "8eb13ec55fa24599902ea5ab28391c24": {
      "model_module": "@jupyter-widgets/base",
      "model_module_version": "1.2.0",
      "model_name": "LayoutModel",
      "state": {
       "border": "solid"
      }
     },
     "8f25dbe631fc4255b37e2402e0d98764": {
      "model_module": "@jupyter-widgets/controls",
      "model_module_version": "1.5.0",
      "model_name": "DescriptionStyleModel",
      "state": {
       "description_width": ""
      }
     },
     "901b83f5a12141708779e43b97fbfe20": {
      "model_module": "@jupyter-widgets/base",
      "model_module_version": "1.2.0",
      "model_name": "LayoutModel",
      "state": {}
     },
     "904fef68b30e47b8a9c6b2a82cdb6585": {
      "model_module": "@jupyter-widgets/base",
      "model_module_version": "1.2.0",
      "model_name": "LayoutModel",
      "state": {
       "border": "solid"
      }
     },
     "909b5a53f94a49c8b9740b810e1cf639": {
      "model_module": "@jupyter-widgets/base",
      "model_module_version": "1.2.0",
      "model_name": "LayoutModel",
      "state": {
       "width": "80%"
      }
     },
     "90ffbfc7d71549ea80607e8b49591806": {
      "model_module": "@jupyter-widgets/controls",
      "model_module_version": "1.5.0",
      "model_name": "DropdownModel",
      "state": {
       "_options_labels": [
        "0 DAQC2"
       ],
       "description": "Board:",
       "disabled": true,
       "index": 0,
       "layout": "IPY_MODEL_35b053ed2cdf42b384921e72439450eb",
       "style": "IPY_MODEL_9c8f99d595204ba38b17e4bf08be7de5"
      }
     },
     "91e055c861aa4c0e85704fb108bb04d0": {
      "model_module": "@jupyter-widgets/controls",
      "model_module_version": "1.5.0",
      "model_name": "DescriptionStyleModel",
      "state": {
       "description_width": ""
      }
     },
     "92cf7f898a8f4e93917840662706a94b": {
      "model_module": "@jupyter-widgets/base",
      "model_module_version": "1.2.0",
      "model_name": "LayoutModel",
      "state": {}
     },
     "95c2dc82cf5d48289bea67a065276287": {
      "model_module": "@jupyter-widgets/controls",
      "model_module_version": "1.5.0",
      "model_name": "DescriptionStyleModel",
      "state": {
       "description_width": ""
      }
     },
     "968ec3a94a9f494b8036ef7ea5228eb2": {
      "model_module": "@jupyter-widgets/base",
      "model_module_version": "1.2.0",
      "model_name": "LayoutModel",
      "state": {}
     },
     "96cb835fccab43958e12971aa0641328": {
      "model_module": "@jupyter-widgets/controls",
      "model_module_version": "1.5.0",
      "model_name": "DescriptionStyleModel",
      "state": {
       "description_width": ""
      }
     },
     "96eea9df84c24c428f6a5e9983ff7c79": {
      "model_module": "@jupyter-widgets/base",
      "model_module_version": "1.2.0",
      "model_name": "LayoutModel",
      "state": {}
     },
     "98de2cd6890d43a89917342a852d0fdc": {
      "model_module": "@jupyter-widgets/base",
      "model_module_version": "1.2.0",
      "model_name": "LayoutModel",
      "state": {}
     },
     "9b62f5440f854e85bdec6d5a04e2274a": {
      "model_module": "@jupyter-widgets/base",
      "model_module_version": "1.2.0",
      "model_name": "LayoutModel",
      "state": {}
     },
     "9b86bc599db54d2ca6bdf1a01b054515": {
      "model_module": "@jupyter-widgets/controls",
      "model_module_version": "1.5.0",
      "model_name": "DescriptionStyleModel",
      "state": {
       "description_width": ""
      }
     },
     "9c8f99d595204ba38b17e4bf08be7de5": {
      "model_module": "@jupyter-widgets/controls",
      "model_module_version": "1.5.0",
      "model_name": "DescriptionStyleModel",
      "state": {
       "description_width": ""
      }
     },
     "9d12997437e34497bdc6225ad78b010c": {
      "model_module": "@jupyter-widgets/controls",
      "model_module_version": "1.5.0",
      "model_name": "DescriptionStyleModel",
      "state": {
       "description_width": ""
      }
     },
     "9d46dc8ffbf042edab22ec60d5a03997": {
      "model_module": "@jupyter-widgets/base",
      "model_module_version": "1.2.0",
      "model_name": "LayoutModel",
      "state": {}
     },
     "9e1bd0dda9f14daa82dbf15877e3158b": {
      "model_module": "@jupyter-widgets/controls",
      "model_module_version": "1.5.0",
      "model_name": "DescriptionStyleModel",
      "state": {
       "description_width": ""
      }
     },
     "a1087ed513664308828905467eb2b9eb": {
      "model_module": "@jupyter-widgets/base",
      "model_module_version": "1.2.0",
      "model_name": "LayoutModel",
      "state": {}
     },
     "a273cebd267d496f8d879c25351b3eb0": {
      "model_module": "@jupyter-widgets/controls",
      "model_module_version": "1.5.0",
      "model_name": "DescriptionStyleModel",
      "state": {
       "description_width": ""
      }
     },
     "a3488e69d34f4f3ba40c0b9484e0b9fb": {
      "model_module": "@jupyter-widgets/controls",
      "model_module_version": "1.5.0",
      "model_name": "DescriptionStyleModel",
      "state": {
       "description_width": ""
      }
     },
     "a367a36cb6714a4a9491e89c0c749dde": {
      "model_module": "@jupyter-widgets/controls",
      "model_module_version": "1.5.0",
      "model_name": "DescriptionStyleModel",
      "state": {
       "description_width": ""
      }
     },
     "a3771dbdf8b046de82d85ad3aa3ddae9": {
      "model_module": "@jupyter-widgets/base",
      "model_module_version": "1.2.0",
      "model_name": "LayoutModel",
      "state": {}
     },
     "a453124d4a35467c8600c03e18ea3bf4": {
      "model_module": "@jupyter-widgets/base",
      "model_module_version": "1.2.0",
      "model_name": "LayoutModel",
      "state": {}
     },
     "a47a20e683044b169df5ec26f793c2f7": {
      "model_module": "@jupyter-widgets/base",
      "model_module_version": "1.2.0",
      "model_name": "LayoutModel",
      "state": {}
     },
     "a4b3d9bae6bd44919a1255a2f8931b19": {
      "model_module": "@jupyter-widgets/controls",
      "model_module_version": "1.5.0",
      "model_name": "DropdownModel",
      "state": {
       "_options_labels": [
        "0",
        "1",
        "2",
        "3",
        "4",
        "5",
        "6",
        "7",
        "8"
       ],
       "description": "Channel:",
       "disabled": true,
       "index": 0,
       "layout": "IPY_MODEL_21464478473d420ea7d13dfb2bdb5f63",
       "style": "IPY_MODEL_f31bbf6708da405e986627e0a1cb16fa"
      }
     },
     "a5f311648ff24774be54c3753740c858": {
      "model_module": "@jupyter-widgets/base",
      "model_module_version": "1.2.0",
      "model_name": "LayoutModel",
      "state": {}
     },
     "a74c9d44ea664d8a83c65d04e0b1ef0a": {
      "model_module": "@jupyter-widgets/base",
      "model_module_version": "1.2.0",
      "model_name": "LayoutModel",
      "state": {}
     },
     "a758b11b3b2d46d5a2e7fa2e60e3a62d": {
      "model_module": "@jupyter-widgets/base",
      "model_module_version": "1.2.0",
      "model_name": "LayoutModel",
      "state": {
       "border": "solid"
      }
     },
     "a7ba270f19614230a0bc88b3741de12a": {
      "model_module": "@jupyter-widgets/base",
      "model_module_version": "1.2.0",
      "model_name": "LayoutModel",
      "state": {}
     },
     "a89def4713bb41faa6812d857832b775": {
      "model_module": "@jupyter-widgets/base",
      "model_module_version": "1.2.0",
      "model_name": "LayoutModel",
      "state": {}
     },
     "a8aad311ed59444a9895af79b02238f7": {
      "model_module": "@jupyter-widgets/base",
      "model_module_version": "1.2.0",
      "model_name": "LayoutModel",
      "state": {}
     },
     "a916ff236143417ba15e90946bf7384f": {
      "model_module": "@jupyter-widgets/base",
      "model_module_version": "1.2.0",
      "model_name": "LayoutModel",
      "state": {}
     },
     "aa346fea761f4d1496d41028881b8fa5": {
      "model_module": "@jupyter-widgets/base",
      "model_module_version": "1.2.0",
      "model_name": "LayoutModel",
      "state": {}
     },
     "ab2d5206f71d42888d6fc5f5474c57e7": {
      "model_module": "@jupyter-widgets/controls",
      "model_module_version": "1.5.0",
      "model_name": "DescriptionStyleModel",
      "state": {
       "description_width": ""
      }
     },
     "aebf8e9f5da641ea82b8490e0be81a76": {
      "model_module": "@jupyter-widgets/controls",
      "model_module_version": "1.5.0",
      "model_name": "DropdownModel",
      "state": {
       "_options_labels": [
        "1"
       ],
       "description": "gains:",
       "disabled": true,
       "index": 0,
       "layout": "IPY_MODEL_1816f159eec24afc94daf4b56417329a",
       "style": "IPY_MODEL_5d2256bbc20044c29108447577415452"
      }
     },
     "af65a70cf30d42779aee5c641a6d2da8": {
      "model_module": "@jupyter-widgets/controls",
      "model_module_version": "1.5.0",
      "model_name": "ButtonModel",
      "state": {
       "button_style": "info",
       "description": "Set Parameters",
       "disabled": true,
       "layout": "IPY_MODEL_614e372010a84dda9db3c5cf1d6bb2e8",
       "style": "IPY_MODEL_3e9be56c8ebb4c2ebe5e1159e39eaeb9",
       "tooltip": "Parameters locked. The run has started."
      }
     },
     "b04c263de853475b8c668b90082ba01e": {
      "model_module": "@jupyter-widgets/controls",
      "model_module_version": "1.5.0",
      "model_name": "DescriptionStyleModel",
      "state": {
       "description_width": ""
      }
     },
     "b0741dc5ab7546ad88675873fd27a2cb": {
      "model_module": "@jupyter-widgets/controls",
      "model_module_version": "1.5.0",
      "model_name": "DescriptionStyleModel",
      "state": {
       "description_width": ""
      }
     },
     "b07c4a03d96547868529313608df19b3": {
      "model_module": "@jupyter-widgets/base",
      "model_module_version": "1.2.0",
      "model_name": "LayoutModel",
      "state": {}
     },
     "b0b2e69d81d74d7baa2018747024e20c": {
      "model_module": "@jupyter-widgets/controls",
      "model_module_version": "1.5.0",
      "model_name": "HBoxModel",
      "state": {
       "children": [
        "IPY_MODEL_26464330ea5e4f738887a2b8a3ec3c03",
        "IPY_MODEL_b9e1bff0d66c4629bf788e524b53b2da",
        "IPY_MODEL_88c29351c6f34a62abfcc65999f065ea"
       ],
       "layout": "IPY_MODEL_a47a20e683044b169df5ec26f793c2f7"
      }
     },
     "b465b3b2aa9340e9b3a34d58d3719f96": {
      "model_module": "@jupyter-widgets/controls",
      "model_module_version": "1.5.0",
      "model_name": "DescriptionStyleModel",
      "state": {
       "description_width": ""
      }
     },
     "b499a6c8324f44d9b4465179e69983f6": {
      "model_module": "@jupyter-widgets/controls",
      "model_module_version": "1.5.0",
      "model_name": "DescriptionStyleModel",
      "state": {
       "description_width": ""
      }
     },
     "b54c25d635494c0db04b8d3e45fb639e": {
      "model_module": "@jupyter-widgets/base",
      "model_module_version": "1.2.0",
      "model_name": "LayoutModel",
      "state": {}
     },
     "b5d534babd894e0aaaf1a48125926350": {
      "model_module": "@jupyter-widgets/base",
      "model_module_version": "1.2.0",
      "model_name": "LayoutModel",
      "state": {}
     },
     "b850eb241f874a4faf665c982710eadc": {
      "model_module": "@jupyter-widgets/controls",
      "model_module_version": "1.5.0",
      "model_name": "DescriptionStyleModel",
      "state": {
       "description_width": ""
      }
     },
     "b867e61f4f864ddbb6f917f280c4cfe0": {
      "model_module": "@jupyter-widgets/base",
      "model_module_version": "1.2.0",
      "model_name": "LayoutModel",
      "state": {}
     },
     "b9144e2a09054175ae55a8b227467ef4": {
      "model_module": "@jupyter-widgets/base",
      "model_module_version": "1.2.0",
      "model_name": "LayoutModel",
      "state": {}
     },
     "b9c9ea99b2254fbbac4dddedc5b1dd19": {
      "model_module": "@jupyter-widgets/controls",
      "model_module_version": "1.5.0",
      "model_name": "DescriptionStyleModel",
      "state": {
       "description_width": ""
      }
     },
     "b9e1bff0d66c4629bf788e524b53b2da": {
      "model_module": "@jupyter-widgets/controls",
      "model_module_version": "1.5.0",
      "model_name": "TextModel",
      "state": {
       "description": "X-axis label (time):",
       "disabled": true,
       "layout": "IPY_MODEL_0077053fea7e4f9ea76870f25be3d88f",
       "placeholder": "Type something",
       "style": "IPY_MODEL_683a674938e44a72ad60d6b7c062f4e7",
       "value": "Time(s)"
      }
     },
     "ba42fd36d2994ee884c66c383a98692c": {
      "model_module": "@jupyter-widgets/controls",
      "model_module_version": "1.5.0",
      "model_name": "HBoxModel",
      "state": {
       "children": [
        "IPY_MODEL_2f56863a465649829fa7eba8de2537c4",
        "IPY_MODEL_d37fbd97285041cab5057a3e0e7e86c1",
        "IPY_MODEL_af65a70cf30d42779aee5c641a6d2da8"
       ],
       "layout": "IPY_MODEL_106aa8a5781e4d5e8c92ca41e9e764c4"
      }
     },
     "baaddbccc5fa4e028617493886f43c9d": {
      "model_module": "@jupyter-widgets/controls",
      "model_module_version": "1.5.0",
      "model_name": "DescriptionStyleModel",
      "state": {
       "description_width": ""
      }
     },
     "bc06abc0b98241878196e2e6a5e5db59": {
      "model_module": "@jupyter-widgets/controls",
      "model_module_version": "1.5.0",
      "model_name": "BoundedFloatTextModel",
      "state": {
       "description": "Rate (Hz):",
       "disabled": true,
       "layout": "IPY_MODEL_20f1200235074deb949a794f4562a8c5",
       "max": 3,
       "step": 0.003,
       "style": "IPY_MODEL_3f7b24284f20479faba8cd0885f3bffe",
       "value": 1
      }
     },
     "bd16af70e86d443ba6701f6af10ac512": {
      "model_module": "@jupyter-widgets/base",
      "model_module_version": "1.2.0",
      "model_name": "LayoutModel",
      "state": {}
     },
     "bd49590d2669435297f49c55d3841a40": {
      "model_module": "@jupyter-widgets/base",
      "model_module_version": "1.2.0",
      "model_name": "LayoutModel",
      "state": {}
     },
     "bdc83ec628b34923ba1e5bf1c5011deb": {
      "model_module": "@jupyter-widgets/base",
      "model_module_version": "1.2.0",
      "model_name": "LayoutModel",
      "state": {}
     },
     "be54d42ff6a743d5a24a25c9e84e9238": {
      "model_module": "@jupyter-widgets/base",
      "model_module_version": "1.2.0",
      "model_name": "LayoutModel",
      "state": {}
     },
     "bf82db1f547746bcbd570d93a40de8b1": {
      "model_module": "@jupyter-widgets/base",
      "model_module_version": "1.2.0",
      "model_name": "LayoutModel",
      "state": {}
     },
     "c09576fadf5c4ff793b8f76277b0e604": {
      "model_module": "@jupyter-widgets/controls",
      "model_module_version": "1.5.0",
      "model_name": "DescriptionStyleModel",
      "state": {
       "description_width": ""
      }
     },
     "c1856edcbe984ba887ee6b4cf7965cbc": {
      "model_module": "@jupyter-widgets/controls",
      "model_module_version": "1.5.0",
      "model_name": "DropdownModel",
      "state": {
       "_options_labels": [
        "0 DAQC2"
       ],
       "description": "Board:",
       "disabled": true,
       "index": 0,
       "layout": "IPY_MODEL_31540b762cda499fb2081672f7bf8d0d",
       "style": "IPY_MODEL_baaddbccc5fa4e028617493886f43c9d"
      }
     },
     "c1eb26efc8614248a4250f1aae08e1a3": {
      "model_module": "@jupyter-widgets/controls",
      "model_module_version": "1.5.0",
      "model_name": "DropdownModel",
      "state": {
       "_options_labels": [
        "0",
        "1",
        "2",
        "3",
        "4",
        "5",
        "6",
        "7",
        "8"
       ],
       "description": "Channel:",
       "index": 0,
       "layout": "IPY_MODEL_968ec3a94a9f494b8036ef7ea5228eb2",
       "style": "IPY_MODEL_8cc5b4c0ab034b7b86c9a447162804b8"
      }
     },
     "c22be61c70bc45f09e15b246f0cddde5": {
      "model_module": "@jupyter-widgets/base",
      "model_module_version": "1.2.0",
      "model_name": "LayoutModel",
      "state": {}
     },
     "c2cfb0ec2dc44128a5d7d84adac024f6": {
      "model_module": "@jupyter-widgets/controls",
      "model_module_version": "1.5.0",
      "model_name": "CheckboxModel",
      "state": {
       "description": "Display multiple traces as stacked graphs. Uncheck to display all on the same graph.",
       "disabled": false,
       "layout": "IPY_MODEL_3f1396cd299e459c8d86f94a8939cf19",
       "style": "IPY_MODEL_1b0bcc4b85e74dcba64cbeb3bab876c5",
       "value": true
      }
     },
     "c43102f8b24244f88c8ac36cfa39c3c5": {
      "model_module": "@jupyter-widgets/controls",
      "model_module_version": "1.5.0",
      "model_name": "DescriptionStyleModel",
      "state": {
       "description_width": ""
      }
     },
     "c545af3c11244024aa7a48929bbb91f5": {
      "model_module": "plotlywidget",
      "model_module_version": "^4.14.3",
      "model_name": "FigureModel",
      "state": {
       "_config": {
        "plotlyServerURL": "https://plot.ly"
       },
       "_data": [
        {
         "name": "Temperature (C)(C)",
         "type": "scatter",
         "uid": "0aae5426-e579-4ec5-97a6-826a7d29ec82",
         "x": [
          0.05128669738769531,
          1.0501410961151123,
          2.0491108894348145,
          3.04813814163208,
          4.047259330749512,
          5.046234607696533,
          6.044357538223267,
          7.04338526725769,
          8.0423424243927,
          9.041333436965942,
          10.040338277816772,
          11.03931999206543,
          12.03780746459961,
          13.036799907684326,
          14.035807132720947,
          15.034758567810059,
          16.033795833587646,
          17.032809495925903,
          18.031784772872925,
          19.03076672554016,
          20.029772520065308,
          21.028759002685547,
          22.02798318862915,
          23.02696967124939,
          24.02571678161621,
          25.024752378463745,
          26.02371072769165,
          27.022751808166504,
          28.021773099899292,
          29.020795583724976,
          30.01974654197693,
          31.018756866455078,
          32.017736196517944,
          33.01671600341797,
          34.01569867134094,
          35.014678955078125,
          36.01379728317261,
          37.012794733047485,
          38.011783599853516,
          39.01077890396118,
          40.00972104072571,
          41.008766412734985,
          42.00781536102295,
          43.006778955459595,
          44.005871295928955,
          45.0048713684082,
          46.00428318977356,
          47.00281810760498,
          48.00178360939026,
          49.000754594802856,
          49.99973940849304,
          50.998756408691406,
          51.99775981903076,
          52.9967622756958,
          53.9957537651062,
          54.99478101730347,
          55.993783712387085,
          56.99279427528381,
          57.991766691207886,
          58.99073791503906,
          59.9897575378418,
          60.98874473571777,
          61.98775362968445,
          62.98670744895935,
          63.98570537567139,
          64.98468708992004,
          65.98369717597961,
          66.98297834396362,
          67.98193359375,
          68.98088192939758,
          69.97987842559814,
          70.97913098335266,
          71.9779863357544,
          72.9769082069397,
          73.97602462768555,
          74.97495889663696,
          75.9738118648529,
          76.97281742095947,
          77.97174787521362,
          78.97077894210815,
          79.96974468231201,
          80.96873259544373,
          81.96766948699951,
          82.96666049957275,
          83.9656388759613,
          84.96463418006897,
          85.96358895301819,
          86.96263670921326,
          87.9617190361023,
          88.96065735816956,
          89.95956420898438,
          90.95777535438538,
          91.95677018165588
         ],
         "xaxis": "x",
         "y": [
          1.5,
          1.39,
          1.3,
          1.26,
          1.16,
          1.08,
          1.04,
          1,
          1,
          0.97,
          0.94,
          0.89,
          0.88,
          0.9,
          0.87,
          0.85,
          0.85,
          0.85,
          0.85,
          0.84,
          0.82,
          0.82,
          0.82,
          0.82,
          0.83,
          0.82,
          0.81,
          0.82,
          0.84,
          0.83,
          0.84,
          0.8,
          0.8,
          0.78,
          0.82,
          0.78,
          0.8,
          0.81,
          0.79,
          0.81,
          0.81,
          0.79,
          0.82,
          0.82,
          0.8,
          0.8,
          0.82,
          0.82,
          0.83,
          0.81,
          0.8,
          0.8,
          0.8,
          0.79,
          0.82,
          0.81,
          0.82,
          0.77,
          0.8,
          0.79,
          0.79,
          0.79,
          0.79,
          0.79,
          0.81,
          0.8,
          0.79,
          0.84,
          0.81,
          0.82,
          0.8,
          0.79,
          0.81,
          0.85,
          0.81,
          0.83,
          0.8,
          0.8,
          0.81,
          0.81,
          0.8,
          0.78,
          0.805,
          0.79,
          0.79,
          0.81,
          0.8,
          0.796,
          0.77,
          0.77,
          0.8,
          0.8,
          0.8
         ],
         "yaxis": "y"
        }
       ],
       "_js2py_relayout": {},
       "_js2py_restyle": {},
       "_js2py_update": {},
       "_last_layout_edit_id": 116,
       "_last_trace_edit_id": 116,
       "_layout": {
        "template": {
         "data": {
          "bar": [
           {
            "error_x": {
             "color": "rgb(36,36,36)"
            },
            "error_y": {
             "color": "rgb(36,36,36)"
            },
            "marker": {
             "line": {
              "color": "white",
              "width": 0.5
             }
            },
            "type": "bar"
           }
          ],
          "barpolar": [
           {
            "marker": {
             "line": {
              "color": "white",
              "width": 0.5
             }
            },
            "type": "barpolar"
           }
          ],
          "carpet": [
           {
            "aaxis": {
             "endlinecolor": "rgb(36,36,36)",
             "gridcolor": "white",
             "linecolor": "white",
             "minorgridcolor": "white",
             "startlinecolor": "rgb(36,36,36)"
            },
            "baxis": {
             "endlinecolor": "rgb(36,36,36)",
             "gridcolor": "white",
             "linecolor": "white",
             "minorgridcolor": "white",
             "startlinecolor": "rgb(36,36,36)"
            },
            "type": "carpet"
           }
          ],
          "choropleth": [
           {
            "colorbar": {
             "outlinewidth": 1,
             "tickcolor": "rgb(36,36,36)",
             "ticks": "outside"
            },
            "type": "choropleth"
           }
          ],
          "contour": [
           {
            "colorbar": {
             "outlinewidth": 1,
             "tickcolor": "rgb(36,36,36)",
             "ticks": "outside"
            },
            "colorscale": [
             [
              0,
              "#440154"
             ],
             [
              0.1111111111111111,
              "#482878"
             ],
             [
              0.2222222222222222,
              "#3e4989"
             ],
             [
              0.3333333333333333,
              "#31688e"
             ],
             [
              0.4444444444444444,
              "#26828e"
             ],
             [
              0.5555555555555556,
              "#1f9e89"
             ],
             [
              0.6666666666666666,
              "#35b779"
             ],
             [
              0.7777777777777778,
              "#6ece58"
             ],
             [
              0.8888888888888888,
              "#b5de2b"
             ],
             [
              1,
              "#fde725"
             ]
            ],
            "type": "contour"
           }
          ],
          "contourcarpet": [
           {
            "colorbar": {
             "outlinewidth": 1,
             "tickcolor": "rgb(36,36,36)",
             "ticks": "outside"
            },
            "type": "contourcarpet"
           }
          ],
          "heatmap": [
           {
            "colorbar": {
             "outlinewidth": 1,
             "tickcolor": "rgb(36,36,36)",
             "ticks": "outside"
            },
            "colorscale": [
             [
              0,
              "#440154"
             ],
             [
              0.1111111111111111,
              "#482878"
             ],
             [
              0.2222222222222222,
              "#3e4989"
             ],
             [
              0.3333333333333333,
              "#31688e"
             ],
             [
              0.4444444444444444,
              "#26828e"
             ],
             [
              0.5555555555555556,
              "#1f9e89"
             ],
             [
              0.6666666666666666,
              "#35b779"
             ],
             [
              0.7777777777777778,
              "#6ece58"
             ],
             [
              0.8888888888888888,
              "#b5de2b"
             ],
             [
              1,
              "#fde725"
             ]
            ],
            "type": "heatmap"
           }
          ],
          "heatmapgl": [
           {
            "colorbar": {
             "outlinewidth": 1,
             "tickcolor": "rgb(36,36,36)",
             "ticks": "outside"
            },
            "colorscale": [
             [
              0,
              "#440154"
             ],
             [
              0.1111111111111111,
              "#482878"
             ],
             [
              0.2222222222222222,
              "#3e4989"
             ],
             [
              0.3333333333333333,
              "#31688e"
             ],
             [
              0.4444444444444444,
              "#26828e"
             ],
             [
              0.5555555555555556,
              "#1f9e89"
             ],
             [
              0.6666666666666666,
              "#35b779"
             ],
             [
              0.7777777777777778,
              "#6ece58"
             ],
             [
              0.8888888888888888,
              "#b5de2b"
             ],
             [
              1,
              "#fde725"
             ]
            ],
            "type": "heatmapgl"
           }
          ],
          "histogram": [
           {
            "marker": {
             "line": {
              "color": "white",
              "width": 0.6
             }
            },
            "type": "histogram"
           }
          ],
          "histogram2d": [
           {
            "colorbar": {
             "outlinewidth": 1,
             "tickcolor": "rgb(36,36,36)",
             "ticks": "outside"
            },
            "colorscale": [
             [
              0,
              "#440154"
             ],
             [
              0.1111111111111111,
              "#482878"
             ],
             [
              0.2222222222222222,
              "#3e4989"
             ],
             [
              0.3333333333333333,
              "#31688e"
             ],
             [
              0.4444444444444444,
              "#26828e"
             ],
             [
              0.5555555555555556,
              "#1f9e89"
             ],
             [
              0.6666666666666666,
              "#35b779"
             ],
             [
              0.7777777777777778,
              "#6ece58"
             ],
             [
              0.8888888888888888,
              "#b5de2b"
             ],
             [
              1,
              "#fde725"
             ]
            ],
            "type": "histogram2d"
           }
          ],
          "histogram2dcontour": [
           {
            "colorbar": {
             "outlinewidth": 1,
             "tickcolor": "rgb(36,36,36)",
             "ticks": "outside"
            },
            "colorscale": [
             [
              0,
              "#440154"
             ],
             [
              0.1111111111111111,
              "#482878"
             ],
             [
              0.2222222222222222,
              "#3e4989"
             ],
             [
              0.3333333333333333,
              "#31688e"
             ],
             [
              0.4444444444444444,
              "#26828e"
             ],
             [
              0.5555555555555556,
              "#1f9e89"
             ],
             [
              0.6666666666666666,
              "#35b779"
             ],
             [
              0.7777777777777778,
              "#6ece58"
             ],
             [
              0.8888888888888888,
              "#b5de2b"
             ],
             [
              1,
              "#fde725"
             ]
            ],
            "type": "histogram2dcontour"
           }
          ],
          "mesh3d": [
           {
            "colorbar": {
             "outlinewidth": 1,
             "tickcolor": "rgb(36,36,36)",
             "ticks": "outside"
            },
            "type": "mesh3d"
           }
          ],
          "parcoords": [
           {
            "line": {
             "colorbar": {
              "outlinewidth": 1,
              "tickcolor": "rgb(36,36,36)",
              "ticks": "outside"
             }
            },
            "type": "parcoords"
           }
          ],
          "pie": [
           {
            "automargin": true,
            "type": "pie"
           }
          ],
          "scatter": [
           {
            "marker": {
             "colorbar": {
              "outlinewidth": 1,
              "tickcolor": "rgb(36,36,36)",
              "ticks": "outside"
             }
            },
            "type": "scatter"
           }
          ],
          "scatter3d": [
           {
            "line": {
             "colorbar": {
              "outlinewidth": 1,
              "tickcolor": "rgb(36,36,36)",
              "ticks": "outside"
             }
            },
            "marker": {
             "colorbar": {
              "outlinewidth": 1,
              "tickcolor": "rgb(36,36,36)",
              "ticks": "outside"
             }
            },
            "type": "scatter3d"
           }
          ],
          "scattercarpet": [
           {
            "marker": {
             "colorbar": {
              "outlinewidth": 1,
              "tickcolor": "rgb(36,36,36)",
              "ticks": "outside"
             }
            },
            "type": "scattercarpet"
           }
          ],
          "scattergeo": [
           {
            "marker": {
             "colorbar": {
              "outlinewidth": 1,
              "tickcolor": "rgb(36,36,36)",
              "ticks": "outside"
             }
            },
            "type": "scattergeo"
           }
          ],
          "scattergl": [
           {
            "marker": {
             "colorbar": {
              "outlinewidth": 1,
              "tickcolor": "rgb(36,36,36)",
              "ticks": "outside"
             }
            },
            "type": "scattergl"
           }
          ],
          "scattermapbox": [
           {
            "marker": {
             "colorbar": {
              "outlinewidth": 1,
              "tickcolor": "rgb(36,36,36)",
              "ticks": "outside"
             }
            },
            "type": "scattermapbox"
           }
          ],
          "scatterpolar": [
           {
            "marker": {
             "colorbar": {
              "outlinewidth": 1,
              "tickcolor": "rgb(36,36,36)",
              "ticks": "outside"
             }
            },
            "type": "scatterpolar"
           }
          ],
          "scatterpolargl": [
           {
            "marker": {
             "colorbar": {
              "outlinewidth": 1,
              "tickcolor": "rgb(36,36,36)",
              "ticks": "outside"
             }
            },
            "type": "scatterpolargl"
           }
          ],
          "scatterternary": [
           {
            "marker": {
             "colorbar": {
              "outlinewidth": 1,
              "tickcolor": "rgb(36,36,36)",
              "ticks": "outside"
             }
            },
            "type": "scatterternary"
           }
          ],
          "surface": [
           {
            "colorbar": {
             "outlinewidth": 1,
             "tickcolor": "rgb(36,36,36)",
             "ticks": "outside"
            },
            "colorscale": [
             [
              0,
              "#440154"
             ],
             [
              0.1111111111111111,
              "#482878"
             ],
             [
              0.2222222222222222,
              "#3e4989"
             ],
             [
              0.3333333333333333,
              "#31688e"
             ],
             [
              0.4444444444444444,
              "#26828e"
             ],
             [
              0.5555555555555556,
              "#1f9e89"
             ],
             [
              0.6666666666666666,
              "#35b779"
             ],
             [
              0.7777777777777778,
              "#6ece58"
             ],
             [
              0.8888888888888888,
              "#b5de2b"
             ],
             [
              1,
              "#fde725"
             ]
            ],
            "type": "surface"
           }
          ],
          "table": [
           {
            "cells": {
             "fill": {
              "color": "rgb(237,237,237)"
             },
             "line": {
              "color": "white"
             }
            },
            "header": {
             "fill": {
              "color": "rgb(217,217,217)"
             },
             "line": {
              "color": "white"
             }
            },
            "type": "table"
           }
          ]
         },
         "layout": {
          "annotationdefaults": {
           "arrowhead": 0,
           "arrowwidth": 1
          },
          "autotypenumbers": "strict",
          "coloraxis": {
           "colorbar": {
            "outlinewidth": 1,
            "tickcolor": "rgb(36,36,36)",
            "ticks": "outside"
           }
          },
          "colorscale": {
           "diverging": [
            [
             0,
             "rgb(103,0,31)"
            ],
            [
             0.1,
             "rgb(178,24,43)"
            ],
            [
             0.2,
             "rgb(214,96,77)"
            ],
            [
             0.3,
             "rgb(244,165,130)"
            ],
            [
             0.4,
             "rgb(253,219,199)"
            ],
            [
             0.5,
             "rgb(247,247,247)"
            ],
            [
             0.6,
             "rgb(209,229,240)"
            ],
            [
             0.7,
             "rgb(146,197,222)"
            ],
            [
             0.8,
             "rgb(67,147,195)"
            ],
            [
             0.9,
             "rgb(33,102,172)"
            ],
            [
             1,
             "rgb(5,48,97)"
            ]
           ],
           "sequential": [
            [
             0,
             "#440154"
            ],
            [
             0.1111111111111111,
             "#482878"
            ],
            [
             0.2222222222222222,
             "#3e4989"
            ],
            [
             0.3333333333333333,
             "#31688e"
            ],
            [
             0.4444444444444444,
             "#26828e"
            ],
            [
             0.5555555555555556,
             "#1f9e89"
            ],
            [
             0.6666666666666666,
             "#35b779"
            ],
            [
             0.7777777777777778,
             "#6ece58"
            ],
            [
             0.8888888888888888,
             "#b5de2b"
            ],
            [
             1,
             "#fde725"
            ]
           ],
           "sequentialminus": [
            [
             0,
             "#440154"
            ],
            [
             0.1111111111111111,
             "#482878"
            ],
            [
             0.2222222222222222,
             "#3e4989"
            ],
            [
             0.3333333333333333,
             "#31688e"
            ],
            [
             0.4444444444444444,
             "#26828e"
            ],
            [
             0.5555555555555556,
             "#1f9e89"
            ],
            [
             0.6666666666666666,
             "#35b779"
            ],
            [
             0.7777777777777778,
             "#6ece58"
            ],
            [
             0.8888888888888888,
             "#b5de2b"
            ],
            [
             1,
             "#fde725"
            ]
           ]
          },
          "colorway": [
           "#1F77B4",
           "#FF7F0E",
           "#2CA02C",
           "#D62728",
           "#9467BD",
           "#8C564B",
           "#E377C2",
           "#7F7F7F",
           "#BCBD22",
           "#17BECF"
          ],
          "font": {
           "color": "rgb(36,36,36)"
          },
          "geo": {
           "bgcolor": "white",
           "lakecolor": "white",
           "landcolor": "white",
           "showlakes": true,
           "showland": true,
           "subunitcolor": "white"
          },
          "hoverlabel": {
           "align": "left"
          },
          "hovermode": "closest",
          "mapbox": {
           "style": "light"
          },
          "paper_bgcolor": "white",
          "plot_bgcolor": "white",
          "polar": {
           "angularaxis": {
            "gridcolor": "rgb(232,232,232)",
            "linecolor": "rgb(36,36,36)",
            "showgrid": false,
            "showline": true,
            "ticks": "outside"
           },
           "bgcolor": "white",
           "radialaxis": {
            "gridcolor": "rgb(232,232,232)",
            "linecolor": "rgb(36,36,36)",
            "showgrid": false,
            "showline": true,
            "ticks": "outside"
           }
          },
          "scene": {
           "xaxis": {
            "backgroundcolor": "white",
            "gridcolor": "rgb(232,232,232)",
            "gridwidth": 2,
            "linecolor": "rgb(36,36,36)",
            "showbackground": true,
            "showgrid": false,
            "showline": true,
            "ticks": "outside",
            "zeroline": false,
            "zerolinecolor": "rgb(36,36,36)"
           },
           "yaxis": {
            "backgroundcolor": "white",
            "gridcolor": "rgb(232,232,232)",
            "gridwidth": 2,
            "linecolor": "rgb(36,36,36)",
            "showbackground": true,
            "showgrid": false,
            "showline": true,
            "ticks": "outside",
            "zeroline": false,
            "zerolinecolor": "rgb(36,36,36)"
           },
           "zaxis": {
            "backgroundcolor": "white",
            "gridcolor": "rgb(232,232,232)",
            "gridwidth": 2,
            "linecolor": "rgb(36,36,36)",
            "showbackground": true,
            "showgrid": false,
            "showline": true,
            "ticks": "outside",
            "zeroline": false,
            "zerolinecolor": "rgb(36,36,36)"
           }
          },
          "shapedefaults": {
           "fillcolor": "black",
           "line": {
            "width": 0
           },
           "opacity": 0.3
          },
          "ternary": {
           "aaxis": {
            "gridcolor": "rgb(232,232,232)",
            "linecolor": "rgb(36,36,36)",
            "showgrid": false,
            "showline": true,
            "ticks": "outside"
           },
           "baxis": {
            "gridcolor": "rgb(232,232,232)",
            "linecolor": "rgb(36,36,36)",
            "showgrid": false,
            "showline": true,
            "ticks": "outside"
           },
           "bgcolor": "white",
           "caxis": {
            "gridcolor": "rgb(232,232,232)",
            "linecolor": "rgb(36,36,36)",
            "showgrid": false,
            "showline": true,
            "ticks": "outside"
           }
          },
          "title": {
           "x": 0.05
          },
          "xaxis": {
           "automargin": true,
           "gridcolor": "rgb(232,232,232)",
           "linecolor": "rgb(36,36,36)",
           "showgrid": false,
           "showline": true,
           "ticks": "outside",
           "title": {
            "standoff": 15
           },
           "zeroline": false,
           "zerolinecolor": "rgb(36,36,36)"
          },
          "yaxis": {
           "automargin": true,
           "gridcolor": "rgb(232,232,232)",
           "linecolor": "rgb(36,36,36)",
           "showgrid": false,
           "showline": true,
           "ticks": "outside",
           "title": {
            "standoff": 15
           },
           "zeroline": false,
           "zerolinecolor": "rgb(36,36,36)"
          }
         }
        },
        "xaxis": {
         "anchor": "y",
         "domain": [
          0,
          1
         ],
         "title": {
          "text": "Time(s)"
         }
        },
        "yaxis": {
         "anchor": "x",
         "domain": [
          0,
          1
         ],
         "title": {
          "text": "C"
         }
        }
       },
       "_py2js_animate": {},
       "_py2js_deleteTraces": {},
       "_py2js_moveTraces": {},
       "_py2js_removeLayoutProps": {},
       "_py2js_removeTraceProps": {},
       "_view_count": 1
      }
     },
     "c73629305f5345db83772ba7d7975940": {
      "model_module": "@jupyter-widgets/controls",
      "model_module_version": "1.5.0",
      "model_name": "DescriptionStyleModel",
      "state": {
       "description_width": ""
      }
     },
     "c834d49b80694e63aedefa7e900d1305": {
      "model_module": "@jupyter-widgets/base",
      "model_module_version": "1.2.0",
      "model_name": "LayoutModel",
      "state": {
       "border": "solid"
      }
     },
     "c87c7a3f42084d34a29b9b9494591d36": {
      "model_module": "@jupyter-widgets/controls",
      "model_module_version": "1.5.0",
      "model_name": "DescriptionStyleModel",
      "state": {
       "description_width": ""
      }
     },
     "c8e43c39f1a644f8913b5f00163d33a7": {
      "model_module": "@jupyter-widgets/base",
      "model_module_version": "1.2.0",
      "model_name": "LayoutModel",
      "state": {}
     },
     "ca368704e6b8490e99de729d1f9b4016": {
      "model_module": "@jupyter-widgets/controls",
      "model_module_version": "1.5.0",
      "model_name": "DescriptionStyleModel",
      "state": {
       "description_width": ""
      }
     },
     "ca64da7ac6284d4e95623798fd7e7a90": {
      "model_module": "@jupyter-widgets/base",
      "model_module_version": "1.2.0",
      "model_name": "LayoutModel",
      "state": {}
     },
     "cabebc613caf42d8a882fbd5bde3c3b9": {
      "model_module": "@jupyter-widgets/base",
      "model_module_version": "1.2.0",
      "model_name": "LayoutModel",
      "state": {}
     },
     "cb4f063f704f47979d2d63b8ad642097": {
      "model_module": "@jupyter-widgets/controls",
      "model_module_version": "1.5.0",
      "model_name": "DescriptionStyleModel",
      "state": {
       "description_width": ""
      }
     },
     "cc9ab0b5955c4d2fbc6bfb2dced40dc2": {
      "model_module": "@jupyter-widgets/base",
      "model_module_version": "1.2.0",
      "model_name": "LayoutModel",
      "state": {}
     },
     "d01fd0e1d7ba4f3aba7ec68778b0ae9a": {
      "model_module": "@jupyter-widgets/controls",
      "model_module_version": "1.5.0",
      "model_name": "DescriptionStyleModel",
      "state": {
       "description_width": ""
      }
     },
     "d187add12d07405caf7fbc05b7595511": {
      "model_module": "@jupyter-widgets/controls",
      "model_module_version": "1.5.0",
      "model_name": "DropdownModel",
      "state": {
       "_options_labels": [
        "0 DAQC2"
       ],
       "description": "Board:",
       "disabled": true,
       "index": 0,
       "layout": "IPY_MODEL_5bd41a3b16ae43f2b4e6d179513d91e0",
       "style": "IPY_MODEL_fc648b33f8d4420ab6e0fa8e1fd51d61"
      }
     },
     "d1f6bff0a1cd4b7fb845b496df5ca98b": {
      "model_module": "@jupyter-widgets/base",
      "model_module_version": "1.2.0",
      "model_name": "LayoutModel",
      "state": {}
     },
     "d37569d18a9f4fee9d79add355998ae0": {
      "model_module": "@jupyter-widgets/base",
      "model_module_version": "1.2.0",
      "model_name": "LayoutModel",
      "state": {}
     },
     "d37fbd97285041cab5057a3e0e7e86c1": {
      "model_module": "@jupyter-widgets/controls",
      "model_module_version": "1.5.0",
      "model_name": "TextModel",
      "state": {
       "description": "X-axis label (time):",
       "disabled": true,
       "layout": "IPY_MODEL_6ec661d1edb143518ade0bc8e0870ab7",
       "placeholder": "Type something",
       "style": "IPY_MODEL_64d65f6ff0254c88b75617fff66ca64e",
       "value": "Time(s)"
      }
     },
     "d3f79288d0a64b5fa44add3807b08538": {
      "model_module": "@jupyter-widgets/controls",
      "model_module_version": "1.5.0",
      "model_name": "DescriptionStyleModel",
      "state": {
       "description_width": ""
      }
     },
     "d4932793e0c24c79866b9e18845f9954": {
      "model_module": "@jupyter-widgets/base",
      "model_module_version": "1.2.0",
      "model_name": "LayoutModel",
      "state": {}
     },
     "d4c76c90290e4f63be87c62e43907cf8": {
      "model_module": "@jupyter-widgets/controls",
      "model_module_version": "1.5.0",
      "model_name": "DropdownModel",
      "state": {
       "_options_labels": [
        "0",
        "1",
        "2",
        "3",
        "4",
        "5",
        "6",
        "7",
        "8"
       ],
       "description": "Channel:",
       "disabled": true,
       "index": 0,
       "layout": "IPY_MODEL_5916164add8e43c184e3bc3ee6333531",
       "style": "IPY_MODEL_343b6f4106ec4874a675fb4871d7fdb2"
      }
     },
     "d6697832c37e4d96bf0aa701ed1565f9": {
      "model_module": "@jupyter-widgets/base",
      "model_module_version": "1.2.0",
      "model_name": "LayoutModel",
      "state": {}
     },
     "d732e9a81b81484988e41bc9575e7287": {
      "model_module": "@jupyter-widgets/controls",
      "model_module_version": "1.5.0",
      "model_name": "DescriptionStyleModel",
      "state": {
       "description_width": ""
      }
     },
     "d8818d67a44d4537928d45cb7a5aa6cb": {
      "model_module": "@jupyter-widgets/controls",
      "model_module_version": "1.5.0",
      "model_name": "DescriptionStyleModel",
      "state": {
       "description_width": ""
      }
     },
     "d8cc344836424781b09079697619b889": {
      "model_module": "@jupyter-widgets/base",
      "model_module_version": "1.2.0",
      "model_name": "LayoutModel",
      "state": {}
     },
     "d96b33579dca4bdaa9a866360606381c": {
      "model_module": "@jupyter-widgets/controls",
      "model_module_version": "1.5.0",
      "model_name": "DropdownModel",
      "state": {
       "_options_labels": [
        "0",
        "1",
        "2",
        "3",
        "4",
        "5",
        "6",
        "7",
        "8"
       ],
       "description": "Channel:",
       "disabled": true,
       "index": 0,
       "layout": "IPY_MODEL_dfabe9764f8649bb998f23be95481491",
       "style": "IPY_MODEL_891c8179b02a4f8a8ea66b91b9c924b4"
      }
     },
     "d96ecb6d408949ef8e01360370ffb620": {
      "model_module": "@jupyter-widgets/controls",
      "model_module_version": "1.5.0",
      "model_name": "DescriptionStyleModel",
      "state": {
       "description_width": ""
      }
     },
     "d9e7a7ba93824a9bb257f42f951c1ab3": {
      "model_module": "@jupyter-widgets/controls",
      "model_module_version": "1.5.0",
      "model_name": "DescriptionStyleModel",
      "state": {
       "description_width": ""
      }
     },
     "dc5519dd14434a1c9c18e2406fa0e28e": {
      "model_module": "@jupyter-widgets/controls",
      "model_module_version": "1.5.0",
      "model_name": "DescriptionStyleModel",
      "state": {
       "description_width": ""
      }
     },
     "dc8f660384af41129d1b9a86edd5f931": {
      "model_module": "@jupyter-widgets/controls",
      "model_module_version": "1.5.0",
      "model_name": "DescriptionStyleModel",
      "state": {
       "description_width": ""
      }
     },
     "dd165cc472ec42759b8e7383b36f3367": {
      "model_module": "@jupyter-widgets/controls",
      "model_module_version": "1.5.0",
      "model_name": "ButtonStyleModel",
      "state": {}
     },
     "dee13fcb4d6f4eea967214d6fc05b29f": {
      "model_module": "@jupyter-widgets/controls",
      "model_module_version": "1.5.0",
      "model_name": "HTMLModel",
      "state": {
       "layout": "IPY_MODEL_34e65a834d6a4876b49274214b762058",
       "placeholder": "",
       "style": "IPY_MODEL_7a509b2c3f1342f7affbefbb7235a481",
       "value": "<span style=\"color:blue;\"> To accurately read point location on graph you can zoom in. Drag to zoom. Additional controls show above plot when you hover over it.</span>"
      }
     },
     "df4dc555d22948c5b2c22940de88426b": {
      "model_module": "@jupyter-widgets/controls",
      "model_module_version": "1.5.0",
      "model_name": "DropdownModel",
      "state": {
       "_options_labels": [
        "1"
       ],
       "description": "gains:",
       "index": 0,
       "layout": "IPY_MODEL_d37569d18a9f4fee9d79add355998ae0",
       "style": "IPY_MODEL_8cfb9ae5c4a94913a5e0676e8dfb56de"
      }
     },
     "dfabe9764f8649bb998f23be95481491": {
      "model_module": "@jupyter-widgets/base",
      "model_module_version": "1.2.0",
      "model_name": "LayoutModel",
      "state": {}
     },
     "e2024c3341f743329bfdac5775a317bf": {
      "model_module": "@jupyter-widgets/controls",
      "model_module_version": "1.5.0",
      "model_name": "HTMLModel",
      "state": {
       "layout": "IPY_MODEL_1a7c681e1d514fe6b9e4cf2c99a8bc75",
       "placeholder": "",
       "style": "IPY_MODEL_58c472f409f64c3097de988302ba7e9f",
       "value": "<span style=\"color:blue;\"> To accurately read point location on graph you can zoom in. Drag to zoom. Additional controls show above plot when you hover over it.</span>"
      }
     },
     "e621754c9f384f96a8834d263af1e776": {
      "model_module": "@jupyter-widgets/base",
      "model_module_version": "1.2.0",
      "model_name": "LayoutModel",
      "state": {}
     },
     "e6475e2a98fc4121af55f410d851c8c1": {
      "model_module": "@jupyter-widgets/base",
      "model_module_version": "1.2.0",
      "model_name": "LayoutModel",
      "state": {}
     },
     "e7b9808cbeaf4b85a721f67c9eb257e9": {
      "model_module": "@jupyter-widgets/controls",
      "model_module_version": "1.5.0",
      "model_name": "HBoxModel",
      "state": {
       "children": [
        null,
        "IPY_MODEL_e2024c3341f743329bfdac5775a317bf"
       ],
       "layout": "IPY_MODEL_d8cc344836424781b09079697619b889"
      }
     },
     "e97b5175824b44b1b7175893aea40245": {
      "model_module": "@jupyter-widgets/controls",
      "model_module_version": "1.5.0",
      "model_name": "DescriptionStyleModel",
      "state": {
       "description_width": ""
      }
     },
     "e9b5f9078a4246a3b1bb296c4827dc6e": {
      "model_module": "@jupyter-widgets/controls",
      "model_module_version": "1.5.0",
      "model_name": "DropdownModel",
      "state": {
       "_options_labels": [
        "1"
       ],
       "description": "gains:",
       "disabled": true,
       "index": 0,
       "layout": "IPY_MODEL_7a6033f50f3e4404b4403e3d805ef8fd",
       "style": "IPY_MODEL_3e3f54138f5c4b65901cf0224b7705b0"
      }
     },
     "eab09e5353f444e8a3f2ddcee523b578": {
      "model_module": "@jupyter-widgets/controls",
      "model_module_version": "1.5.0",
      "model_name": "DescriptionStyleModel",
      "state": {
       "description_width": ""
      }
     },
     "ec17da2c0ac648d3b78e3f6746fcf9ce": {
      "model_module": "@jupyter-widgets/controls",
      "model_module_version": "1.5.0",
      "model_name": "DropdownModel",
      "state": {
       "_options_labels": [
        "0 DAQC2"
       ],
       "description": "Board:",
       "disabled": true,
       "index": 0,
       "layout": "IPY_MODEL_582339e4b9074604a8c01413f0dbd855",
       "style": "IPY_MODEL_0d2e40f9b41e46c7bae5d2881117dd99"
      }
     },
     "ec235d2d2d164a8bb878c77fa4f14b66": {
      "model_module": "@jupyter-widgets/base",
      "model_module_version": "1.2.0",
      "model_name": "LayoutModel",
      "state": {}
     },
     "ec49ab8acedd4521b1ffc3552a553634": {
      "model_module": "@jupyter-widgets/controls",
      "model_module_version": "1.5.0",
      "model_name": "DescriptionStyleModel",
      "state": {
       "description_width": ""
      }
     },
     "ed40ffedadf145cfbeb0d5205216ae1f": {
      "model_module": "@jupyter-widgets/controls",
      "model_module_version": "1.5.0",
      "model_name": "DescriptionStyleModel",
      "state": {
       "description_width": ""
      }
     },
     "ee2b0d120a7d4045837c9b4efc8c9ee9": {
      "model_module": "@jupyter-widgets/base",
      "model_module_version": "1.2.0",
      "model_name": "LayoutModel",
      "state": {}
     },
     "ee54f818e97143c599c04618facd0127": {
      "model_module": "@jupyter-widgets/base",
      "model_module_version": "1.2.0",
      "model_name": "LayoutModel",
      "state": {}
     },
     "efd883c6cf6645d5bde7fa7f99e2ae75": {
      "model_module": "@jupyter-widgets/controls",
      "model_module_version": "1.5.0",
      "model_name": "DescriptionStyleModel",
      "state": {
       "description_width": ""
      }
     },
     "f0d6ca4fdaab4364b28656c572a85007": {
      "model_module": "@jupyter-widgets/base",
      "model_module_version": "1.2.0",
      "model_name": "LayoutModel",
      "state": {}
     },
     "f11dda4a809b4160bc82937d497b47bf": {
      "model_module": "@jupyter-widgets/controls",
      "model_module_version": "1.5.0",
      "model_name": "DropdownModel",
      "state": {
       "_options_labels": [
        "1"
       ],
       "description": "gains:",
       "disabled": true,
       "index": 0,
       "layout": "IPY_MODEL_103d44ff46194105b896ea277d3344eb",
       "style": "IPY_MODEL_dc8f660384af41129d1b9a86edd5f931"
      }
     },
     "f1732711eff7471997cdeb6bb3c29662": {
      "model_module": "@jupyter-widgets/controls",
      "model_module_version": "1.5.0",
      "model_name": "TextModel",
      "state": {
       "description": "X-axis label (time):",
       "disabled": true,
       "layout": "IPY_MODEL_09e7d0078daf45fb8abdabce8f10710b",
       "placeholder": "Type something",
       "style": "IPY_MODEL_d9e7a7ba93824a9bb257f42f951c1ab3",
       "value": "Time(s)"
      }
     },
     "f2841bab97144bfaab75d0c079a6094d": {
      "model_module": "@jupyter-widgets/controls",
      "model_module_version": "1.5.0",
      "model_name": "HBoxModel",
      "state": {
       "children": [
        null,
        "IPY_MODEL_f9589b07695f4d40b06d4c10f2938a49"
       ],
       "layout": "IPY_MODEL_cc9ab0b5955c4d2fbc6bfb2dced40dc2"
      }
     },
     "f31bbf6708da405e986627e0a1cb16fa": {
      "model_module": "@jupyter-widgets/controls",
      "model_module_version": "1.5.0",
      "model_name": "DescriptionStyleModel",
      "state": {
       "description_width": ""
      }
     },
     "f355d4679e50451d9a9b0f7e0cfb67e1": {
      "model_module": "@jupyter-widgets/controls",
      "model_module_version": "1.5.0",
      "model_name": "DescriptionStyleModel",
      "state": {
       "description_width": ""
      }
     },
     "f35992d664de47b4befc162d605ee433": {
      "model_module": "@jupyter-widgets/base",
      "model_module_version": "1.2.0",
      "model_name": "LayoutModel",
      "state": {}
     },
     "f3c5ca6ad13e41aab5d5244cc83ccc54": {
      "model_module": "@jupyter-widgets/controls",
      "model_module_version": "1.5.0",
      "model_name": "DescriptionStyleModel",
      "state": {
       "description_width": ""
      }
     },
     "f3d3961be5304da5ae7daf4ca11566e6": {
      "model_module": "@jupyter-widgets/controls",
      "model_module_version": "1.5.0",
      "model_name": "DescriptionStyleModel",
      "state": {
       "description_width": ""
      }
     },
     "f749805a2afd4991aaba9a767e733731": {
      "model_module": "@jupyter-widgets/base",
      "model_module_version": "1.2.0",
      "model_name": "LayoutModel",
      "state": {}
     },
     "f763e92f0fa9451b96f20d41ad8f7170": {
      "model_module": "@jupyter-widgets/base",
      "model_module_version": "1.2.0",
      "model_name": "LayoutModel",
      "state": {}
     },
     "f83056486c03410eaa0086df42ec9b3e": {
      "model_module": "@jupyter-widgets/base",
      "model_module_version": "1.2.0",
      "model_name": "LayoutModel",
      "state": {}
     },
     "f84981c442e94e619a903bc8e83c6160": {
      "model_module": "@jupyter-widgets/controls",
      "model_module_version": "1.5.0",
      "model_name": "DescriptionStyleModel",
      "state": {
       "description_width": ""
      }
     },
     "f9589b07695f4d40b06d4c10f2938a49": {
      "model_module": "@jupyter-widgets/controls",
      "model_module_version": "1.5.0",
      "model_name": "HTMLModel",
      "state": {
       "layout": "IPY_MODEL_c8e43c39f1a644f8913b5f00163d33a7",
       "placeholder": "",
       "style": "IPY_MODEL_0296fdc751d84fa99e945941fc7575a6",
       "value": "<span style=\"color:blue;\"> To accurately read point location on graph you can zoom in. Drag to zoom. Additional controls show above plot when you hover over it.</span>"
      }
     },
     "f9b06e9fbc4a4aba86648e2b32bbe6f8": {
      "model_module": "@jupyter-widgets/base",
      "model_module_version": "1.2.0",
      "model_name": "LayoutModel",
      "state": {}
     },
     "fa2b8f4d815846daa5877e1441653c82": {
      "model_module": "@jupyter-widgets/controls",
      "model_module_version": "1.5.0",
      "model_name": "DropdownModel",
      "state": {
       "_options_labels": [
        "0",
        "1",
        "2",
        "3",
        "4",
        "5",
        "6",
        "7",
        "8"
       ],
       "description": "Channel:",
       "index": 0,
       "layout": "IPY_MODEL_7d8de7b690704f6cb8baa0575c625ba9",
       "style": "IPY_MODEL_e97b5175824b44b1b7175893aea40245"
      }
     },
     "fa49a3e3a917444b8b4507f20017525e": {
      "model_module": "@jupyter-widgets/controls",
      "model_module_version": "1.5.0",
      "model_name": "DescriptionStyleModel",
      "state": {
       "description_width": ""
      }
     },
     "fba598db7f7d49d3b26207f8f66335e9": {
      "model_module": "@jupyter-widgets/base",
      "model_module_version": "1.2.0",
      "model_name": "LayoutModel",
      "state": {}
     },
     "fc648b33f8d4420ab6e0fa8e1fd51d61": {
      "model_module": "@jupyter-widgets/controls",
      "model_module_version": "1.5.0",
      "model_name": "DescriptionStyleModel",
      "state": {
       "description_width": ""
      }
     },
     "feca4c218fd84a05875ca0d127f46d7e": {
      "model_module": "@jupyter-widgets/controls",
      "model_module_version": "1.5.0",
      "model_name": "DescriptionStyleModel",
      "state": {
       "description_width": ""
      }
     },
     "ffa2ee922f7640b1af7cd82a8f7206ce": {
      "model_module": "@jupyter-widgets/base",
      "model_module_version": "1.2.0",
      "model_name": "LayoutModel",
      "state": {}
     },
     "ffb08d95882f4716b5c12a49c22113fc": {
      "model_module": "@jupyter-widgets/base",
      "model_module_version": "1.2.0",
      "model_name": "LayoutModel",
      "state": {}
     },
     "ffbcca8216b840a680f11c1a539dc783": {
      "model_module": "@jupyter-widgets/base",
      "model_module_version": "1.2.0",
      "model_name": "LayoutModel",
      "state": {}
     },
     "fff9b7a06d8843449d4a627f2275751b": {
      "model_module": "@jupyter-widgets/base",
      "model_module_version": "1.2.0",
      "model_name": "LayoutModel",
      "state": {}
     }
    },
    "version_major": 2,
    "version_minor": 0
   }
  }
 },
 "nbformat": 4,
 "nbformat_minor": 5
}
