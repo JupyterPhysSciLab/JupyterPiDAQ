{
 "cells": [
  {
   "cell_type": "markdown",
   "id": "7e1a8e92",
   "metadata": {},
   "source": [
    "[Initialization](#Initialization) | [Collecting Data](#Collecting-Data) | [Displaying Data](#Displaying-Data) | [Calculate a New Column](#Calculating-a-New-Column)"
   ]
  },
  {
   "cell_type": "markdown",
   "id": "b315bae8",
   "metadata": {},
   "source": [
    "## Initialization\n",
    "The data acquisition package and its menu are installed by importing the package.\n",
    "```\n",
    "from jupyterpidaq.DAQinstance import *\n",
    "```\n",
    "The package loads supporting packages (numpy, pandas, plotly, etc...) and searches for compatible hardware. On a Raspberry Pi this takes a number of seconds. If no compatible A-to-D boards are found, demo mode is used. In demo mode the A-to-D board is simulated by a random number generator."
   ]
  },
  {
   "cell_type": "code",
   "execution_count": null,
   "id": "12e87661",
   "metadata": {},
   "outputs": [],
   "source": [
    "from jupyterpidaq.DAQinstance import *"
   ]
  },
  {
   "cell_type": "markdown",
   "id": "3b12e468",
   "metadata": {},
   "source": [
    "When setup is done a new menu appears at the end of the toolbar. ![DAQ Commands Menu](DAQmenu.png) The menu options insert jupyter widget based GUIs for starting a run, displaying the data as tables or plots, or composing an expression to calculate a new column in a DataFrame."
   ]
  },
  {
   "cell_type": "markdown",
   "id": "3c155649",
   "metadata": {},
   "source": [
    "## Collecting Data\n",
    "Collect some data by selecting this text/markdown cell and the selecting \"Insert new run after selection...\" from the \"DAQ commands\" menu. That should insert a cell immediately below this one with widgets for setting up the data acquisition. The widgets look like: \n",
    "<a href=\"newrun.png\"><img src=\"newrun.png\" style=\"width:300px;\" title=\"click for expanded view\"/></a>\n",
    "I suggest selecting at least two traces and setting the data collection rate to the maximum of 3 Hz. Then you will not have to wait long to collect a significant amount of data to look at. When the parameters are what you want, click on \"Set Parameters\". This will lock in the parameters and display the button for starting the data collection and the graph the data will be displayed in.\n",
    "\n",
    "You may want to do a few runs to experiment with the options."
   ]
  },
  {
   "cell_type": "markdown",
   "id": "a2749698",
   "metadata": {},
   "source": [
    "When a run is stopped two things happen:\n",
    " 1. The data is saved to a .csv file so that it could be loaded into another notebook for more analysis.\n",
    " 1. The plotly widget state is saved to the notebook. This means that the interactive graph will be available the next time the notebook is open. This has the side-effect of requiring the user to trust the notebook the next time they open it, because it leaves JS code injected into the notebook."
   ]
  },
  {
   "cell_type": "markdown",
   "id": "a0e895a0",
   "metadata": {},
   "source": [
    "## Displaying Data\n",
    "### As table\n",
    "Selecting the \"Show data in table...\" option in the menu will insert a cell immediately below the currently selected cell displaying a widget in which you can select which data set to display.\n",
    "### As a scatter or line plot\n",
    "Selecting the \"Insert new plot after selection...\" option in the menu will insert two cells immediately below the currently selected cell. The first cell will be used to generate a GUI to lead you through creation of the code to generate the plot. The second cell is where the plot creation code is generated. The first tab of this GUI looks like:\n",
    "<a href=\"plot_GUI.png\"><img src=\"plot_GUI.png\" style=\"width:300px;\" title=\"click for expanded view\"/></a> Once the plot is created the cell with the GUI will be automatically deleted."
   ]
  },
  {
   "cell_type": "markdown",
   "id": "b299348e",
   "metadata": {},
   "source": [
    "## Calculating a New Column\n",
    "Selecting \"Calculate new column...\" from the menu will add two cells immediately below the selected cell. The first cell will create the GUI to lead you through creation of the code to calculate the new column. The second cell is where the code is built. The first tab of the GUI looks like:\n",
    "<a href = \"new_col_GUI.png\"><img src=\"new_col_GUI.png\" style=\"width:300px;\" title=\"click for expanded view\"/> </a>\n",
    "The cell containing the GUI will be deleted after doing the calculation."
   ]
  },
  {
   "cell_type": "code",
   "execution_count": null,
   "id": "46b49bde",
   "metadata": {},
   "outputs": [],
   "source": []
  }
 ],
 "metadata": {
  "kernelspec": {
   "display_name": "Python 3",
   "language": "python",
   "name": "python3"
  },
  "language_info": {
   "codemirror_mode": {
    "name": "ipython",
    "version": 3
   },
   "file_extension": ".py",
   "mimetype": "text/x-python",
   "name": "python",
   "nbconvert_exporter": "python",
   "pygments_lexer": "ipython3",
   "version": "3.8.10"
  }
 },
 "nbformat": 4,
 "nbformat_minor": 5
}
