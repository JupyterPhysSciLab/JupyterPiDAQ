{
 "cells": [
  {
   "cell_type": "markdown",
   "id": "7e1a8e92",
   "metadata": {},
   "source": [
    "[Initialization](#Initialization) | [Collecting Data](#Collecting-Data) | [Displaying Data](#Displaying-Data) | [Calculate a New Column](#Calculating-a-New-Column)"
   ]
  },
  {
   "cell_type": "markdown",
   "id": "b315bae8",
   "metadata": {},
   "source": [
    "## Initialization\n",
    "The data acquisition package and its menu are installed by importing the package.\n",
    "```\n",
    "from jupyterpidaq.DAQinstance import *\n",
    "```\n",
    "The package loads supporting packages (numpy, pandas, plotly, etc...) and searches for compatible hardware. On a Raspberry Pi this takes a number of seconds. If no compatible A-to-D boards are found, demo mode is used. In demo mode the A-to-D board is simulated by a random number generator."
   ]
  },
  {
   "cell_type": "code",
   "execution_count": null,
   "id": "12e87661",
   "metadata": {},
   "outputs": [],
   "source": [
    "from jupyterpidaq.DAQinstance import *"
   ]
  },
  {
   "cell_type": "markdown",
   "id": "3b12e468",
   "metadata": {},
   "source": [
    "When setup is done a new menu appears at the end of the toolbar. ![DAQ Commands Menu](DAQmenu.png) The menu options insert jupyter widget based GUIs for starting a run, displaying the data as tables or plots, or composing an expression to calculate a new column in a DataFrame."
   ]
  },
  {
   "cell_type": "markdown",
   "id": "3c155649",
   "metadata": {},
   "source": [
    "## Collecting Data\n",
    "Collect some data by selecting this text/markdown cell and the selecting \"Insert new run after selection...\" from the \"DAQ commands\" menu. That should insert a cell immediately below this one with widgets for setting up the data acquisition. The widgets look like: \n",
    "<a href=\"newrun.png\"><img src=\"newrun.png\" style=\"width:300px;\" title=\"click for expanded view\"/></a>\n",
    "I suggest selecting at least two traces and setting the data collection rate to the maximum of 3 Hz. Then you will not have to wait long to collect a significant amount of data to look at. When the parameters are what you want, click on \"Set Parameters\". This will lock in the parameters and display the button for starting the data collection and the graph the data will be displayed in.\n",
    "\n",
    "You may want to do a few runs to experiment with the options."
   ]
  },
  {
   "cell_type": "markdown",
   "id": "a2749698",
   "metadata": {},
   "source": [
    "When a run is stopped two things happen:\n",
    " 1. The data is saved to a .csv file so that it could be loaded into another notebook for more analysis.\n",
    " 1. The plotly widget state is saved to the notebook. This means that the interactive graph will be available the next time the notebook is open. This has the side-effect of requiring the user to trust the notebook the next time they open it, because it leaves JS code injected into the notebook."
   ]
  },
  {
   "cell_type": "markdown",
   "id": "a0e895a0",
   "metadata": {},
   "source": [
    "## Displaying Data\n",
    "### As table\n",
    "Selecting the \"Show data in table...\" option in the menu will insert a cell immediately below the currently selected cell displaying a widget in which you can select which data set to display.\n",
    "### As a scatter or line plot\n",
    "Selecting the \"Insert new plot after selection...\" option in the menu will insert two cells immediately below the currently selected cell. The first cell will be used to generate a GUI to lead you through creation of the code to generate the plot. The second cell is where the plot creation code is generated. The first tab of this GUI looks like:\n",
    "<a href=\"plot_GUI.png\"><img src=\"plot_GUI.png\" style=\"width:300px;\" title=\"click for expanded view\"/></a> Once the plot is created the cell with the GUI will be automatically deleted."
   ]
  },
  {
   "cell_type": "markdown",
   "id": "b299348e",
   "metadata": {},
   "source": [
    "## Calculating a New Column\n",
    "Selecting \"Calculate new column...\" from the menu will add two cells immediately below the selected cell. The first cell will create the GUI to lead you through creation of the code to calculate the new column. The second cell is where the code is built. The first tab of the GUI looks like:\n",
    "<a href = \"new_col_GUI.png\"><img src=\"new_col_GUI.png\" style=\"width:300px;\" title=\"click for expanded view\"/> </a>\n",
    "The cell containing the GUI will be deleted after doing the calculation."
   ]
  },
  {
   "cell_type": "code",
   "execution_count": null,
   "id": "46b49bde",
   "metadata": {},
   "outputs": [],
   "source": []
  }
 ],
 "metadata": {
  "kernelspec": {
   "display_name": "Python 3",
   "language": "python",
   "name": "python3"
  },
  "language_info": {
   "codemirror_mode": {
    "name": "ipython",
    "version": 3
   },
   "file_extension": ".py",
   "mimetype": "text/x-python",
   "name": "python",
   "nbconvert_exporter": "python",
   "pygments_lexer": "ipython3",
   "version": "3.8.10"
  },
  "widgets": {
   "application/vnd.jupyter.widget-state+json": {
    "state": {
     "00d5a52a2f844d02ae40a187a04d993a": {
      "model_module": "@jupyter-widgets/controls",
      "model_module_version": "1.5.0",
      "model_name": "BoundedFloatTextModel",
      "state": {
       "description": "Rate (Hz):",
       "disabled": true,
       "layout": "IPY_MODEL_6807fc2677e04db285fb93c57d3c69e7",
       "max": 3,
       "step": 0.003,
       "style": "IPY_MODEL_ed675fccb76346b6a84804b49f33ce7a",
       "value": 3
      }
     },
     "0522b56f7cd747fbbe5e070d44b48b1e": {
      "model_module": "@jupyter-widgets/controls",
      "model_module_version": "1.5.0",
      "model_name": "DescriptionStyleModel",
      "state": {
       "description_width": ""
      }
     },
     "05c05816539a447d81dab044313fbbe6": {
      "model_module": "@jupyter-widgets/base",
      "model_module_version": "1.2.0",
      "model_name": "LayoutModel",
      "state": {}
     },
     "07a0b6f4e11d4c86844ab6fe29ffd7a0": {
      "model_module": "@jupyter-widgets/controls",
      "model_module_version": "1.5.0",
      "model_name": "DropdownModel",
      "state": {
       "_options_labels": [
        "1"
       ],
       "description": "gains:",
       "index": 0,
       "layout": "IPY_MODEL_bbf4a7f7b10f4ef6b1c0cda10c445782",
       "style": "IPY_MODEL_887fce7fa53546f4ae35b216166f6836"
      }
     },
     "087f5a4c86c24b82bfbb2440128ef275": {
      "model_module": "@jupyter-widgets/base",
      "model_module_version": "1.2.0",
      "model_name": "LayoutModel",
      "state": {}
     },
     "0b0601bf41bd415abd56858024dc7e6c": {
      "model_module": "@jupyter-widgets/base",
      "model_module_version": "1.2.0",
      "model_name": "LayoutModel",
      "state": {}
     },
     "0c931860bf024432abb252cb82f7a78d": {
      "model_module": "@jupyter-widgets/base",
      "model_module_version": "1.2.0",
      "model_name": "LayoutModel",
      "state": {}
     },
     "0f06d580b4db415e8387aeb3206c0b21": {
      "model_module": "@jupyter-widgets/base",
      "model_module_version": "1.2.0",
      "model_name": "LayoutModel",
      "state": {
       "border": "solid"
      }
     },
     "1149d148267f432b82f0f9f422e55762": {
      "model_module": "@jupyter-widgets/controls",
      "model_module_version": "1.5.0",
      "model_name": "DescriptionStyleModel",
      "state": {
       "description_width": ""
      }
     },
     "1498c848c8c4462fac9da17d576d2136": {
      "model_module": "@jupyter-widgets/base",
      "model_module_version": "1.2.0",
      "model_name": "LayoutModel",
      "state": {}
     },
     "1650d60356ad4ce68d61c6e773623739": {
      "model_module": "@jupyter-widgets/controls",
      "model_module_version": "1.5.0",
      "model_name": "ButtonStyleModel",
      "state": {}
     },
     "1a8388bdf20342709f021381fc8bf6d1": {
      "model_module": "@jupyter-widgets/controls",
      "model_module_version": "1.5.0",
      "model_name": "DescriptionStyleModel",
      "state": {
       "description_width": ""
      }
     },
     "1b1e40cdc40e4b2082dd9cef3565ca6b": {
      "model_module": "@jupyter-widgets/base",
      "model_module_version": "1.2.0",
      "model_name": "LayoutModel",
      "state": {}
     },
     "1c0ba0856a73486da5abf2ac397e35c2": {
      "model_module": "@jupyter-widgets/base",
      "model_module_version": "1.2.0",
      "model_name": "LayoutModel",
      "state": {}
     },
     "1d1a77b78828442fb641e22c547362a5": {
      "model_module": "@jupyter-widgets/controls",
      "model_module_version": "1.5.0",
      "model_name": "DescriptionStyleModel",
      "state": {
       "description_width": ""
      }
     },
     "1ea4ed8a18964534973b3fc9b4c4e247": {
      "model_module": "@jupyter-widgets/base",
      "model_module_version": "1.2.0",
      "model_name": "LayoutModel",
      "state": {}
     },
     "1eb069f2bf664be08f6e043edbdd070c": {
      "model_module": "@jupyter-widgets/controls",
      "model_module_version": "1.5.0",
      "model_name": "DropdownModel",
      "state": {
       "_options_labels": [
        "0 ADCsym Random",
        "1 ADCsym Line"
       ],
       "description": "Board:",
       "disabled": true,
       "index": 0,
       "layout": "IPY_MODEL_1b1e40cdc40e4b2082dd9cef3565ca6b",
       "style": "IPY_MODEL_75eb1cec147246988e50922cd923ac11"
      }
     },
     "213e02a8049846d8acbb8c3d75ce3496": {
      "model_module": "@jupyter-widgets/base",
      "model_module_version": "1.2.0",
      "model_name": "LayoutModel",
      "state": {}
     },
     "2306acf156ee4a308c98c0bc16e640e4": {
      "model_module": "@jupyter-widgets/controls",
      "model_module_version": "1.5.0",
      "model_name": "DescriptionStyleModel",
      "state": {
       "description_width": ""
      }
     },
     "274b1e4b44824fba9b70fb0c8b713164": {
      "model_module": "@jupyter-widgets/controls",
      "model_module_version": "1.5.0",
      "model_name": "HTMLModel",
      "state": {
       "layout": "IPY_MODEL_dc73f40ea05b4cebabc8096e9dd710bb",
       "placeholder": "",
       "style": "IPY_MODEL_3d169612e5b14d5481e3eefbd6b6d31b",
       "value": "<span style=\"color:blue;\"> To accurately read point location on graph you can zoom in. Drag to zoom. Additional controls show above plot when you hover over it.</span>"
      }
     },
     "27ba9621661a4b51b8c33ea254f66f44": {
      "model_module": "@jupyter-widgets/controls",
      "model_module_version": "1.5.0",
      "model_name": "DropdownModel",
      "state": {
       "_options_labels": [
        "1"
       ],
       "description": "gains:",
       "disabled": true,
       "index": 0,
       "layout": "IPY_MODEL_b951e637f36a4c5a84670e499322e288",
       "style": "IPY_MODEL_2306acf156ee4a308c98c0bc16e640e4"
      }
     },
     "2902cb90f0144c77b919f1d95abe9a13": {
      "model_module": "@jupyter-widgets/controls",
      "model_module_version": "1.5.0",
      "model_name": "DropdownModel",
      "state": {
       "_options_labels": [
        "0",
        "1",
        "2",
        "3"
       ],
       "description": "Channel:",
       "index": 0,
       "layout": "IPY_MODEL_380e421eded34d989767fee8617ceb1f",
       "style": "IPY_MODEL_2ab0b80172514ae0a1b4fa8220250f45"
      }
     },
     "2ab0b80172514ae0a1b4fa8220250f45": {
      "model_module": "@jupyter-widgets/controls",
      "model_module_version": "1.5.0",
      "model_name": "DescriptionStyleModel",
      "state": {
       "description_width": ""
      }
     },
     "2d979ca253454e92b446b93035e23476": {
      "model_module": "@jupyter-widgets/controls",
      "model_module_version": "1.5.0",
      "model_name": "DescriptionStyleModel",
      "state": {
       "description_width": ""
      }
     },
     "2e2923063ade4067af342d25dd6d9e12": {
      "model_module": "@jupyter-widgets/base",
      "model_module_version": "1.2.0",
      "model_name": "LayoutModel",
      "state": {}
     },
     "2ff67f27aa3347b587007f5e0eb0a472": {
      "model_module": "@jupyter-widgets/base",
      "model_module_version": "1.2.0",
      "model_name": "LayoutModel",
      "state": {
       "width": "80%"
      }
     },
     "341859dfdb2044e3808cb4d42fbb26d6": {
      "model_module": "@jupyter-widgets/base",
      "model_module_version": "1.2.0",
      "model_name": "LayoutModel",
      "state": {}
     },
     "3436f1c6a2c74e758f2304b0e952379b": {
      "model_module": "@jupyter-widgets/base",
      "model_module_version": "1.2.0",
      "model_name": "LayoutModel",
      "state": {}
     },
     "380e421eded34d989767fee8617ceb1f": {
      "model_module": "@jupyter-widgets/base",
      "model_module_version": "1.2.0",
      "model_name": "LayoutModel",
      "state": {}
     },
     "38a357f714fd485abb8a5e616c714ca0": {
      "model_module": "@jupyter-widgets/controls",
      "model_module_version": "1.5.0",
      "model_name": "DropdownModel",
      "state": {
       "_options_labels": [
        "0",
        "1",
        "2",
        "3"
       ],
       "description": "Channel:",
       "disabled": true,
       "index": 0,
       "layout": "IPY_MODEL_1498c848c8c4462fac9da17d576d2136",
       "style": "IPY_MODEL_cd7a7518b66741d69c4a6201f9d09ace"
      }
     },
     "3d169612e5b14d5481e3eefbd6b6d31b": {
      "model_module": "@jupyter-widgets/controls",
      "model_module_version": "1.5.0",
      "model_name": "DescriptionStyleModel",
      "state": {
       "description_width": ""
      }
     },
     "3eeb49d82ed24e42ab29b5c94a85cbaa": {
      "model_module": "@jupyter-widgets/base",
      "model_module_version": "1.2.0",
      "model_name": "LayoutModel",
      "state": {}
     },
     "400238d1f5c64fab8867f380ee4b91c0": {
      "model_module": "@jupyter-widgets/base",
      "model_module_version": "1.2.0",
      "model_name": "LayoutModel",
      "state": {}
     },
     "40ac56c95fbd4d5fac37b83608567480": {
      "model_module": "@jupyter-widgets/base",
      "model_module_version": "1.2.0",
      "model_name": "LayoutModel",
      "state": {}
     },
     "442e3fa1b32b4cd3b8b7033934acc66a": {
      "model_module": "@jupyter-widgets/controls",
      "model_module_version": "1.5.0",
      "model_name": "DescriptionStyleModel",
      "state": {
       "description_width": ""
      }
     },
     "44e27ae7ae1f4d42a9aaaf0145cdb7ad": {
      "model_module": "plotlywidget",
      "model_module_version": "^4.14.3",
      "model_name": "FigureModel",
      "state": {
       "_config": {
        "plotlyServerURL": "https://plot.ly"
       },
       "_data": [
        {
         "name": "Trace_0(V)",
         "type": "scatter",
         "uid": "7f9b4478-0dc1-46cf-8f44-1c473b2eb925",
         "x": [
          0.005427122116088867,
          0.3336220979690552,
          0.6659176349639893,
          0.9978233575820923,
          1.3296043872833252,
          1.6607784032821655,
          1.9930096864700317,
          2.3249008655548096,
          2.6561214923858643,
          2.9879618883132935,
          3.320335626602173,
          3.651199221611023,
          3.9827994108200073,
          4.314573526382446,
          4.646224617958069,
          4.977940201759338,
          5.310361385345459,
          5.642593026161194,
          5.973512887954712,
          6.305325984954834,
          6.638010025024414,
          6.969643831253052,
          7.300562620162964,
          7.632455110549927,
          7.964555025100708,
          8.296538591384888,
          8.627997040748596,
          8.959516167640686,
          9.291570901870728,
          9.62365186214447,
          9.955163955688477,
          10.286423802375793,
          10.618308305740356,
          10.95055878162384,
          11.282364249229431,
          11.613639831542969
         ],
         "y": [
          2.97,
          0.81,
          2.46,
          2.02,
          3.48,
          0.285,
          2.94,
          2.16,
          1.87,
          3.51,
          3.1,
          0.167,
          0.84,
          0.99,
          2.02,
          2.5,
          3.63,
          2.61,
          2.85,
          1.37,
          3.34,
          0.49,
          2.38,
          1.47,
          2.8,
          3.72,
          1.15,
          0.8,
          2.05,
          2,
          0.115,
          0.58,
          1.61,
          3.06,
          2.29,
          1.63
         ]
        },
        {
         "name": "Trace_1(V)",
         "type": "scatter",
         "uid": "5fb251b3-3246-4492-91ce-f88c7f3cd54b",
         "x": [
          0.005427122116088867,
          0.3336220979690552,
          0.6659176349639893,
          0.9978233575820923,
          1.3296043872833252,
          1.6607784032821655,
          1.9930096864700317,
          2.3249008655548096,
          2.6561214923858643,
          2.9879618883132935,
          3.320335626602173,
          3.651199221611023,
          3.9827994108200073,
          4.314573526382446,
          4.646224617958069,
          4.977940201759338,
          5.310361385345459,
          5.642593026161194,
          5.973512887954712,
          6.305325984954834,
          6.638010025024414,
          6.969643831253052,
          7.300562620162964,
          7.632455110549927,
          7.964555025100708,
          8.296538591384888,
          8.627997040748596,
          8.959516167640686,
          9.291570901870728,
          9.62365186214447,
          9.955163955688477,
          10.286423802375793,
          10.618308305740356,
          10.95055878162384,
          11.282364249229431,
          11.613639831542969
         ],
         "y": [
          0.66,
          3.07,
          0.281,
          1.67,
          0.101,
          3.69,
          0.13,
          0.278,
          3.31,
          1.83,
          0.42,
          1.55,
          3.47,
          2.89,
          0.96,
          2.51,
          1.65,
          2.12,
          3.6,
          2.26,
          3.71,
          0.53,
          0.69,
          2.3,
          1.1,
          1.03,
          1.69,
          0.208,
          0.94,
          3.75,
          1.11,
          3.44,
          1.7,
          3.22,
          0.4,
          0.0399
         ]
        }
       ],
       "_js2py_layoutDelta": {
        "layout_delta": {
         "activeshape": {
          "fillcolor": "rgb(255,0,255)",
          "opacity": 0.5
         },
         "annotations": [],
         "autosize": true,
         "autotypenumbers": "strict",
         "calendar": "gregorian",
         "clickmode": "event",
         "colorscale": {
          "diverging": [
           [
            0,
            "rgb(103,0,31)"
           ],
           [
            0.1,
            "rgb(178,24,43)"
           ],
           [
            0.2,
            "rgb(214,96,77)"
           ],
           [
            0.3,
            "rgb(244,165,130)"
           ],
           [
            0.4,
            "rgb(253,219,199)"
           ],
           [
            0.5,
            "rgb(247,247,247)"
           ],
           [
            0.6,
            "rgb(209,229,240)"
           ],
           [
            0.7,
            "rgb(146,197,222)"
           ],
           [
            0.8,
            "rgb(67,147,195)"
           ],
           [
            0.9,
            "rgb(33,102,172)"
           ],
           [
            1,
            "rgb(5,48,97)"
           ]
          ],
          "sequential": [
           [
            0,
            "#440154"
           ],
           [
            0.1111111111111111,
            "#482878"
           ],
           [
            0.2222222222222222,
            "#3e4989"
           ],
           [
            0.3333333333333333,
            "#31688e"
           ],
           [
            0.4444444444444444,
            "#26828e"
           ],
           [
            0.5555555555555556,
            "#1f9e89"
           ],
           [
            0.6666666666666666,
            "#35b779"
           ],
           [
            0.7777777777777778,
            "#6ece58"
           ],
           [
            0.8888888888888888,
            "#b5de2b"
           ],
           [
            1,
            "#fde725"
           ]
          ],
          "sequentialminus": [
           [
            0,
            "#440154"
           ],
           [
            0.1111111111111111,
            "#482878"
           ],
           [
            0.2222222222222222,
            "#3e4989"
           ],
           [
            0.3333333333333333,
            "#31688e"
           ],
           [
            0.4444444444444444,
            "#26828e"
           ],
           [
            0.5555555555555556,
            "#1f9e89"
           ],
           [
            0.6666666666666666,
            "#35b779"
           ],
           [
            0.7777777777777778,
            "#6ece58"
           ],
           [
            0.8888888888888888,
            "#b5de2b"
           ],
           [
            1,
            "#fde725"
           ]
          ]
         },
         "colorway": [
          "#1F77B4",
          "#FF7F0E",
          "#2CA02C",
          "#D62728",
          "#9467BD",
          "#8C564B",
          "#E377C2",
          "#7F7F7F",
          "#BCBD22",
          "#17BECF"
         ],
         "dragmode": "zoom",
         "font": {
          "color": "rgb(36,36,36)",
          "family": "\"Open Sans\", verdana, arial, sans-serif",
          "size": 12
         },
         "height": 450,
         "hidesources": false,
         "hoverdistance": 20,
         "hoverlabel": {
          "align": "left",
          "font": {
           "family": "Arial, sans-serif",
           "size": 13
          },
          "namelength": 15
         },
         "hovermode": "closest",
         "images": [],
         "legend": {
          "bgcolor": "white",
          "bordercolor": "#444",
          "borderwidth": 0,
          "font": {
           "color": "rgb(36,36,36)",
           "family": "\"Open Sans\", verdana, arial, sans-serif",
           "size": 12
          },
          "itemclick": "toggle",
          "itemdoubleclick": "toggleothers",
          "itemsizing": "trace",
          "itemwidth": 30,
          "orientation": "v",
          "title": {
           "text": ""
          },
          "traceorder": "normal",
          "valign": "middle",
          "x": 1.02,
          "xanchor": "left",
          "y": 1,
          "yanchor": "auto"
         },
         "margin": {
          "autoexpand": true,
          "b": 80,
          "l": 80,
          "pad": 0,
          "r": 80,
          "t": 100
         },
         "modebar": {
          "activecolor": "rgba(68, 68, 68, 0.7)",
          "bgcolor": "rgba(255, 255, 255, 0.5)",
          "color": "rgba(68, 68, 68, 0.3)",
          "orientation": "h"
         },
         "newshape": {
          "drawdirection": "diagonal",
          "fillcolor": "rgba(0,0,0,0)",
          "fillrule": "evenodd",
          "layer": "above",
          "line": {
           "color": "#444",
           "dash": "solid",
           "width": 4
          },
          "opacity": 1
         },
         "paper_bgcolor": "white",
         "plot_bgcolor": "white",
         "separators": ".,",
         "shapes": [],
         "showlegend": true,
         "sliders": [],
         "spikedistance": 20,
         "title": {
          "font": {
           "color": "rgb(36,36,36)",
           "family": "\"Open Sans\", verdana, arial, sans-serif",
           "size": 17
          },
          "pad": {
           "b": 0,
           "l": 0,
           "r": 0,
           "t": 0
          },
          "text": "Click to enter Plot title",
          "x": 0.05,
          "xanchor": "auto",
          "xref": "container",
          "y": "auto",
          "yanchor": "auto",
          "yref": "container"
         },
         "uniformtext": {
          "mode": false
         },
         "updatemenus": [],
         "width": 966.8,
         "xaxis": {
          "anchor": "y",
          "automargin": true,
          "autorange": true,
          "autotypenumbers": "strict",
          "color": "#444",
          "constrain": "range",
          "constraintoward": "center",
          "domain": [
           0,
           1
          ],
          "dtick": 2,
          "exponentformat": "B",
          "fixedrange": false,
          "hoverformat": "",
          "layer": "above traces",
          "linecolor": "rgb(36,36,36)",
          "linewidth": 1,
          "minexponent": 3,
          "mirror": false,
          "nticks": 0,
          "range": [
           0.005427122116088867,
           11.613639831542969
          ],
          "rangemode": "normal",
          "separatethousands": false,
          "showexponent": "all",
          "showgrid": false,
          "showline": true,
          "showspikes": false,
          "showticklabels": true,
          "side": "bottom",
          "tick0": 0,
          "tickangle": "auto",
          "tickcolor": "#444",
          "tickfont": {
           "color": "rgb(36,36,36)",
           "family": "\"Open Sans\", verdana, arial, sans-serif",
           "size": 12
          },
          "tickformat": "",
          "ticklabelposition": "outside",
          "ticklen": 5,
          "tickmode": "auto",
          "tickprefix": "",
          "ticks": "outside",
          "ticksuffix": "",
          "tickwidth": 1,
          "title": {
           "font": {
            "color": "rgb(36,36,36)",
            "family": "\"Open Sans\", verdana, arial, sans-serif",
            "size": 14
           },
           "standoff": 15
          },
          "type": "linear",
          "visible": true,
          "zeroline": false
         },
         "yaxis": {
          "anchor": "x",
          "automargin": true,
          "autorange": true,
          "autotypenumbers": "strict",
          "color": "#444",
          "constrain": "range",
          "constraintoward": "middle",
          "domain": [
           0,
           1
          ],
          "dtick": 1,
          "exponentformat": "B",
          "fixedrange": false,
          "hoverformat": "",
          "layer": "above traces",
          "linecolor": "rgb(36,36,36)",
          "linewidth": 1,
          "minexponent": 3,
          "mirror": false,
          "nticks": 0,
          "range": [
           -0.16621666666666668,
           3.9561166666666665
          ],
          "rangemode": "normal",
          "separatethousands": false,
          "showexponent": "all",
          "showgrid": false,
          "showline": true,
          "showspikes": false,
          "showticklabels": true,
          "side": "left",
          "tick0": 0,
          "tickangle": "auto",
          "tickcolor": "#444",
          "tickfont": {
           "color": "rgb(36,36,36)",
           "family": "\"Open Sans\", verdana, arial, sans-serif",
           "size": 12
          },
          "tickformat": "",
          "ticklabelposition": "outside",
          "ticklen": 5,
          "tickmode": "auto",
          "tickprefix": "",
          "ticks": "outside",
          "ticksuffix": "",
          "tickwidth": 1,
          "title": {
           "font": {
            "color": "rgb(36,36,36)",
            "family": "\"Open Sans\", verdana, arial, sans-serif",
            "size": 14
           },
           "standoff": 15
          },
          "type": "linear",
          "visible": true,
          "zeroline": false
         }
        },
        "layout_edit_id": 44
       },
       "_js2py_pointsCallback": {},
       "_js2py_relayout": {},
       "_js2py_restyle": {},
       "_js2py_traceDeltas": {
        "trace_deltas": [
         {
          "connectgaps": false,
          "error_x": {
           "visible": false
          },
          "error_y": {
           "visible": false
          },
          "fill": "none",
          "hoverinfo": "all",
          "hoverlabel": {
           "align": "left",
           "font": {
            "family": "Arial, sans-serif",
            "size": 13
           },
           "namelength": 15
          },
          "hoveron": "points",
          "hovertemplate": "",
          "hovertext": "",
          "index": 0,
          "legendgroup": "",
          "line": {
           "color": "#1F77B4",
           "dash": "solid",
           "shape": "linear",
           "simplify": true,
           "width": 2
          },
          "mode": "lines",
          "opacity": 1,
          "showlegend": true,
          "stackgroup": "",
          "text": "",
          "uid": "7f9b4478-0dc1-46cf-8f44-1c473b2eb925",
          "visible": true,
          "xaxis": "x",
          "xcalendar": "gregorian",
          "xperiod": 0,
          "yaxis": "y",
          "ycalendar": "gregorian",
          "yperiod": 0
         },
         {
          "connectgaps": false,
          "error_x": {
           "visible": false
          },
          "error_y": {
           "visible": false
          },
          "fill": "none",
          "hoverinfo": "all",
          "hoverlabel": {
           "align": "left",
           "font": {
            "family": "Arial, sans-serif",
            "size": 13
           },
           "namelength": 15
          },
          "hoveron": "points",
          "hovertemplate": "",
          "hovertext": "",
          "index": 1,
          "legendgroup": "",
          "line": {
           "color": "#FF7F0E",
           "dash": "solid",
           "shape": "linear",
           "simplify": true,
           "width": 2
          },
          "mode": "lines",
          "opacity": 1,
          "showlegend": true,
          "stackgroup": "",
          "text": "",
          "uid": "5fb251b3-3246-4492-91ce-f88c7f3cd54b",
          "visible": true,
          "xaxis": "x",
          "xcalendar": "gregorian",
          "xperiod": 0,
          "yaxis": "y",
          "ycalendar": "gregorian",
          "yperiod": 0
         }
        ],
        "trace_edit_id": 44
       },
       "_js2py_update": {},
       "_last_layout_edit_id": 44,
       "_last_trace_edit_id": 44,
       "_layout": {
        "template": {
         "data": {
          "bar": [
           {
            "error_x": {
             "color": "rgb(36,36,36)"
            },
            "error_y": {
             "color": "rgb(36,36,36)"
            },
            "marker": {
             "line": {
              "color": "white",
              "width": 0.5
             }
            },
            "type": "bar"
           }
          ],
          "barpolar": [
           {
            "marker": {
             "line": {
              "color": "white",
              "width": 0.5
             }
            },
            "type": "barpolar"
           }
          ],
          "carpet": [
           {
            "aaxis": {
             "endlinecolor": "rgb(36,36,36)",
             "gridcolor": "white",
             "linecolor": "white",
             "minorgridcolor": "white",
             "startlinecolor": "rgb(36,36,36)"
            },
            "baxis": {
             "endlinecolor": "rgb(36,36,36)",
             "gridcolor": "white",
             "linecolor": "white",
             "minorgridcolor": "white",
             "startlinecolor": "rgb(36,36,36)"
            },
            "type": "carpet"
           }
          ],
          "choropleth": [
           {
            "colorbar": {
             "outlinewidth": 1,
             "tickcolor": "rgb(36,36,36)",
             "ticks": "outside"
            },
            "type": "choropleth"
           }
          ],
          "contour": [
           {
            "colorbar": {
             "outlinewidth": 1,
             "tickcolor": "rgb(36,36,36)",
             "ticks": "outside"
            },
            "colorscale": [
             [
              0,
              "#440154"
             ],
             [
              0.1111111111111111,
              "#482878"
             ],
             [
              0.2222222222222222,
              "#3e4989"
             ],
             [
              0.3333333333333333,
              "#31688e"
             ],
             [
              0.4444444444444444,
              "#26828e"
             ],
             [
              0.5555555555555556,
              "#1f9e89"
             ],
             [
              0.6666666666666666,
              "#35b779"
             ],
             [
              0.7777777777777778,
              "#6ece58"
             ],
             [
              0.8888888888888888,
              "#b5de2b"
             ],
             [
              1,
              "#fde725"
             ]
            ],
            "type": "contour"
           }
          ],
          "contourcarpet": [
           {
            "colorbar": {
             "outlinewidth": 1,
             "tickcolor": "rgb(36,36,36)",
             "ticks": "outside"
            },
            "type": "contourcarpet"
           }
          ],
          "heatmap": [
           {
            "colorbar": {
             "outlinewidth": 1,
             "tickcolor": "rgb(36,36,36)",
             "ticks": "outside"
            },
            "colorscale": [
             [
              0,
              "#440154"
             ],
             [
              0.1111111111111111,
              "#482878"
             ],
             [
              0.2222222222222222,
              "#3e4989"
             ],
             [
              0.3333333333333333,
              "#31688e"
             ],
             [
              0.4444444444444444,
              "#26828e"
             ],
             [
              0.5555555555555556,
              "#1f9e89"
             ],
             [
              0.6666666666666666,
              "#35b779"
             ],
             [
              0.7777777777777778,
              "#6ece58"
             ],
             [
              0.8888888888888888,
              "#b5de2b"
             ],
             [
              1,
              "#fde725"
             ]
            ],
            "type": "heatmap"
           }
          ],
          "heatmapgl": [
           {
            "colorbar": {
             "outlinewidth": 1,
             "tickcolor": "rgb(36,36,36)",
             "ticks": "outside"
            },
            "colorscale": [
             [
              0,
              "#440154"
             ],
             [
              0.1111111111111111,
              "#482878"
             ],
             [
              0.2222222222222222,
              "#3e4989"
             ],
             [
              0.3333333333333333,
              "#31688e"
             ],
             [
              0.4444444444444444,
              "#26828e"
             ],
             [
              0.5555555555555556,
              "#1f9e89"
             ],
             [
              0.6666666666666666,
              "#35b779"
             ],
             [
              0.7777777777777778,
              "#6ece58"
             ],
             [
              0.8888888888888888,
              "#b5de2b"
             ],
             [
              1,
              "#fde725"
             ]
            ],
            "type": "heatmapgl"
           }
          ],
          "histogram": [
           {
            "marker": {
             "line": {
              "color": "white",
              "width": 0.6
             }
            },
            "type": "histogram"
           }
          ],
          "histogram2d": [
           {
            "colorbar": {
             "outlinewidth": 1,
             "tickcolor": "rgb(36,36,36)",
             "ticks": "outside"
            },
            "colorscale": [
             [
              0,
              "#440154"
             ],
             [
              0.1111111111111111,
              "#482878"
             ],
             [
              0.2222222222222222,
              "#3e4989"
             ],
             [
              0.3333333333333333,
              "#31688e"
             ],
             [
              0.4444444444444444,
              "#26828e"
             ],
             [
              0.5555555555555556,
              "#1f9e89"
             ],
             [
              0.6666666666666666,
              "#35b779"
             ],
             [
              0.7777777777777778,
              "#6ece58"
             ],
             [
              0.8888888888888888,
              "#b5de2b"
             ],
             [
              1,
              "#fde725"
             ]
            ],
            "type": "histogram2d"
           }
          ],
          "histogram2dcontour": [
           {
            "colorbar": {
             "outlinewidth": 1,
             "tickcolor": "rgb(36,36,36)",
             "ticks": "outside"
            },
            "colorscale": [
             [
              0,
              "#440154"
             ],
             [
              0.1111111111111111,
              "#482878"
             ],
             [
              0.2222222222222222,
              "#3e4989"
             ],
             [
              0.3333333333333333,
              "#31688e"
             ],
             [
              0.4444444444444444,
              "#26828e"
             ],
             [
              0.5555555555555556,
              "#1f9e89"
             ],
             [
              0.6666666666666666,
              "#35b779"
             ],
             [
              0.7777777777777778,
              "#6ece58"
             ],
             [
              0.8888888888888888,
              "#b5de2b"
             ],
             [
              1,
              "#fde725"
             ]
            ],
            "type": "histogram2dcontour"
           }
          ],
          "mesh3d": [
           {
            "colorbar": {
             "outlinewidth": 1,
             "tickcolor": "rgb(36,36,36)",
             "ticks": "outside"
            },
            "type": "mesh3d"
           }
          ],
          "parcoords": [
           {
            "line": {
             "colorbar": {
              "outlinewidth": 1,
              "tickcolor": "rgb(36,36,36)",
              "ticks": "outside"
             }
            },
            "type": "parcoords"
           }
          ],
          "pie": [
           {
            "automargin": true,
            "type": "pie"
           }
          ],
          "scatter": [
           {
            "marker": {
             "colorbar": {
              "outlinewidth": 1,
              "tickcolor": "rgb(36,36,36)",
              "ticks": "outside"
             }
            },
            "type": "scatter"
           }
          ],
          "scatter3d": [
           {
            "line": {
             "colorbar": {
              "outlinewidth": 1,
              "tickcolor": "rgb(36,36,36)",
              "ticks": "outside"
             }
            },
            "marker": {
             "colorbar": {
              "outlinewidth": 1,
              "tickcolor": "rgb(36,36,36)",
              "ticks": "outside"
             }
            },
            "type": "scatter3d"
           }
          ],
          "scattercarpet": [
           {
            "marker": {
             "colorbar": {
              "outlinewidth": 1,
              "tickcolor": "rgb(36,36,36)",
              "ticks": "outside"
             }
            },
            "type": "scattercarpet"
           }
          ],
          "scattergeo": [
           {
            "marker": {
             "colorbar": {
              "outlinewidth": 1,
              "tickcolor": "rgb(36,36,36)",
              "ticks": "outside"
             }
            },
            "type": "scattergeo"
           }
          ],
          "scattergl": [
           {
            "marker": {
             "colorbar": {
              "outlinewidth": 1,
              "tickcolor": "rgb(36,36,36)",
              "ticks": "outside"
             }
            },
            "type": "scattergl"
           }
          ],
          "scattermapbox": [
           {
            "marker": {
             "colorbar": {
              "outlinewidth": 1,
              "tickcolor": "rgb(36,36,36)",
              "ticks": "outside"
             }
            },
            "type": "scattermapbox"
           }
          ],
          "scatterpolar": [
           {
            "marker": {
             "colorbar": {
              "outlinewidth": 1,
              "tickcolor": "rgb(36,36,36)",
              "ticks": "outside"
             }
            },
            "type": "scatterpolar"
           }
          ],
          "scatterpolargl": [
           {
            "marker": {
             "colorbar": {
              "outlinewidth": 1,
              "tickcolor": "rgb(36,36,36)",
              "ticks": "outside"
             }
            },
            "type": "scatterpolargl"
           }
          ],
          "scatterternary": [
           {
            "marker": {
             "colorbar": {
              "outlinewidth": 1,
              "tickcolor": "rgb(36,36,36)",
              "ticks": "outside"
             }
            },
            "type": "scatterternary"
           }
          ],
          "surface": [
           {
            "colorbar": {
             "outlinewidth": 1,
             "tickcolor": "rgb(36,36,36)",
             "ticks": "outside"
            },
            "colorscale": [
             [
              0,
              "#440154"
             ],
             [
              0.1111111111111111,
              "#482878"
             ],
             [
              0.2222222222222222,
              "#3e4989"
             ],
             [
              0.3333333333333333,
              "#31688e"
             ],
             [
              0.4444444444444444,
              "#26828e"
             ],
             [
              0.5555555555555556,
              "#1f9e89"
             ],
             [
              0.6666666666666666,
              "#35b779"
             ],
             [
              0.7777777777777778,
              "#6ece58"
             ],
             [
              0.8888888888888888,
              "#b5de2b"
             ],
             [
              1,
              "#fde725"
             ]
            ],
            "type": "surface"
           }
          ],
          "table": [
           {
            "cells": {
             "fill": {
              "color": "rgb(237,237,237)"
             },
             "line": {
              "color": "white"
             }
            },
            "header": {
             "fill": {
              "color": "rgb(217,217,217)"
             },
             "line": {
              "color": "white"
             }
            },
            "type": "table"
           }
          ]
         },
         "layout": {
          "annotationdefaults": {
           "arrowhead": 0,
           "arrowwidth": 1
          },
          "autotypenumbers": "strict",
          "coloraxis": {
           "colorbar": {
            "outlinewidth": 1,
            "tickcolor": "rgb(36,36,36)",
            "ticks": "outside"
           }
          },
          "colorscale": {
           "diverging": [
            [
             0,
             "rgb(103,0,31)"
            ],
            [
             0.1,
             "rgb(178,24,43)"
            ],
            [
             0.2,
             "rgb(214,96,77)"
            ],
            [
             0.3,
             "rgb(244,165,130)"
            ],
            [
             0.4,
             "rgb(253,219,199)"
            ],
            [
             0.5,
             "rgb(247,247,247)"
            ],
            [
             0.6,
             "rgb(209,229,240)"
            ],
            [
             0.7,
             "rgb(146,197,222)"
            ],
            [
             0.8,
             "rgb(67,147,195)"
            ],
            [
             0.9,
             "rgb(33,102,172)"
            ],
            [
             1,
             "rgb(5,48,97)"
            ]
           ],
           "sequential": [
            [
             0,
             "#440154"
            ],
            [
             0.1111111111111111,
             "#482878"
            ],
            [
             0.2222222222222222,
             "#3e4989"
            ],
            [
             0.3333333333333333,
             "#31688e"
            ],
            [
             0.4444444444444444,
             "#26828e"
            ],
            [
             0.5555555555555556,
             "#1f9e89"
            ],
            [
             0.6666666666666666,
             "#35b779"
            ],
            [
             0.7777777777777778,
             "#6ece58"
            ],
            [
             0.8888888888888888,
             "#b5de2b"
            ],
            [
             1,
             "#fde725"
            ]
           ],
           "sequentialminus": [
            [
             0,
             "#440154"
            ],
            [
             0.1111111111111111,
             "#482878"
            ],
            [
             0.2222222222222222,
             "#3e4989"
            ],
            [
             0.3333333333333333,
             "#31688e"
            ],
            [
             0.4444444444444444,
             "#26828e"
            ],
            [
             0.5555555555555556,
             "#1f9e89"
            ],
            [
             0.6666666666666666,
             "#35b779"
            ],
            [
             0.7777777777777778,
             "#6ece58"
            ],
            [
             0.8888888888888888,
             "#b5de2b"
            ],
            [
             1,
             "#fde725"
            ]
           ]
          },
          "colorway": [
           "#1F77B4",
           "#FF7F0E",
           "#2CA02C",
           "#D62728",
           "#9467BD",
           "#8C564B",
           "#E377C2",
           "#7F7F7F",
           "#BCBD22",
           "#17BECF"
          ],
          "font": {
           "color": "rgb(36,36,36)"
          },
          "geo": {
           "bgcolor": "white",
           "lakecolor": "white",
           "landcolor": "white",
           "showlakes": true,
           "showland": true,
           "subunitcolor": "white"
          },
          "hoverlabel": {
           "align": "left"
          },
          "hovermode": "closest",
          "mapbox": {
           "style": "light"
          },
          "paper_bgcolor": "white",
          "plot_bgcolor": "white",
          "polar": {
           "angularaxis": {
            "gridcolor": "rgb(232,232,232)",
            "linecolor": "rgb(36,36,36)",
            "showgrid": false,
            "showline": true,
            "ticks": "outside"
           },
           "bgcolor": "white",
           "radialaxis": {
            "gridcolor": "rgb(232,232,232)",
            "linecolor": "rgb(36,36,36)",
            "showgrid": false,
            "showline": true,
            "ticks": "outside"
           }
          },
          "scene": {
           "xaxis": {
            "backgroundcolor": "white",
            "gridcolor": "rgb(232,232,232)",
            "gridwidth": 2,
            "linecolor": "rgb(36,36,36)",
            "showbackground": true,
            "showgrid": false,
            "showline": true,
            "ticks": "outside",
            "zeroline": false,
            "zerolinecolor": "rgb(36,36,36)"
           },
           "yaxis": {
            "backgroundcolor": "white",
            "gridcolor": "rgb(232,232,232)",
            "gridwidth": 2,
            "linecolor": "rgb(36,36,36)",
            "showbackground": true,
            "showgrid": false,
            "showline": true,
            "ticks": "outside",
            "zeroline": false,
            "zerolinecolor": "rgb(36,36,36)"
           },
           "zaxis": {
            "backgroundcolor": "white",
            "gridcolor": "rgb(232,232,232)",
            "gridwidth": 2,
            "linecolor": "rgb(36,36,36)",
            "showbackground": true,
            "showgrid": false,
            "showline": true,
            "ticks": "outside",
            "zeroline": false,
            "zerolinecolor": "rgb(36,36,36)"
           }
          },
          "shapedefaults": {
           "fillcolor": "black",
           "line": {
            "width": 0
           },
           "opacity": 0.3
          },
          "ternary": {
           "aaxis": {
            "gridcolor": "rgb(232,232,232)",
            "linecolor": "rgb(36,36,36)",
            "showgrid": false,
            "showline": true,
            "ticks": "outside"
           },
           "baxis": {
            "gridcolor": "rgb(232,232,232)",
            "linecolor": "rgb(36,36,36)",
            "showgrid": false,
            "showline": true,
            "ticks": "outside"
           },
           "bgcolor": "white",
           "caxis": {
            "gridcolor": "rgb(232,232,232)",
            "linecolor": "rgb(36,36,36)",
            "showgrid": false,
            "showline": true,
            "ticks": "outside"
           }
          },
          "title": {
           "x": 0.05
          },
          "xaxis": {
           "automargin": true,
           "gridcolor": "rgb(232,232,232)",
           "linecolor": "rgb(36,36,36)",
           "showgrid": false,
           "showline": true,
           "ticks": "outside",
           "title": {
            "standoff": 15
           },
           "zeroline": false,
           "zerolinecolor": "rgb(36,36,36)"
          },
          "yaxis": {
           "automargin": true,
           "gridcolor": "rgb(232,232,232)",
           "linecolor": "rgb(36,36,36)",
           "showgrid": false,
           "showline": true,
           "ticks": "outside",
           "title": {
            "standoff": 15
           },
           "zeroline": false,
           "zerolinecolor": "rgb(36,36,36)"
          }
         }
        },
        "xaxis": {
         "title": {
          "text": "Time(s)"
         }
        },
        "yaxis": {
         "title": {
          "text": "Values"
         }
        }
       },
       "_py2js_animate": {},
       "_py2js_deleteTraces": {},
       "_py2js_moveTraces": {},
       "_py2js_removeLayoutProps": {},
       "_py2js_removeTraceProps": {},
       "_view_count": 1
      }
     },
     "46ce8d1ea8454634a4d4c8cc2c78ddaa": {
      "model_module": "@jupyter-widgets/controls",
      "model_module_version": "1.5.0",
      "model_name": "DescriptionStyleModel",
      "state": {
       "description_width": ""
      }
     },
     "46f02c79324246f3998057409fd5798c": {
      "model_module": "@jupyter-widgets/base",
      "model_module_version": "1.2.0",
      "model_name": "LayoutModel",
      "state": {}
     },
     "485b51c086b64c50bf9366b106e7e18a": {
      "model_module": "@jupyter-widgets/base",
      "model_module_version": "1.2.0",
      "model_name": "LayoutModel",
      "state": {}
     },
     "4d452d84406c4b9faf7b7bbad4ce804b": {
      "model_module": "@jupyter-widgets/base",
      "model_module_version": "1.2.0",
      "model_name": "LayoutModel",
      "state": {
       "border": "solid"
      }
     },
     "51e71e720c5748d2b0ad37e57fb008d9": {
      "model_module": "@jupyter-widgets/base",
      "model_module_version": "1.2.0",
      "model_name": "LayoutModel",
      "state": {}
     },
     "54a0fbf5ad384e3da0b22e534671dff5": {
      "model_module": "@jupyter-widgets/controls",
      "model_module_version": "1.5.0",
      "model_name": "DescriptionStyleModel",
      "state": {
       "description_width": ""
      }
     },
     "56078db69ed04f4797daf694cd67a88a": {
      "model_module": "@jupyter-widgets/base",
      "model_module_version": "1.2.0",
      "model_name": "LayoutModel",
      "state": {}
     },
     "56b282b56dc2467c8307e37c7c2e27b1": {
      "model_module": "@jupyter-widgets/controls",
      "model_module_version": "1.5.0",
      "model_name": "DescriptionStyleModel",
      "state": {
       "description_width": ""
      }
     },
     "5912eba9d6fa4154926c489a45b7b8a1": {
      "model_module": "@jupyter-widgets/controls",
      "model_module_version": "1.5.0",
      "model_name": "DescriptionStyleModel",
      "state": {
       "description_width": ""
      }
     },
     "5ccb8541c61240ada09c65a2ad2da02b": {
      "model_module": "@jupyter-widgets/base",
      "model_module_version": "1.2.0",
      "model_name": "LayoutModel",
      "state": {}
     },
     "5fa46efc99b0400da227430e590df616": {
      "model_module": "@jupyter-widgets/base",
      "model_module_version": "1.2.0",
      "model_name": "LayoutModel",
      "state": {}
     },
     "600959c692e040d8b3f2eef8072959af": {
      "model_module": "@jupyter-widgets/controls",
      "model_module_version": "1.5.0",
      "model_name": "DescriptionStyleModel",
      "state": {
       "description_width": ""
      }
     },
     "6099308ba5b541748d6a0b97a7282340": {
      "model_module": "@jupyter-widgets/base",
      "model_module_version": "1.2.0",
      "model_name": "LayoutModel",
      "state": {
       "border": "solid"
      }
     },
     "6807fc2677e04db285fb93c57d3c69e7": {
      "model_module": "@jupyter-widgets/base",
      "model_module_version": "1.2.0",
      "model_name": "LayoutModel",
      "state": {}
     },
     "6a3ea8c6c1c54003b8681f32cf51bffd": {
      "model_module": "@jupyter-widgets/controls",
      "model_module_version": "1.5.0",
      "model_name": "DescriptionStyleModel",
      "state": {
       "description_width": ""
      }
     },
     "71bf19fcb1c14089b20f25318d219ba2": {
      "model_module": "@jupyter-widgets/controls",
      "model_module_version": "1.5.0",
      "model_name": "DropdownModel",
      "state": {
       "_options_labels": [
        "1"
       ],
       "description": "gains:",
       "index": 0,
       "layout": "IPY_MODEL_a599e83bf98a4f248ef850fa34aac039",
       "style": "IPY_MODEL_56b282b56dc2467c8307e37c7c2e27b1"
      }
     },
     "71f066e8b7a04fd3b33f0ff0e02df662": {
      "model_module": "@jupyter-widgets/controls",
      "model_module_version": "1.5.0",
      "model_name": "ButtonStyleModel",
      "state": {}
     },
     "75ab1719135d4843ad49e3a032f92193": {
      "model_module": "@jupyter-widgets/controls",
      "model_module_version": "1.5.0",
      "model_name": "DescriptionStyleModel",
      "state": {
       "description_width": ""
      }
     },
     "75eb1cec147246988e50922cd923ac11": {
      "model_module": "@jupyter-widgets/controls",
      "model_module_version": "1.5.0",
      "model_name": "DescriptionStyleModel",
      "state": {
       "description_width": ""
      }
     },
     "77b7b80a09a14e9c86b3d9c71c54e2c3": {
      "model_module": "@jupyter-widgets/base",
      "model_module_version": "1.2.0",
      "model_name": "LayoutModel",
      "state": {}
     },
     "77b7d800220f46a593504215f6f526b3": {
      "model_module": "@jupyter-widgets/controls",
      "model_module_version": "1.5.0",
      "model_name": "DescriptionStyleModel",
      "state": {
       "description_width": ""
      }
     },
     "78e3b81971964dd6aa4d6973f28fa634": {
      "model_module": "@jupyter-widgets/base",
      "model_module_version": "1.2.0",
      "model_name": "LayoutModel",
      "state": {}
     },
     "7e4cccb0e7cc4181b28c9e522c70a9d9": {
      "model_module": "@jupyter-widgets/base",
      "model_module_version": "1.2.0",
      "model_name": "LayoutModel",
      "state": {}
     },
     "7f4a91b656044df48199e6bb1fdd99bc": {
      "model_module": "@jupyter-widgets/controls",
      "model_module_version": "1.5.0",
      "model_name": "DropdownModel",
      "state": {
       "_options_labels": [
        "1"
       ],
       "description": "gains:",
       "disabled": true,
       "index": 0,
       "layout": "IPY_MODEL_833061723d4a44a6b05256ad12ffe36c",
       "style": "IPY_MODEL_75ab1719135d4843ad49e3a032f92193"
      }
     },
     "81835baece514e47aa41512704da0ab3": {
      "model_module": "@jupyter-widgets/base",
      "model_module_version": "1.2.0",
      "model_name": "LayoutModel",
      "state": {}
     },
     "833061723d4a44a6b05256ad12ffe36c": {
      "model_module": "@jupyter-widgets/base",
      "model_module_version": "1.2.0",
      "model_name": "LayoutModel",
      "state": {}
     },
     "885ec2d726f642d8ae1ff657c02fd292": {
      "model_module": "@jupyter-widgets/controls",
      "model_module_version": "1.5.0",
      "model_name": "ButtonModel",
      "state": {
       "button_style": "info",
       "description": "Set Parameters",
       "disabled": true,
       "layout": "IPY_MODEL_46f02c79324246f3998057409fd5798c",
       "style": "IPY_MODEL_71f066e8b7a04fd3b33f0ff0e02df662",
       "tooltip": "Parameters locked. The run has started."
      }
     },
     "887fce7fa53546f4ae35b216166f6836": {
      "model_module": "@jupyter-widgets/controls",
      "model_module_version": "1.5.0",
      "model_name": "DescriptionStyleModel",
      "state": {
       "description_width": ""
      }
     },
     "89475baa03b84a4ca318b9d017a9cdc5": {
      "model_module": "@jupyter-widgets/base",
      "model_module_version": "1.2.0",
      "model_name": "LayoutModel",
      "state": {}
     },
     "89e466f24bf64bfdbaaf5059062f0dbd": {
      "model_module": "@jupyter-widgets/controls",
      "model_module_version": "1.5.0",
      "model_name": "DescriptionStyleModel",
      "state": {
       "description_width": ""
      }
     },
     "91094ead22e54c139b483667f4b43b5d": {
      "model_module": "@jupyter-widgets/controls",
      "model_module_version": "1.5.0",
      "model_name": "HBoxModel",
      "state": {
       "children": [
        null,
        "IPY_MODEL_274b1e4b44824fba9b70fb0c8b713164"
       ],
       "layout": "IPY_MODEL_e3fe5d3759b3429883bee2012e751367"
      }
     },
     "9268c743a77947f0af7bd0f2ddbc75cf": {
      "model_module": "@jupyter-widgets/base",
      "model_module_version": "1.2.0",
      "model_name": "LayoutModel",
      "state": {}
     },
     "92db1e129c0e4fd9ac0f7d503de7958e": {
      "model_module": "@jupyter-widgets/base",
      "model_module_version": "1.2.0",
      "model_name": "LayoutModel",
      "state": {}
     },
     "9b4f3c3c32e943f8a69482aac27d899e": {
      "model_module": "@jupyter-widgets/controls",
      "model_module_version": "1.5.0",
      "model_name": "DropdownModel",
      "state": {
       "_options_labels": [
        "0",
        "1",
        "2",
        "3"
       ],
       "description": "Channel:",
       "index": 0,
       "layout": "IPY_MODEL_51e71e720c5748d2b0ad37e57fb008d9",
       "style": "IPY_MODEL_54a0fbf5ad384e3da0b22e534671dff5"
      }
     },
     "a3635a43403546db830dc2b0dc68c9f5": {
      "model_module": "@jupyter-widgets/base",
      "model_module_version": "1.2.0",
      "model_name": "LayoutModel",
      "state": {}
     },
     "a44fb51de70e4e7782723775dd605dd6": {
      "model_module": "@jupyter-widgets/base",
      "model_module_version": "1.2.0",
      "model_name": "LayoutModel",
      "state": {}
     },
     "a5361561a83c476e80f4958ff5726928": {
      "model_module": "@jupyter-widgets/controls",
      "model_module_version": "1.5.0",
      "model_name": "DescriptionStyleModel",
      "state": {
       "description_width": ""
      }
     },
     "a599e83bf98a4f248ef850fa34aac039": {
      "model_module": "@jupyter-widgets/base",
      "model_module_version": "1.2.0",
      "model_name": "LayoutModel",
      "state": {}
     },
     "a640063f49d34124b2e4cde600b438db": {
      "model_module": "@jupyter-widgets/controls",
      "model_module_version": "1.5.0",
      "model_name": "DescriptionStyleModel",
      "state": {
       "description_width": ""
      }
     },
     "ac30ccab779e49d78ec0bca537f7367e": {
      "model_module": "@jupyter-widgets/controls",
      "model_module_version": "1.5.0",
      "model_name": "DescriptionStyleModel",
      "state": {
       "description_width": ""
      }
     },
     "af699eb05d8b4bffa241bdffe98a5d3c": {
      "model_module": "@jupyter-widgets/controls",
      "model_module_version": "1.5.0",
      "model_name": "DropdownModel",
      "state": {
       "_options_labels": [
        "0 ADCsym Random",
        "1 ADCsym Line"
       ],
       "description": "Board:",
       "index": 0,
       "layout": "IPY_MODEL_400238d1f5c64fab8867f380ee4b91c0",
       "style": "IPY_MODEL_5912eba9d6fa4154926c489a45b7b8a1"
      }
     },
     "b0d92dcc01794e8690618388be072f90": {
      "model_module": "@jupyter-widgets/controls",
      "model_module_version": "1.5.0",
      "model_name": "DropdownModel",
      "state": {
       "_options_labels": [
        "0 ADCsym Random",
        "1 ADCsym Line"
       ],
       "description": "Board:",
       "index": 0,
       "layout": "IPY_MODEL_2e2923063ade4067af342d25dd6d9e12",
       "style": "IPY_MODEL_a5361561a83c476e80f4958ff5726928"
      }
     },
     "b138e9171d094cfcba6433be3dbc1915": {
      "model_module": "@jupyter-widgets/base",
      "model_module_version": "1.2.0",
      "model_name": "LayoutModel",
      "state": {}
     },
     "b6cd6580885a4659836c69df2db7b94d": {
      "model_module": "@jupyter-widgets/base",
      "model_module_version": "1.2.0",
      "model_name": "LayoutModel",
      "state": {}
     },
     "b7eb7558744748d8bc10e0de276ccca2": {
      "model_module": "@jupyter-widgets/base",
      "model_module_version": "1.2.0",
      "model_name": "LayoutModel",
      "state": {
       "border": "solid"
      }
     },
     "b951e637f36a4c5a84670e499322e288": {
      "model_module": "@jupyter-widgets/base",
      "model_module_version": "1.2.0",
      "model_name": "LayoutModel",
      "state": {}
     },
     "bbf4a7f7b10f4ef6b1c0cda10c445782": {
      "model_module": "@jupyter-widgets/base",
      "model_module_version": "1.2.0",
      "model_name": "LayoutModel",
      "state": {}
     },
     "bc028b6417414b0d9148344a50480057": {
      "model_module": "@jupyter-widgets/base",
      "model_module_version": "1.2.0",
      "model_name": "LayoutModel",
      "state": {}
     },
     "bc7471a9dbdb419ab194623ca93f5b53": {
      "model_module": "@jupyter-widgets/controls",
      "model_module_version": "1.5.0",
      "model_name": "DescriptionStyleModel",
      "state": {
       "description_width": ""
      }
     },
     "bf4669d47dcc4ebdb8b949be5aa03255": {
      "model_module": "@jupyter-widgets/base",
      "model_module_version": "1.2.0",
      "model_name": "LayoutModel",
      "state": {}
     },
     "c0c6db68110a4356a98eaaab9481f60c": {
      "model_module": "@jupyter-widgets/controls",
      "model_module_version": "1.5.0",
      "model_name": "DescriptionStyleModel",
      "state": {
       "description_width": ""
      }
     },
     "c2ccb1726c0144c5b20e70d438581c07": {
      "model_module": "@jupyter-widgets/base",
      "model_module_version": "1.2.0",
      "model_name": "LayoutModel",
      "state": {}
     },
     "c55d986c2ea6452cbea9183cdde8eb08": {
      "model_module": "@jupyter-widgets/controls",
      "model_module_version": "1.5.0",
      "model_name": "DescriptionStyleModel",
      "state": {
       "description_width": ""
      }
     },
     "c6477be5df314d6da58e5dc8d92ee768": {
      "model_module": "@jupyter-widgets/controls",
      "model_module_version": "1.5.0",
      "model_name": "DescriptionStyleModel",
      "state": {
       "description_width": ""
      }
     },
     "c7a50ab6ef44420493b654f6672cfd64": {
      "model_module": "@jupyter-widgets/base",
      "model_module_version": "1.2.0",
      "model_name": "LayoutModel",
      "state": {}
     },
     "ca214638803f45879934c41947707cd4": {
      "model_module": "@jupyter-widgets/controls",
      "model_module_version": "1.5.0",
      "model_name": "CheckboxModel",
      "state": {
       "description": "Display multiple traces as stacked graphs. Uncheck to display all on the same graph.",
       "disabled": false,
       "layout": "IPY_MODEL_2ff67f27aa3347b587007f5e0eb0a472",
       "style": "IPY_MODEL_e12f236fbe4149b29f676816fcb40df9",
       "value": false
      }
     },
     "cd7a7518b66741d69c4a6201f9d09ace": {
      "model_module": "@jupyter-widgets/controls",
      "model_module_version": "1.5.0",
      "model_name": "DescriptionStyleModel",
      "state": {
       "description_width": ""
      }
     },
     "cf592d24446746c887459d67c8b565e0": {
      "model_module": "@jupyter-widgets/base",
      "model_module_version": "1.2.0",
      "model_name": "LayoutModel",
      "state": {}
     },
     "d0901b1c2f184b48902737fa01522634": {
      "model_module": "@jupyter-widgets/base",
      "model_module_version": "1.2.0",
      "model_name": "LayoutModel",
      "state": {}
     },
     "d38fde08013f4050beb18e7e51b42c8e": {
      "model_module": "@jupyter-widgets/controls",
      "model_module_version": "1.5.0",
      "model_name": "DescriptionStyleModel",
      "state": {
       "description_width": ""
      }
     },
     "dc597eadbbaa4020b9c4e4970aa64278": {
      "model_module": "@jupyter-widgets/controls",
      "model_module_version": "1.5.0",
      "model_name": "TextModel",
      "state": {
       "description": "X-axis label (time):",
       "disabled": true,
       "layout": "IPY_MODEL_92db1e129c0e4fd9ac0f7d503de7958e",
       "placeholder": "Type something",
       "style": "IPY_MODEL_89e466f24bf64bfdbaaf5059062f0dbd",
       "value": "Time(s)"
      }
     },
     "dc73f40ea05b4cebabc8096e9dd710bb": {
      "model_module": "@jupyter-widgets/base",
      "model_module_version": "1.2.0",
      "model_name": "LayoutModel",
      "state": {}
     },
     "e12f236fbe4149b29f676816fcb40df9": {
      "model_module": "@jupyter-widgets/controls",
      "model_module_version": "1.5.0",
      "model_name": "DescriptionStyleModel",
      "state": {
       "description_width": ""
      }
     },
     "e3577475a8444ed08858d8cc2a9e624f": {
      "model_module": "@jupyter-widgets/base",
      "model_module_version": "1.2.0",
      "model_name": "LayoutModel",
      "state": {}
     },
     "e3fe5d3759b3429883bee2012e751367": {
      "model_module": "@jupyter-widgets/base",
      "model_module_version": "1.2.0",
      "model_name": "LayoutModel",
      "state": {}
     },
     "e52982ffc4974e0b950698afeebb5e73": {
      "model_module": "@jupyter-widgets/base",
      "model_module_version": "1.2.0",
      "model_name": "LayoutModel",
      "state": {}
     },
     "e5fe5ce1794844b5bfc216553b7f5ed2": {
      "model_module": "@jupyter-widgets/controls",
      "model_module_version": "1.5.0",
      "model_name": "DropdownModel",
      "state": {
       "_options_labels": [
        "0 ADCsym Random",
        "1 ADCsym Line"
       ],
       "description": "Board:",
       "disabled": true,
       "index": 0,
       "layout": "IPY_MODEL_d0901b1c2f184b48902737fa01522634",
       "style": "IPY_MODEL_d38fde08013f4050beb18e7e51b42c8e"
      }
     },
     "e98a9a7d1a6f428bb22d428dd8c6f96e": {
      "model_module": "@jupyter-widgets/controls",
      "model_module_version": "1.5.0",
      "model_name": "DropdownModel",
      "state": {
       "_options_labels": [
        "0",
        "1",
        "2",
        "3"
       ],
       "description": "Channel:",
       "disabled": true,
       "index": 0,
       "layout": "IPY_MODEL_a3635a43403546db830dc2b0dc68c9f5",
       "style": "IPY_MODEL_1149d148267f432b82f0f9f422e55762"
      }
     },
     "ec021384438d4a2d8a79b44fa923d749": {
      "model_module": "@jupyter-widgets/controls",
      "model_module_version": "1.5.0",
      "model_name": "HBoxModel",
      "state": {
       "children": [
        "IPY_MODEL_00d5a52a2f844d02ae40a187a04d993a",
        "IPY_MODEL_dc597eadbbaa4020b9c4e4970aa64278",
        "IPY_MODEL_885ec2d726f642d8ae1ff657c02fd292"
       ],
       "layout": "IPY_MODEL_0b0601bf41bd415abd56858024dc7e6c"
      }
     },
     "ed675fccb76346b6a84804b49f33ce7a": {
      "model_module": "@jupyter-widgets/controls",
      "model_module_version": "1.5.0",
      "model_name": "DescriptionStyleModel",
      "state": {
       "description_width": ""
      }
     },
     "eef940c1f47a4ed991ae6da72496f0d2": {
      "model_module": "@jupyter-widgets/controls",
      "model_module_version": "1.5.0",
      "model_name": "DescriptionStyleModel",
      "state": {
       "description_width": ""
      }
     },
     "f682aa32ba3a4f2fb2d909def841ebe7": {
      "model_module": "@jupyter-widgets/base",
      "model_module_version": "1.2.0",
      "model_name": "LayoutModel",
      "state": {}
     },
     "fcd90d0d8f0a4215be755a1408219b8a": {
      "model_module": "@jupyter-widgets/controls",
      "model_module_version": "1.5.0",
      "model_name": "DescriptionStyleModel",
      "state": {
       "description_width": ""
      }
     }
    },
    "version_major": 2,
    "version_minor": 0
   }
  }
 },
 "nbformat": 4,
 "nbformat_minor": 5
}
